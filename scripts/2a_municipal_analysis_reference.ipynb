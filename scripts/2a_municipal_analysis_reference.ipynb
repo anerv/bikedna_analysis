{
 "cells": [
  {
   "attachments": {},
   "cell_type": "markdown",
   "metadata": {},
   "source": [
    "# Analysis of GeoDanmark at the municipal level\n",
    "\n",
    "This notebook explores the quality of reference data, based on the results from running BikeDNA BIG, at the municipal level.\n",
    "\n",
    "The notebook indexes the data aggregated at the grid level by municipality and computes a number of metrics such as municipal infrastructure density, density per 1000 people, components and topology errors compared to infrastructure length and density, etc.\n",
    "\n",
    "For required data sets, see the README for this repository.\n",
    "\n",
    "Results are saved to subfolders in the `results/ref_analysis/[study_area]/` folder.\n",
    "\n",
    "**Content:**\n",
    "\n",
    "* [Index data by municipality](#Index-data-by-municipality)\n",
    "* [Bicycle infrastructure densities](#bicycle-infrastructure-densities)\n",
    "* [Topology errors per municipality](#topology-errors-per-municipality)\n",
    "* [Components per municipality](#components-per-municipality)\n",
    "* [Correlations between quality metrics](#correlations-between-quality-metrics)"
   ]
  },
  {
   "cell_type": "code",
   "execution_count": 3,
   "metadata": {},
   "outputs": [
    {
     "name": "stderr",
     "output_type": "stream",
     "text": [
      "/opt/miniconda3/envs/bikedna_analysis/lib/python3.11/site-packages/pysal/explore/segregation/network/network.py:15: UserWarning: You need pandana and urbanaccess to work with segregation's network module\n",
      "You can install them with  `pip install urbanaccess pandana` or `conda install -c udst pandana urbanaccess`\n",
      "  warn(\n",
      "/opt/miniconda3/envs/bikedna_analysis/lib/python3.11/site-packages/pysal/model/spvcm/abstracts.py:10: UserWarning: The `dill` module is required to use the sqlite backend fully.\n",
      "  from .sqlite import head_to_sql, start_sql\n"
     ]
    },
    {
     "name": "stdout",
     "output_type": "stream",
     "text": [
      "Reference data loaded successfully!\n"
     ]
    }
   ],
   "source": [
    "import geopandas as gpd\n",
    "import matplotlib.pyplot as plt\n",
    "import pickle\n",
    "import json\n",
    "import pandas as pd\n",
    "import seaborn as sns\n",
    "import plotly.express as px\n",
    "import h3\n",
    "\n",
    "from src import evaluation_functions as eval_func\n",
    "\n",
    "%run ../settings/yaml_variables.py\n",
    "%run ../settings/df_styler.py\n",
    "%run ../settings/plotting.py\n",
    "%run ../settings/load_refdata.py\n",
    "%run ../settings/paths.py"
   ]
  },
  {
   "cell_type": "markdown",
   "metadata": {},
   "source": [
    "## Index data by municipality"
   ]
  },
  {
   "cell_type": "code",
   "execution_count": 4,
   "metadata": {},
   "outputs": [
    {
     "data": {
      "text/html": [
       "<style type=\"text/css\">\n",
       "#T_4fbf7 td:hover {\n",
       "  background-color: #ffffb3;\n",
       "}\n",
       "#T_4fbf7 tr:hover {\n",
       "  background-color: #eff7fa;\n",
       "}\n",
       "#T_4fbf7 th {\n",
       "  color: #f87d2a;\n",
       "  font-size: 14px;\n",
       "}\n",
       "#T_4fbf7 caption {\n",
       "  caption-side: top;\n",
       "  text-align: center;\n",
       "  font-weight: bold;\n",
       "  font-size: 20px;\n",
       "  color: white;\n",
       "  background-color: #f87d2a;\n",
       "}\n",
       "#T_4fbf7 .index_name {\n",
       "  color: #f87d2a;\n",
       "  font-size: 14px;\n",
       "}\n",
       "#T_4fbf7 td {\n",
       "  text-align: center;\n",
       "  font-weight: bold;\n",
       "}\n",
       "#T_4fbf7_level0_row0, #T_4fbf7_level0_row1, #T_4fbf7_level0_row2, #T_4fbf7_level0_row3, #T_4fbf7_level0_row4, #T_4fbf7_level0_row5, #T_4fbf7_level0_row6, #T_4fbf7_level0_row7, #T_4fbf7_level0_row8, #T_4fbf7_level0_row9, #T_4fbf7_level0_row10, #T_4fbf7_level0_row11, #T_4fbf7_level0_row12, #T_4fbf7_level0_row13, #T_4fbf7_level0_row14 {\n",
       "  color: #f87d2a;\n",
       "  font-size: 14px;\n",
       "}\n",
       "</style>\n",
       "<table id=\"T_4fbf7\">\n",
       "  <caption>Intrinsic Quality Metrics - GeoDanmark data</caption>\n",
       "  <thead>\n",
       "    <tr>\n",
       "      <th class=\"blank level0\" >&nbsp;</th>\n",
       "      <th id=\"T_4fbf7_level0_col0\" class=\"col_heading level0 col0\" > </th>\n",
       "    </tr>\n",
       "  </thead>\n",
       "  <tbody>\n",
       "    <tr>\n",
       "      <th id=\"T_4fbf7_level0_row0\" class=\"row_heading level0 row0\" >Total infrastructure length (km)</th>\n",
       "      <td id=\"T_4fbf7_row0_col0\" class=\"data row0 col0\" >8,676</td>\n",
       "    </tr>\n",
       "    <tr>\n",
       "      <th id=\"T_4fbf7_level0_row1\" class=\"row_heading level0 row1\" >Protected bicycle infrastructure density (m/km2)</th>\n",
       "      <td id=\"T_4fbf7_row1_col0\" class=\"data row1 col0\" >92</td>\n",
       "    </tr>\n",
       "    <tr>\n",
       "      <th id=\"T_4fbf7_level0_row2\" class=\"row_heading level0 row2\" >Unprotected bicycle infrastructure density (m/km2)</th>\n",
       "      <td id=\"T_4fbf7_row2_col0\" class=\"data row2 col0\" >95</td>\n",
       "    </tr>\n",
       "    <tr>\n",
       "      <th id=\"T_4fbf7_level0_row3\" class=\"row_heading level0 row3\" >Mixed protection bicycle infrastructure density (m/km2)</th>\n",
       "      <td id=\"T_4fbf7_row3_col0\" class=\"data row3 col0\" >0</td>\n",
       "    </tr>\n",
       "    <tr>\n",
       "      <th id=\"T_4fbf7_level0_row4\" class=\"row_heading level0 row4\" >Bicycle infrastructure density (m/km2)</th>\n",
       "      <td id=\"T_4fbf7_row4_col0\" class=\"data row4 col0\" >187</td>\n",
       "    </tr>\n",
       "    <tr>\n",
       "      <th id=\"T_4fbf7_level0_row5\" class=\"row_heading level0 row5\" >Nodes</th>\n",
       "      <td id=\"T_4fbf7_row5_col0\" class=\"data row5 col0\" >51,224</td>\n",
       "    </tr>\n",
       "    <tr>\n",
       "      <th id=\"T_4fbf7_level0_row6\" class=\"row_heading level0 row6\" >Dangling nodes</th>\n",
       "      <td id=\"T_4fbf7_row6_col0\" class=\"data row6 col0\" >11,218</td>\n",
       "    </tr>\n",
       "    <tr>\n",
       "      <th id=\"T_4fbf7_level0_row7\" class=\"row_heading level0 row7\" >Nodes per km2</th>\n",
       "      <td id=\"T_4fbf7_row7_col0\" class=\"data row7 col0\" >1</td>\n",
       "    </tr>\n",
       "    <tr>\n",
       "      <th id=\"T_4fbf7_level0_row8\" class=\"row_heading level0 row8\" >Dangling nodes per km2</th>\n",
       "      <td id=\"T_4fbf7_row8_col0\" class=\"data row8 col0\" >0</td>\n",
       "    </tr>\n",
       "    <tr>\n",
       "      <th id=\"T_4fbf7_level0_row9\" class=\"row_heading level0 row9\" >Overshoots</th>\n",
       "      <td id=\"T_4fbf7_row9_col0\" class=\"data row9 col0\" >99</td>\n",
       "    </tr>\n",
       "    <tr>\n",
       "      <th id=\"T_4fbf7_level0_row10\" class=\"row_heading level0 row10\" >Undershoots</th>\n",
       "      <td id=\"T_4fbf7_row10_col0\" class=\"data row10 col0\" >339</td>\n",
       "    </tr>\n",
       "    <tr>\n",
       "      <th id=\"T_4fbf7_level0_row11\" class=\"row_heading level0 row11\" >Components</th>\n",
       "      <td id=\"T_4fbf7_row11_col0\" class=\"data row11 col0\" >4,408</td>\n",
       "    </tr>\n",
       "    <tr>\n",
       "      <th id=\"T_4fbf7_level0_row12\" class=\"row_heading level0 row12\" >Length of largest component (km)</th>\n",
       "      <td id=\"T_4fbf7_row12_col0\" class=\"data row12 col0\" >1,018</td>\n",
       "    </tr>\n",
       "    <tr>\n",
       "      <th id=\"T_4fbf7_level0_row13\" class=\"row_heading level0 row13\" >Largest component's share of network length</th>\n",
       "      <td id=\"T_4fbf7_row13_col0\" class=\"data row13 col0\" >12%</td>\n",
       "    </tr>\n",
       "    <tr>\n",
       "      <th id=\"T_4fbf7_level0_row14\" class=\"row_heading level0 row14\" >Component gaps</th>\n",
       "      <td id=\"T_4fbf7_row14_col0\" class=\"data row14 col0\" >3,756</td>\n",
       "    </tr>\n",
       "  </tbody>\n",
       "</table>\n"
      ],
      "text/plain": [
       "<pandas.io.formats.style.Styler at 0x118c5a390>"
      ]
     },
     "execution_count": 4,
     "metadata": {},
     "output_type": "execute_result"
    }
   ],
   "source": [
    "# Read intrinsic grid results\n",
    "with open(\n",
    "    f\"../results/reference/{study_area}/data/grid_results_intrinsic.pickle\", \"rb\"\n",
    ") as fp:\n",
    "    ref_intrinsic_grid = pickle.load(fp)\n",
    "\n",
    "# Import intrinsic results\n",
    "ref_intrinsic_file = open(\n",
    "    f\"../results/reference/{study_area}/data/intrinsic_analysis.json\"\n",
    ")\n",
    "\n",
    "ref_intrinsic_results = json.load(ref_intrinsic_file)\n",
    "\n",
    "# Import summary dataframe\n",
    "summarize_results_df = pd.read_csv(\n",
    "    f\"../results/reference/{study_area}/data/intrinsic_summary_results.csv\", index_col=0\n",
    ")\n",
    "\n",
    "summarize_results_df.style.pipe(format_ref_style)\n"
   ]
  },
  {
   "cell_type": "markdown",
   "metadata": {},
   "source": [
    "**Get municipal boundaries**"
   ]
  },
  {
   "cell_type": "code",
   "execution_count": 5,
   "metadata": {},
   "outputs": [],
   "source": [
    "# Read muni data\n",
    "muni = gpd.read_file(muni_polygons_fp)\n",
    "\n",
    "# If another data set is used, update the original columns names here\n",
    "# Assumes a unique name and id column.\n",
    "rename_dict = {\"navn\": \"name\", \"kommunekode\": \"municipal_id\"}\n",
    "\n",
    "muni.rename(rename_dict, axis=1, inplace=True)\n",
    "\n",
    "muni = muni[[\"name\", \"municipal_id\", \"geometry\"]]\n",
    "assert muni.crs == study_crs\n"
   ]
  },
  {
   "attachments": {},
   "cell_type": "markdown",
   "metadata": {},
   "source": [
    "**Assign municipal ID/name to all grid cells**"
   ]
  },
  {
   "cell_type": "code",
   "execution_count": 6,
   "metadata": {},
   "outputs": [],
   "source": [
    "# Assign municipal name and id to each hex cell based on centroid overlap\n",
    "ref_intrinsic_grid.dropna(subset=\"count_ref_edges\", inplace=True)\n",
    "\n",
    "grid_centroids = ref_intrinsic_grid[[\"geometry\", \"grid_id\", \"count_ref_edges\"]].copy()\n",
    "grid_centroids[\"geometry\"] = grid_centroids.geometry.centroid\n",
    "\n",
    "joined_int_grid = eval_func.index_by_muni(grid_centroids, muni)\n",
    "\n",
    "int_grid = ref_intrinsic_grid.merge(\n",
    "    joined_int_grid[[\"grid_id\", \"name\", \"municipal_id\"]],\n",
    "    left_on=\"grid_id\",\n",
    "    right_on=\"grid_id\",\n",
    ")\n",
    "assert len(int_grid) == len(ref_intrinsic_grid)\n"
   ]
  },
  {
   "attachments": {},
   "cell_type": "markdown",
   "metadata": {},
   "source": [
    "**Index nodes and edges by municipality**"
   ]
  },
  {
   "cell_type": "code",
   "execution_count": 7,
   "metadata": {},
   "outputs": [],
   "source": [
    "# Index nodes and edges by municipality\n",
    "muni_edges = eval_func.index_by_muni(ref_edges_simplified, muni, assert_len=False)\n",
    "\n",
    "muni_nodes = eval_func.index_by_muni(\n",
    "    ref_nodes_simplified, muni, assert_len=True, drop_dupli=True, dupli_id=\"nodeID\"\n",
    ")\n",
    "assert len(muni_nodes) == len(muni_nodes.nodeID.unique())\n",
    "\n",
    "# Recompute length - for GeoDK, infra length is equal to geom length\n",
    "muni_edges[\"infrastructure_length\"] = muni_edges.geometry.length\n",
    "\n",
    "# Index dangling nodes by muni\n",
    "muni_dang = eval_func.index_by_muni(\n",
    "    ref_dangling, muni, assert_len=True, drop_dupli=True, dupli_id=\"nodeID\"\n",
    ")\n",
    "assert len(muni_dang) == len(muni_dang.nodeID.unique())\n",
    "\n",
    "# Group by muni\n",
    "grouped_edges = muni_edges.groupby(\"name\")\n",
    "grouped_nodes = muni_nodes.groupby(\"name\")\n",
    "grouped_dangling = muni_dang.groupby(\"name\")\n",
    "\n",
    "# Turn into dataframe\n",
    "muni_infra = grouped_edges[\"infrastructure_length\"].sum().to_frame()\n",
    "\n",
    "muni_node_count = grouped_nodes.size().to_frame(\"node_count\")\n",
    "\n",
    "muni_dang_count = grouped_dangling.size().to_frame(\"dangling_node_count\")\n",
    "\n",
    "muni_network_counts = pd.merge(\n",
    "    pd.merge(muni_infra, muni_node_count, left_index=True, right_index=True),\n",
    "    muni_dang_count,\n",
    "    left_index=True,\n",
    "    right_index=True,\n",
    ")\n",
    "\n",
    "assert len(muni_network_counts) == 98\n"
   ]
  },
  {
   "attachments": {},
   "cell_type": "markdown",
   "metadata": {},
   "source": [
    "**Index over and undershoots by municipality**"
   ]
  },
  {
   "cell_type": "code",
   "execution_count": 8,
   "metadata": {},
   "outputs": [],
   "source": [
    "# Join over and undershoot to muni\n",
    "overshoot_edge_ids = pd.read_csv(ref_results_data_fp + \"overshoot_edges_3.csv\")\n",
    "undershoot_node_ids = pd.read_csv(ref_results_data_fp + \"undershoot_nodes_3.csv\")\n",
    "\n",
    "undershoots = ref_nodes_simplified[\n",
    "    ref_nodes_simplified.nodeID.isin(undershoot_node_ids.node_id)\n",
    "]\n",
    "assert len(undershoot_node_ids) == len(undershoots)\n",
    "\n",
    "overshoots = ref_edges_simplified[\n",
    "    ref_edges_simplified.edge_id.isin(overshoot_edge_ids.edge_id)\n",
    "]\n",
    "assert len(overshoot_edge_ids) == len(overshoots)\n",
    "\n",
    "# Join to muni\n",
    "over_muni = overshoots[[\"edge_id\", \"geometry\"]].sjoin(\n",
    "    muni, how=\"left\", predicate=\"intersects\"\n",
    ")\n",
    "\n",
    "under_muni = undershoots[[\"nodeID\", \"geometry\"]].sjoin(\n",
    "    muni, how=\"left\", predicate=\"intersects\"\n",
    ")\n",
    "\n",
    "assert len(over_muni) == len(overshoots)\n",
    "assert len(under_muni) == len(undershoots)\n",
    "\n",
    "# Group by muni and count\n",
    "over_df = over_muni.groupby(\"name\").size().to_frame(\"overshoots\")\n",
    "\n",
    "under_df = under_muni.groupby(\"name\").size().to_frame(\"undershoots\")\n",
    "\n",
    "# Combine with muni_network\n",
    "muni_network_counts = pd.merge(\n",
    "    muni_network_counts, over_df, left_on=\"name\", right_on=\"name\", how=\"left\"\n",
    ")\n",
    "assert len(muni_network_counts) == 98\n",
    "\n",
    "muni_network_counts = pd.merge(\n",
    "    muni_network_counts, under_df, left_on=\"name\", right_on=\"name\", how=\"left\"\n",
    ")\n",
    "assert len(muni_network_counts) == 98\n",
    "\n",
    "muni_network_counts[\"over_under\"] = (\n",
    "    muni_network_counts.overshoots + muni_network_counts.undershoots\n",
    ")\n",
    "muni_network_counts[\"over_under\"].fillna(0, inplace=True)\n"
   ]
  },
  {
   "attachments": {},
   "cell_type": "markdown",
   "metadata": {},
   "source": [
    "**Join over and undershoots to grid cells**"
   ]
  },
  {
   "cell_type": "code",
   "execution_count": 9,
   "metadata": {},
   "outputs": [],
   "source": [
    "# Join over and undershoots to grid ids\n",
    "overshoots_grid = (\n",
    "    overshoots[[\"edge_id\", \"geometry\"]]\n",
    "    .sjoin(int_grid, how=\"left\")\n",
    "    .drop_duplicates(subset=\"edge_id\", keep=\"first\")[[\"grid_id\"]]\n",
    "    .reset_index(drop=True)\n",
    ")\n",
    "undershoots_grid = (\n",
    "    undershoots[[\"nodeID\", \"geometry\"]]\n",
    "    .sjoin(int_grid, how=\"left\")\n",
    "    .drop_duplicates(subset=\"nodeID\", keep=\"first\")[[\"grid_id\"]]\n",
    "    .reset_index(drop=True)\n",
    ")\n",
    "\n",
    "over_grid_grouped = (\n",
    "    overshoots_grid.groupby(\"grid_id\").size().to_frame(\"overshoots_count\")\n",
    ")\n",
    "under_grid_grouped = (\n",
    "    undershoots_grid.groupby(\"grid_id\").size().to_frame(\"undershoots_count\")\n",
    ")\n",
    "\n",
    "int_grid_org_len = len(int_grid)\n",
    "\n",
    "int_grid = int_grid.merge(\n",
    "    over_grid_grouped, left_on=\"grid_id\", right_on=\"grid_id\", how=\"left\"\n",
    ")\n",
    "assert len(int_grid) == int_grid_org_len\n",
    "\n",
    "int_grid = int_grid.merge(\n",
    "    under_grid_grouped, left_on=\"grid_id\", right_on=\"grid_id\", how=\"left\"\n",
    ")\n",
    "assert len(int_grid) == int_grid_org_len\n",
    "\n",
    "int_grid[\"overshoots_count\"].fillna(0, inplace=True)\n",
    "int_grid[\"undershoots_count\"].fillna(0, inplace=True)\n"
   ]
  },
  {
   "attachments": {},
   "cell_type": "markdown",
   "metadata": {},
   "source": [
    "**Join component gaps to municipality**"
   ]
  },
  {
   "cell_type": "code",
   "execution_count": 10,
   "metadata": {},
   "outputs": [],
   "source": [
    "comp_gaps = gpd.read_file(ref_results_data_fp + \"component_gaps_centroids_10.gpkg\")\n",
    "comp_gaps.head()\n",
    "\n",
    "# Join to muni\n",
    "gaps_muni = comp_gaps.sjoin(muni, how=\"left\", predicate=\"intersects\")\n",
    "\n",
    "assert len(gaps_muni) == len(comp_gaps)\n",
    "\n",
    "# Group by muni and count\n",
    "gaps_df = gaps_muni.groupby(\"name\").size().to_frame(\"component_gaps\")\n",
    "\n",
    "# Combine with muni_network\n",
    "muni_network_counts = pd.merge(\n",
    "    muni_network_counts, gaps_df, left_on=\"name\", right_on=\"name\", how=\"left\"\n",
    ")\n",
    "assert len(muni_network_counts) == 98\n",
    "\n",
    "muni_network_counts[\"component_gaps\"] = muni_network_counts.component_gaps.fillna(\n",
    "    0\n",
    ").astype(int)\n"
   ]
  },
  {
   "attachments": {},
   "cell_type": "markdown",
   "metadata": {},
   "source": [
    "**Join component gaps to grid cells**"
   ]
  },
  {
   "cell_type": "code",
   "execution_count": 11,
   "metadata": {},
   "outputs": [],
   "source": [
    "comp_gaps[\"gap_id\"] = comp_gaps.index\n",
    "\n",
    "gaps_grid = (\n",
    "    comp_gaps[[\"gap_id\", \"geometry\"]]\n",
    "    .sjoin(int_grid, how=\"left\")\n",
    "    .drop_duplicates(subset=\"gap_id\", keep=\"first\")[[\"grid_id\"]]\n",
    "    .reset_index(drop=True)\n",
    ")\n",
    "assert len(gaps_grid) == len(comp_gaps)\n",
    "\n",
    "gaps_grouped = gaps_grid.groupby(\"grid_id\").size().to_frame(\"component_gaps\")\n",
    "\n",
    "int_grid_org_len = len(int_grid)\n",
    "\n",
    "int_grid = int_grid.merge(\n",
    "    gaps_grouped, left_on=\"grid_id\", right_on=\"grid_id\", how=\"left\"\n",
    ")\n",
    "assert len(int_grid) == int_grid_org_len\n",
    "\n",
    "int_grid[\"component_gaps\"] = int_grid[\"component_gaps\"].fillna(0).astype(int)\n"
   ]
  },
  {
   "cell_type": "markdown",
   "metadata": {},
   "source": [
    "**Index components by municipality**"
   ]
  },
  {
   "cell_type": "code",
   "execution_count": 12,
   "metadata": {},
   "outputs": [],
   "source": [
    "muni_grid = int_grid.groupby(\"name\")\n",
    "\n",
    "muni_components = {}\n",
    "\n",
    "for name, group in muni_grid:\n",
    "    nested_list = group.component_ids_ref.to_list()\n",
    "    flat_list = list(set([item for sublist in nested_list for item in sublist]))\n",
    "\n",
    "    muni_components[name] = len(flat_list)\n",
    "\n",
    "muni_comp_df = (\n",
    "    pd.DataFrame.from_dict(muni_components, orient=\"index\", columns=[\"component_count\"])\n",
    "    .reset_index()\n",
    "    .rename({\"index\": \"name\"}, axis=1)\n",
    ")\n",
    "assert len(muni_comp_df) == 98\n",
    "\n",
    "muni_network_counts = muni_network_counts.merge(\n",
    "    muni_comp_df, left_on=\"name\", right_on=\"name\", how=\"left\"\n",
    ")\n",
    "assert len(muni_network_counts) == 98\n",
    "\n",
    "# Compute municipal components per infrastructure\n",
    "muni_network_counts[\"infra_km\"] = round(\n",
    "    muni_network_counts.infrastructure_length / 1000, 3\n",
    ")\n",
    "\n",
    "muni_network_counts[\"comp_per_km\"] = round(\n",
    "    muni_network_counts.component_count / muni_network_counts.infra_km, 2\n",
    ")\n"
   ]
  },
  {
   "cell_type": "markdown",
   "metadata": {},
   "source": [
    "## Bicycle infrastructure densities\n",
    "\n",
    "**Plot length of bicycle infrastructure, bicycle infrastructure density and infrastructure per 1000 people**"
   ]
  },
  {
   "cell_type": "code",
   "execution_count": 14,
   "metadata": {},
   "outputs": [
    {
     "data": {
      "image/png": "[encoded data removed]",
      "text/plain": [
       "<Figure size 2000x2000 with 1 Axes>"
      ]
     },
     "metadata": {},
     "output_type": "display_data"
    },
    {
     "data": {
      "image/png": "[encoded data removed]",
      "text/plain": [
       "<Figure size 2000x2000 with 1 Axes>"
      ]
     },
     "metadata": {},
     "output_type": "display_data"
    },
    {
     "data": {
      "image/png": "[encoded data removed]",
      "text/plain": [
       "<Figure size 2000x2000 with 1 Axes>"
      ]
     },
     "metadata": {},
     "output_type": "display_data"
    }
   ],
   "source": [
    "# Plot km of bicycle infra per muni\n",
    "muni_network_counts[\"infra_km\"] = round(\n",
    "    muni_network_counts.infrastructure_length / 1000, 3\n",
    ")\n",
    "\n",
    "fig, ax = plt.subplots(figsize=(20, 20))\n",
    "sns.barplot(\n",
    "    muni_network_counts.reset_index().sort_values(\"infra_km\"),\n",
    "    x=\"name\",\n",
    "    y=\"infra_km\",\n",
    "    ax=ax,\n",
    "    color=\"red\",\n",
    ")\n",
    "plt.xticks(rotation=45, ha=\"right\")\n",
    "plt.xlabel(\"\")\n",
    "plt.ylabel(\"KM\")\n",
    "plt.title(\"Bicycle Infrastructure\")\n",
    "\n",
    "# Plot infra density per muni\n",
    "muni[\"area_sqkm\"] = round(muni.area / 1000000, 2)\n",
    "\n",
    "muni_network_counts = muni_network_counts.merge(\n",
    "    muni[[\"name\", \"area_sqkm\"]], left_on=\"name\", right_on=\"name\"\n",
    ")\n",
    "\n",
    "muni_network_counts[\"infra_dens\"] = round(\n",
    "    muni_network_counts.infra_km / muni_network_counts.area_sqkm, 3\n",
    ")\n",
    "\n",
    "fig, ax = plt.subplots(figsize=(20, 20))\n",
    "sns.barplot(\n",
    "    muni_network_counts.reset_index().sort_values(\"infra_dens\"),\n",
    "    x=\"name\",\n",
    "    y=\"infra_dens\",\n",
    "    ax=ax,\n",
    "    color=\"red\",\n",
    ")\n",
    "plt.xticks(rotation=45, ha=\"right\")\n",
    "plt.xlabel(\"\")\n",
    "plt.ylabel(\"KM/SQKM\")\n",
    "plt.title(\"Bicycle Infrastructure Density\")\n",
    "\n",
    "# Plot infra per pop\n",
    "muni_pop = pd.read_csv(muni_pop_fp, encoding=\"ISO-8859-1\", header=None)\n",
    "muni_pop.rename({1: \"name\", 2: \"pop\"}, inplace=True, axis=1)\n",
    "\n",
    "muni_network_counts = muni_network_counts.merge(\n",
    "    muni_pop[[\"name\", \"pop\"]], left_on=\"name\", right_on=\"name\"\n",
    ")\n",
    "assert len(muni_network_counts) == 98\n",
    "\n",
    "muni_network_counts[\"infra_pop\"] = muni_network_counts.infra_km / (\n",
    "    muni_network_counts[\"pop\"] / 1000\n",
    ")\n",
    "\n",
    "fig, ax = plt.subplots(figsize=(20, 20))\n",
    "sns.barplot(\n",
    "    muni_network_counts.reset_index().sort_values(\"infra_pop\"),\n",
    "    x=\"name\",\n",
    "    y=\"infra_pop\",\n",
    "    ax=ax,\n",
    "    color=\"red\",\n",
    ")\n",
    "plt.xticks(rotation=45, ha=\"right\")\n",
    "plt.xlabel(\"\")\n",
    "plt.ylabel(\"KM/1000 people\")\n",
    "plt.title(\"Bicycle Infrastructure Density: Per 1.000 People\")\n"
   ]
  },
  {
   "attachments": {},
   "cell_type": "markdown",
   "metadata": {},
   "source": [
    "## Topology errors per municipality\n",
    "\n",
    "**Correlation between infrastructure length and topology errors**"
   ]
  },
  {
   "cell_type": "code",
   "execution_count": 15,
   "metadata": {},
   "outputs": [
    {
     "data": {
      "application/vnd.plotly.v1+json": {
       "config": {
        "plotlyServerURL": "https://plot.ly"
       },
       "data": [
        {
         "customdata": [
          [
           "Aabenraa"
          ],
          [
           "Aalborg"
          ],
          [
           "Aarhus"
          ],
          [
           "Albertslund"
          ],
          [
           "Allerød"
          ],
          [
           "Assens"
          ],
          [
           "Ballerup"
          ],
          [
           "Billund"
          ],
          [
           "Bornholm"
          ],
          [
           "Brøndby"
          ],
          [
           "Brønderslev"
          ],
          [
           "Dragør"
          ],
          [
           "Egedal"
          ],
          [
           "Esbjerg"
          ],
          [
           "Faaborg-Midtfyn"
          ],
          [
           "Fanø"
          ],
          [
           "Favrskov"
          ],
          [
           "Faxe"
          ],
          [
           "Fredensborg"
          ],
          [
           "Fredericia"
          ],
          [
           "Frederiksberg"
          ],
          [
           "Frederikshavn"
          ],
          [
           "Frederikssund"
          ],
          [
           "Furesø"
          ],
          [
           "Gentofte"
          ],
          [
           "Gladsaxe"
          ],
          [
           "Glostrup"
          ],
          [
           "Greve"
          ],
          [
           "Gribskov"
          ],
          [
           "Guldborgsund"
          ],
          [
           "Haderslev"
          ],
          [
           "Halsnæs"
          ],
          [
           "Hedensted"
          ],
          [
           "Helsingør"
          ],
          [
           "Herlev"
          ],
          [
           "Herning"
          ],
          [
           "Hillerød"
          ],
          [
           "Hjørring"
          ],
          [
           "Holbæk"
          ],
          [
           "Holstebro"
          ],
          [
           "Horsens"
          ],
          [
           "Hvidovre"
          ],
          [
           "Høje-Taastrup"
          ],
          [
           "Hørsholm"
          ],
          [
           "Ikast-Brande"
          ],
          [
           "Ishøj"
          ],
          [
           "Jammerbugt"
          ],
          [
           "Kalundborg"
          ],
          [
           "Kerteminde"
          ],
          [
           "Kolding"
          ],
          [
           "København"
          ],
          [
           "Køge"
          ],
          [
           "Langeland"
          ],
          [
           "Lejre"
          ],
          [
           "Lemvig"
          ],
          [
           "Lolland"
          ],
          [
           "Lyngby-Taarbæk"
          ],
          [
           "Læsø"
          ],
          [
           "Mariagerfjord"
          ],
          [
           "Middelfart"
          ],
          [
           "Morsø"
          ],
          [
           "Norddjurs"
          ],
          [
           "Nordfyns"
          ],
          [
           "Nyborg"
          ],
          [
           "Næstved"
          ],
          [
           "Odder"
          ],
          [
           "Odense"
          ],
          [
           "Odsherred"
          ],
          [
           "Randers"
          ],
          [
           "Rebild"
          ],
          [
           "Ringkøbing-Skjern"
          ],
          [
           "Ringsted"
          ],
          [
           "Roskilde"
          ],
          [
           "Rudersdal"
          ],
          [
           "Rødovre"
          ],
          [
           "Samsø"
          ],
          [
           "Silkeborg"
          ],
          [
           "Skanderborg"
          ],
          [
           "Skive"
          ],
          [
           "Slagelse"
          ],
          [
           "Solrød"
          ],
          [
           "Sorø"
          ],
          [
           "Stevns"
          ],
          [
           "Struer"
          ],
          [
           "Svendborg"
          ],
          [
           "Syddjurs"
          ],
          [
           "Sønderborg"
          ],
          [
           "Thisted"
          ],
          [
           "Tårnby"
          ],
          [
           "Tønder"
          ],
          [
           "Vallensbæk"
          ],
          [
           "Varde"
          ],
          [
           "Vejen"
          ],
          [
           "Vejle"
          ],
          [
           "Vesthimmerlands"
          ],
          [
           "Viborg"
          ],
          [
           "Vordingborg"
          ],
          [
           "Ærø"
          ]
         ],
         "hovertemplate": "Length of bicycle infrastructure (KM)=%{x}<br>Gaps between disconnected components=%{y}<br>Municipality=%{customdata[0]}<extra></extra>",
         "legendgroup": "",
         "marker": {
          "color": "#636efa",
          "symbol": "circle"
         },
         "mode": "markers",
         "name": "",
         "orientation": "v",
         "showlegend": false,
         "type": "scatter",
         "x": [
          193.542,
          218.765,
          240.556,
          9.894,
          54.392,
          202.614,
          53.346,
          32.687,
          106.316,
          29.43,
          42.879,
          9.694,
          41.894,
          127.738,
          149.534,
          7.959,
          116.307,
          85.918,
          64.635,
          206.724,
          67.239,
          101.326,
          78.062,
          49.298,
          127.099,
          95.514,
          30.832,
          15.693,
          37.128,
          101.102,
          79.835,
          109.083,
          78.806,
          117.972,
          23.288,
          141.583,
          53.832,
          62.547,
          136.157,
          76.324,
          147.099,
          48.315,
          42.155,
          47.134,
          59.682,
          3.367,
          36.936,
          124.349,
          54.983,
          104.138,
          485.552,
          62.518,
          40.709,
          32.425,
          34.277,
          83.732,
          89.601,
          5.13,
          93.916,
          104.092,
          13.719,
          52.302,
          74.636,
          77.486,
          120.892,
          33.71,
          289.278,
          105.781,
          156.582,
          29.73,
          108.223,
          68.777,
          152.816,
          129.363,
          36.818,
          4.484,
          161.692,
          86.82,
          177.204,
          135.039,
          55.976,
          52.437,
          30.183,
          51.863,
          156.511,
          81.58,
          101.626,
          68.587,
          71.261,
          172.336,
          12.548,
          68.116,
          68.728,
          203.558,
          41.079,
          401.855,
          75.289,
          6.247
         ],
         "xaxis": "x",
         "y": [
          32,
          66,
          257,
          1,
          32,
          54,
          33,
          12,
          46,
          10,
          25,
          9,
          25,
          13,
          44,
          8,
          83,
          32,
          13,
          35,
          3,
          72,
          32,
          6,
          9,
          5,
          8,
          96,
          25,
          31,
          66,
          84,
          53,
          31,
          4,
          50,
          25,
          58,
          50,
          50,
          206,
          10,
          14,
          0,
          22,
          3,
          24,
          50,
          32,
          69,
          38,
          15,
          15,
          10,
          28,
          4,
          29,
          9,
          11,
          16,
          14,
          27,
          6,
          6,
          45,
          7,
          95,
          37,
          63,
          19,
          108,
          21,
          27,
          58,
          4,
          3,
          142,
          60,
          38,
          54,
          1,
          12,
          8,
          27,
          74,
          86,
          72,
          26,
          2,
          36,
          1,
          32,
          35,
          90,
          24,
          127,
          73,
          0
         ],
         "yaxis": "y"
        }
       ],
       "layout": {
        "font": {
         "color": "RebeccaPurple",
         "size": 10
        },
        "legend": {
         "tracegroupgap": 0
        },
        "template": {
         "data": {
          "bar": [
           {
            "error_x": {
             "color": "#2a3f5f"
            },
            "error_y": {
             "color": "#2a3f5f"
            },
            "marker": {
             "line": {
              "color": "#E5ECF6",
              "width": 0.5
             },
             "pattern": {
              "fillmode": "overlay",
              "size": 10,
              "solidity": 0.2
             }
            },
            "type": "bar"
           }
          ],
          "barpolar": [
           {
            "marker": {
             "line": {
              "color": "#E5ECF6",
              "width": 0.5
             },
             "pattern": {
              "fillmode": "overlay",
              "size": 10,
              "solidity": 0.2
             }
            },
            "type": "barpolar"
           }
          ],
          "carpet": [
           {
            "aaxis": {
             "endlinecolor": "#2a3f5f",
             "gridcolor": "white",
             "linecolor": "white",
             "minorgridcolor": "white",
             "startlinecolor": "#2a3f5f"
            },
            "baxis": {
             "endlinecolor": "#2a3f5f",
             "gridcolor": "white",
             "linecolor": "white",
             "minorgridcolor": "white",
             "startlinecolor": "#2a3f5f"
            },
            "type": "carpet"
           }
          ],
          "choropleth": [
           {
            "colorbar": {
             "outlinewidth": 0,
             "ticks": ""
            },
            "type": "choropleth"
           }
          ],
          "contour": [
           {
            "colorbar": {
             "outlinewidth": 0,
             "ticks": ""
            },
            "colorscale": [
             [
              0,
              "#0d0887"
             ],
             [
              0.1111111111111111,
              "#46039f"
             ],
             [
              0.2222222222222222,
              "#7201a8"
             ],
             [
              0.3333333333333333,
              "#9c179e"
             ],
             [
              0.4444444444444444,
              "#bd3786"
             ],
             [
              0.5555555555555556,
              "#d8576b"
             ],
             [
              0.6666666666666666,
              "#ed7953"
             ],
             [
              0.7777777777777778,
              "#fb9f3a"
             ],
             [
              0.8888888888888888,
              "#fdca26"
             ],
             [
              1,
              "#f0f921"
             ]
            ],
            "type": "contour"
           }
          ],
          "contourcarpet": [
           {
            "colorbar": {
             "outlinewidth": 0,
             "ticks": ""
            },
            "type": "contourcarpet"
           }
          ],
          "heatmap": [
           {
            "colorbar": {
             "outlinewidth": 0,
             "ticks": ""
            },
            "colorscale": [
             [
              0,
              "#0d0887"
             ],
             [
              0.1111111111111111,
              "#46039f"
             ],
             [
              0.2222222222222222,
              "#7201a8"
             ],
             [
              0.3333333333333333,
              "#9c179e"
             ],
             [
              0.4444444444444444,
              "#bd3786"
             ],
             [
              0.5555555555555556,
              "#d8576b"
             ],
             [
              0.6666666666666666,
              "#ed7953"
             ],
             [
              0.7777777777777778,
              "#fb9f3a"
             ],
             [
              0.8888888888888888,
              "#fdca26"
             ],
             [
              1,
              "#f0f921"
             ]
            ],
            "type": "heatmap"
           }
          ],
          "heatmapgl": [
           {
            "colorbar": {
             "outlinewidth": 0,
             "ticks": ""
            },
            "colorscale": [
             [
              0,
              "#0d0887"
             ],
             [
              0.1111111111111111,
              "#46039f"
             ],
             [
              0.2222222222222222,
              "#7201a8"
             ],
             [
              0.3333333333333333,
              "#9c179e"
             ],
             [
              0.4444444444444444,
              "#bd3786"
             ],
             [
              0.5555555555555556,
              "#d8576b"
             ],
             [
              0.6666666666666666,
              "#ed7953"
             ],
             [
              0.7777777777777778,
              "#fb9f3a"
             ],
             [
              0.8888888888888888,
              "#fdca26"
             ],
             [
              1,
              "#f0f921"
             ]
            ],
            "type": "heatmapgl"
           }
          ],
          "histogram": [
           {
            "marker": {
             "pattern": {
              "fillmode": "overlay",
              "size": 10,
              "solidity": 0.2
             }
            },
            "type": "histogram"
           }
          ],
          "histogram2d": [
           {
            "colorbar": {
             "outlinewidth": 0,
             "ticks": ""
            },
            "colorscale": [
             [
              0,
              "#0d0887"
             ],
             [
              0.1111111111111111,
              "#46039f"
             ],
             [
              0.2222222222222222,
              "#7201a8"
             ],
             [
              0.3333333333333333,
              "#9c179e"
             ],
             [
              0.4444444444444444,
              "#bd3786"
             ],
             [
              0.5555555555555556,
              "#d8576b"
             ],
             [
              0.6666666666666666,
              "#ed7953"
             ],
             [
              0.7777777777777778,
              "#fb9f3a"
             ],
             [
              0.8888888888888888,
              "#fdca26"
             ],
             [
              1,
              "#f0f921"
             ]
            ],
            "type": "histogram2d"
           }
          ],
          "histogram2dcontour": [
           {
            "colorbar": {
             "outlinewidth": 0,
             "ticks": ""
            },
            "colorscale": [
             [
              0,
              "#0d0887"
             ],
             [
              0.1111111111111111,
              "#46039f"
             ],
             [
              0.2222222222222222,
              "#7201a8"
             ],
             [
              0.3333333333333333,
              "#9c179e"
             ],
             [
              0.4444444444444444,
              "#bd3786"
             ],
             [
              0.5555555555555556,
              "#d8576b"
             ],
             [
              0.6666666666666666,
              "#ed7953"
             ],
             [
              0.7777777777777778,
              "#fb9f3a"
             ],
             [
              0.8888888888888888,
              "#fdca26"
             ],
             [
              1,
              "#f0f921"
             ]
            ],
            "type": "histogram2dcontour"
           }
          ],
          "mesh3d": [
           {
            "colorbar": {
             "outlinewidth": 0,
             "ticks": ""
            },
            "type": "mesh3d"
           }
          ],
          "parcoords": [
           {
            "line": {
             "colorbar": {
              "outlinewidth": 0,
              "ticks": ""
             }
            },
            "type": "parcoords"
           }
          ],
          "pie": [
           {
            "automargin": true,
            "type": "pie"
           }
          ],
          "scatter": [
           {
            "fillpattern": {
             "fillmode": "overlay",
             "size": 10,
             "solidity": 0.2
            },
            "type": "scatter"
           }
          ],
          "scatter3d": [
           {
            "line": {
             "colorbar": {
              "outlinewidth": 0,
              "ticks": ""
             }
            },
            "marker": {
             "colorbar": {
              "outlinewidth": 0,
              "ticks": ""
             }
            },
            "type": "scatter3d"
           }
          ],
          "scattercarpet": [
           {
            "marker": {
             "colorbar": {
              "outlinewidth": 0,
              "ticks": ""
             }
            },
            "type": "scattercarpet"
           }
          ],
          "scattergeo": [
           {
            "marker": {
             "colorbar": {
              "outlinewidth": 0,
              "ticks": ""
             }
            },
            "type": "scattergeo"
           }
          ],
          "scattergl": [
           {
            "marker": {
             "colorbar": {
              "outlinewidth": 0,
              "ticks": ""
             }
            },
            "type": "scattergl"
           }
          ],
          "scattermapbox": [
           {
            "marker": {
             "colorbar": {
              "outlinewidth": 0,
              "ticks": ""
             }
            },
            "type": "scattermapbox"
           }
          ],
          "scatterpolar": [
           {
            "marker": {
             "colorbar": {
              "outlinewidth": 0,
              "ticks": ""
             }
            },
            "type": "scatterpolar"
           }
          ],
          "scatterpolargl": [
           {
            "marker": {
             "colorbar": {
              "outlinewidth": 0,
              "ticks": ""
             }
            },
            "type": "scatterpolargl"
           }
          ],
          "scatterternary": [
           {
            "marker": {
             "colorbar": {
              "outlinewidth": 0,
              "ticks": ""
             }
            },
            "type": "scatterternary"
           }
          ],
          "surface": [
           {
            "colorbar": {
             "outlinewidth": 0,
             "ticks": ""
            },
            "colorscale": [
             [
              0,
              "#0d0887"
             ],
             [
              0.1111111111111111,
              "#46039f"
             ],
             [
              0.2222222222222222,
              "#7201a8"
             ],
             [
              0.3333333333333333,
              "#9c179e"
             ],
             [
              0.4444444444444444,
              "#bd3786"
             ],
             [
              0.5555555555555556,
              "#d8576b"
             ],
             [
              0.6666666666666666,
              "#ed7953"
             ],
             [
              0.7777777777777778,
              "#fb9f3a"
             ],
             [
              0.8888888888888888,
              "#fdca26"
             ],
             [
              1,
              "#f0f921"
             ]
            ],
            "type": "surface"
           }
          ],
          "table": [
           {
            "cells": {
             "fill": {
              "color": "#EBF0F8"
             },
             "line": {
              "color": "white"
             }
            },
            "header": {
             "fill": {
              "color": "#C8D4E3"
             },
             "line": {
              "color": "white"
             }
            },
            "type": "table"
           }
          ]
         },
         "layout": {
          "annotationdefaults": {
           "arrowcolor": "#2a3f5f",
           "arrowhead": 0,
           "arrowwidth": 1
          },
          "autotypenumbers": "strict",
          "coloraxis": {
           "colorbar": {
            "outlinewidth": 0,
            "ticks": ""
           }
          },
          "colorscale": {
           "diverging": [
            [
             0,
             "#8e0152"
            ],
            [
             0.1,
             "#c51b7d"
            ],
            [
             0.2,
             "#de77ae"
            ],
            [
             0.3,
             "#f1b6da"
            ],
            [
             0.4,
             "#fde0ef"
            ],
            [
             0.5,
             "#f7f7f7"
            ],
            [
             0.6,
             "#e6f5d0"
            ],
            [
             0.7,
             "#b8e186"
            ],
            [
             0.8,
             "#7fbc41"
            ],
            [
             0.9,
             "#4d9221"
            ],
            [
             1,
             "#276419"
            ]
           ],
           "sequential": [
            [
             0,
             "#0d0887"
            ],
            [
             0.1111111111111111,
             "#46039f"
            ],
            [
             0.2222222222222222,
             "#7201a8"
            ],
            [
             0.3333333333333333,
             "#9c179e"
            ],
            [
             0.4444444444444444,
             "#bd3786"
            ],
            [
             0.5555555555555556,
             "#d8576b"
            ],
            [
             0.6666666666666666,
             "#ed7953"
            ],
            [
             0.7777777777777778,
             "#fb9f3a"
            ],
            [
             0.8888888888888888,
             "#fdca26"
            ],
            [
             1,
             "#f0f921"
            ]
           ],
           "sequentialminus": [
            [
             0,
             "#0d0887"
            ],
            [
             0.1111111111111111,
             "#46039f"
            ],
            [
             0.2222222222222222,
             "#7201a8"
            ],
            [
             0.3333333333333333,
             "#9c179e"
            ],
            [
             0.4444444444444444,
             "#bd3786"
            ],
            [
             0.5555555555555556,
             "#d8576b"
            ],
            [
             0.6666666666666666,
             "#ed7953"
            ],
            [
             0.7777777777777778,
             "#fb9f3a"
            ],
            [
             0.8888888888888888,
             "#fdca26"
            ],
            [
             1,
             "#f0f921"
            ]
           ]
          },
          "colorway": [
           "#636efa",
           "#EF553B",
           "#00cc96",
           "#ab63fa",
           "#FFA15A",
           "#19d3f3",
           "#FF6692",
           "#B6E880",
           "#FF97FF",
           "#FECB52"
          ],
          "font": {
           "color": "#2a3f5f"
          },
          "geo": {
           "bgcolor": "white",
           "lakecolor": "white",
           "landcolor": "#E5ECF6",
           "showlakes": true,
           "showland": true,
           "subunitcolor": "white"
          },
          "hoverlabel": {
           "align": "left"
          },
          "hovermode": "closest",
          "mapbox": {
           "style": "light"
          },
          "paper_bgcolor": "white",
          "plot_bgcolor": "#E5ECF6",
          "polar": {
           "angularaxis": {
            "gridcolor": "white",
            "linecolor": "white",
            "ticks": ""
           },
           "bgcolor": "#E5ECF6",
           "radialaxis": {
            "gridcolor": "white",
            "linecolor": "white",
            "ticks": ""
           }
          },
          "scene": {
           "xaxis": {
            "backgroundcolor": "#E5ECF6",
            "gridcolor": "white",
            "gridwidth": 2,
            "linecolor": "white",
            "showbackground": true,
            "ticks": "",
            "zerolinecolor": "white"
           },
           "yaxis": {
            "backgroundcolor": "#E5ECF6",
            "gridcolor": "white",
            "gridwidth": 2,
            "linecolor": "white",
            "showbackground": true,
            "ticks": "",
            "zerolinecolor": "white"
           },
           "zaxis": {
            "backgroundcolor": "#E5ECF6",
            "gridcolor": "white",
            "gridwidth": 2,
            "linecolor": "white",
            "showbackground": true,
            "ticks": "",
            "zerolinecolor": "white"
           }
          },
          "shapedefaults": {
           "line": {
            "color": "#2a3f5f"
           }
          },
          "ternary": {
           "aaxis": {
            "gridcolor": "white",
            "linecolor": "white",
            "ticks": ""
           },
           "baxis": {
            "gridcolor": "white",
            "linecolor": "white",
            "ticks": ""
           },
           "bgcolor": "#E5ECF6",
           "caxis": {
            "gridcolor": "white",
            "linecolor": "white",
            "ticks": ""
           }
          },
          "title": {
           "x": 0.05
          },
          "xaxis": {
           "automargin": true,
           "gridcolor": "white",
           "linecolor": "white",
           "ticks": "",
           "title": {
            "standoff": 15
           },
           "zerolinecolor": "white",
           "zerolinewidth": 2
          },
          "yaxis": {
           "automargin": true,
           "gridcolor": "white",
           "linecolor": "white",
           "ticks": "",
           "title": {
            "standoff": 15
           },
           "zerolinecolor": "white",
           "zerolinewidth": 2
          }
         }
        },
        "title": {
         "text": "Correlation between infrastructure length and component gaps"
        },
        "xaxis": {
         "anchor": "y",
         "domain": [
          0,
          1
         ],
         "title": {
          "text": "Length of bicycle infrastructure (KM)"
         }
        },
        "yaxis": {
         "anchor": "x",
         "domain": [
          0,
          1
         ],
         "title": {
          "text": "Gaps between disconnected components"
         }
        }
       }
      }
     },
     "metadata": {},
     "output_type": "display_data"
    },
    {
     "data": {
      "application/vnd.plotly.v1+json": {
       "config": {
        "plotlyServerURL": "https://plot.ly"
       },
       "data": [
        {
         "customdata": [
          [
           "Aabenraa"
          ],
          [
           "Aalborg"
          ],
          [
           "Aarhus"
          ],
          [
           "Albertslund"
          ],
          [
           "Allerød"
          ],
          [
           "Assens"
          ],
          [
           "Ballerup"
          ],
          [
           "Billund"
          ],
          [
           "Bornholm"
          ],
          [
           "Brøndby"
          ],
          [
           "Brønderslev"
          ],
          [
           "Dragør"
          ],
          [
           "Egedal"
          ],
          [
           "Esbjerg"
          ],
          [
           "Faaborg-Midtfyn"
          ],
          [
           "Fanø"
          ],
          [
           "Favrskov"
          ],
          [
           "Faxe"
          ],
          [
           "Fredensborg"
          ],
          [
           "Fredericia"
          ],
          [
           "Frederiksberg"
          ],
          [
           "Frederikshavn"
          ],
          [
           "Frederikssund"
          ],
          [
           "Furesø"
          ],
          [
           "Gentofte"
          ],
          [
           "Gladsaxe"
          ],
          [
           "Glostrup"
          ],
          [
           "Greve"
          ],
          [
           "Gribskov"
          ],
          [
           "Guldborgsund"
          ],
          [
           "Haderslev"
          ],
          [
           "Halsnæs"
          ],
          [
           "Hedensted"
          ],
          [
           "Helsingør"
          ],
          [
           "Herlev"
          ],
          [
           "Herning"
          ],
          [
           "Hillerød"
          ],
          [
           "Hjørring"
          ],
          [
           "Holbæk"
          ],
          [
           "Holstebro"
          ],
          [
           "Horsens"
          ],
          [
           "Hvidovre"
          ],
          [
           "Høje-Taastrup"
          ],
          [
           "Hørsholm"
          ],
          [
           "Ikast-Brande"
          ],
          [
           "Ishøj"
          ],
          [
           "Jammerbugt"
          ],
          [
           "Kalundborg"
          ],
          [
           "Kerteminde"
          ],
          [
           "Kolding"
          ],
          [
           "København"
          ],
          [
           "Køge"
          ],
          [
           "Langeland"
          ],
          [
           "Lejre"
          ],
          [
           "Lemvig"
          ],
          [
           "Lolland"
          ],
          [
           "Lyngby-Taarbæk"
          ],
          [
           "Læsø"
          ],
          [
           "Mariagerfjord"
          ],
          [
           "Middelfart"
          ],
          [
           "Morsø"
          ],
          [
           "Norddjurs"
          ],
          [
           "Nordfyns"
          ],
          [
           "Nyborg"
          ],
          [
           "Næstved"
          ],
          [
           "Odder"
          ],
          [
           "Odense"
          ],
          [
           "Odsherred"
          ],
          [
           "Randers"
          ],
          [
           "Rebild"
          ],
          [
           "Ringkøbing-Skjern"
          ],
          [
           "Ringsted"
          ],
          [
           "Roskilde"
          ],
          [
           "Rudersdal"
          ],
          [
           "Rødovre"
          ],
          [
           "Samsø"
          ],
          [
           "Silkeborg"
          ],
          [
           "Skanderborg"
          ],
          [
           "Skive"
          ],
          [
           "Slagelse"
          ],
          [
           "Solrød"
          ],
          [
           "Sorø"
          ],
          [
           "Stevns"
          ],
          [
           "Struer"
          ],
          [
           "Svendborg"
          ],
          [
           "Syddjurs"
          ],
          [
           "Sønderborg"
          ],
          [
           "Thisted"
          ],
          [
           "Tårnby"
          ],
          [
           "Tønder"
          ],
          [
           "Vallensbæk"
          ],
          [
           "Varde"
          ],
          [
           "Vejen"
          ],
          [
           "Vejle"
          ],
          [
           "Vesthimmerlands"
          ],
          [
           "Viborg"
          ],
          [
           "Vordingborg"
          ],
          [
           "Ærø"
          ]
         ],
         "hovertemplate": "Length of bicycle infrastructure (KM)=%{x}<br>Over and undershoots=%{y}<br>Municipality=%{customdata[0]}<extra></extra>",
         "legendgroup": "",
         "marker": {
          "color": "#636efa",
          "symbol": "circle"
         },
         "mode": "markers",
         "name": "",
         "orientation": "v",
         "showlegend": false,
         "type": "scatter",
         "x": [
          193.542,
          218.765,
          240.556,
          9.894,
          54.392,
          202.614,
          53.346,
          32.687,
          106.316,
          29.43,
          42.879,
          9.694,
          41.894,
          127.738,
          149.534,
          7.959,
          116.307,
          85.918,
          64.635,
          206.724,
          67.239,
          101.326,
          78.062,
          49.298,
          127.099,
          95.514,
          30.832,
          15.693,
          37.128,
          101.102,
          79.835,
          109.083,
          78.806,
          117.972,
          23.288,
          141.583,
          53.832,
          62.547,
          136.157,
          76.324,
          147.099,
          48.315,
          42.155,
          47.134,
          59.682,
          3.367,
          36.936,
          124.349,
          54.983,
          104.138,
          485.552,
          62.518,
          40.709,
          32.425,
          34.277,
          83.732,
          89.601,
          5.13,
          93.916,
          104.092,
          13.719,
          52.302,
          74.636,
          77.486,
          120.892,
          33.71,
          289.278,
          105.781,
          156.582,
          29.73,
          108.223,
          68.777,
          152.816,
          129.363,
          36.818,
          4.484,
          161.692,
          86.82,
          177.204,
          135.039,
          55.976,
          52.437,
          30.183,
          51.863,
          156.511,
          81.58,
          101.626,
          68.587,
          71.261,
          172.336,
          12.548,
          68.116,
          68.728,
          203.558,
          41.079,
          401.855,
          75.289,
          6.247
         ],
         "xaxis": "x",
         "y": [
          0,
          0,
          35,
          0,
          5,
          0,
          10,
          0,
          0,
          0,
          0,
          0,
          0,
          0,
          6,
          0,
          0,
          0,
          0,
          28,
          0,
          0,
          0,
          0,
          0,
          0,
          0,
          0,
          6,
          4,
          0,
          2,
          9,
          5,
          0,
          7,
          0,
          0,
          0,
          0,
          21,
          5,
          15,
          5,
          5,
          0,
          0,
          8,
          0,
          0,
          14,
          0,
          0,
          0,
          0,
          0,
          3,
          0,
          0,
          7,
          0,
          3,
          2,
          9,
          0,
          0,
          8,
          0,
          9,
          0,
          0,
          0,
          17,
          18,
          7,
          0,
          18,
          0,
          0,
          0,
          0,
          0,
          0,
          0,
          0,
          0,
          0,
          0,
          0,
          0,
          0,
          3,
          0,
          22,
          0,
          5,
          0,
          0
         ],
         "yaxis": "y"
        }
       ],
       "layout": {
        "font": {
         "color": "RebeccaPurple",
         "size": 10
        },
        "legend": {
         "tracegroupgap": 0
        },
        "template": {
         "data": {
          "bar": [
           {
            "error_x": {
             "color": "#2a3f5f"
            },
            "error_y": {
             "color": "#2a3f5f"
            },
            "marker": {
             "line": {
              "color": "#E5ECF6",
              "width": 0.5
             },
             "pattern": {
              "fillmode": "overlay",
              "size": 10,
              "solidity": 0.2
             }
            },
            "type": "bar"
           }
          ],
          "barpolar": [
           {
            "marker": {
             "line": {
              "color": "#E5ECF6",
              "width": 0.5
             },
             "pattern": {
              "fillmode": "overlay",
              "size": 10,
              "solidity": 0.2
             }
            },
            "type": "barpolar"
           }
          ],
          "carpet": [
           {
            "aaxis": {
             "endlinecolor": "#2a3f5f",
             "gridcolor": "white",
             "linecolor": "white",
             "minorgridcolor": "white",
             "startlinecolor": "#2a3f5f"
            },
            "baxis": {
             "endlinecolor": "#2a3f5f",
             "gridcolor": "white",
             "linecolor": "white",
             "minorgridcolor": "white",
             "startlinecolor": "#2a3f5f"
            },
            "type": "carpet"
           }
          ],
          "choropleth": [
           {
            "colorbar": {
             "outlinewidth": 0,
             "ticks": ""
            },
            "type": "choropleth"
           }
          ],
          "contour": [
           {
            "colorbar": {
             "outlinewidth": 0,
             "ticks": ""
            },
            "colorscale": [
             [
              0,
              "#0d0887"
             ],
             [
              0.1111111111111111,
              "#46039f"
             ],
             [
              0.2222222222222222,
              "#7201a8"
             ],
             [
              0.3333333333333333,
              "#9c179e"
             ],
             [
              0.4444444444444444,
              "#bd3786"
             ],
             [
              0.5555555555555556,
              "#d8576b"
             ],
             [
              0.6666666666666666,
              "#ed7953"
             ],
             [
              0.7777777777777778,
              "#fb9f3a"
             ],
             [
              0.8888888888888888,
              "#fdca26"
             ],
             [
              1,
              "#f0f921"
             ]
            ],
            "type": "contour"
           }
          ],
          "contourcarpet": [
           {
            "colorbar": {
             "outlinewidth": 0,
             "ticks": ""
            },
            "type": "contourcarpet"
           }
          ],
          "heatmap": [
           {
            "colorbar": {
             "outlinewidth": 0,
             "ticks": ""
            },
            "colorscale": [
             [
              0,
              "#0d0887"
             ],
             [
              0.1111111111111111,
              "#46039f"
             ],
             [
              0.2222222222222222,
              "#7201a8"
             ],
             [
              0.3333333333333333,
              "#9c179e"
             ],
             [
              0.4444444444444444,
              "#bd3786"
             ],
             [
              0.5555555555555556,
              "#d8576b"
             ],
             [
              0.6666666666666666,
              "#ed7953"
             ],
             [
              0.7777777777777778,
              "#fb9f3a"
             ],
             [
              0.8888888888888888,
              "#fdca26"
             ],
             [
              1,
              "#f0f921"
             ]
            ],
            "type": "heatmap"
           }
          ],
          "heatmapgl": [
           {
            "colorbar": {
             "outlinewidth": 0,
             "ticks": ""
            },
            "colorscale": [
             [
              0,
              "#0d0887"
             ],
             [
              0.1111111111111111,
              "#46039f"
             ],
             [
              0.2222222222222222,
              "#7201a8"
             ],
             [
              0.3333333333333333,
              "#9c179e"
             ],
             [
              0.4444444444444444,
              "#bd3786"
             ],
             [
              0.5555555555555556,
              "#d8576b"
             ],
             [
              0.6666666666666666,
              "#ed7953"
             ],
             [
              0.7777777777777778,
              "#fb9f3a"
             ],
             [
              0.8888888888888888,
              "#fdca26"
             ],
             [
              1,
              "#f0f921"
             ]
            ],
            "type": "heatmapgl"
           }
          ],
          "histogram": [
           {
            "marker": {
             "pattern": {
              "fillmode": "overlay",
              "size": 10,
              "solidity": 0.2
             }
            },
            "type": "histogram"
           }
          ],
          "histogram2d": [
           {
            "colorbar": {
             "outlinewidth": 0,
             "ticks": ""
            },
            "colorscale": [
             [
              0,
              "#0d0887"
             ],
             [
              0.1111111111111111,
              "#46039f"
             ],
             [
              0.2222222222222222,
              "#7201a8"
             ],
             [
              0.3333333333333333,
              "#9c179e"
             ],
             [
              0.4444444444444444,
              "#bd3786"
             ],
             [
              0.5555555555555556,
              "#d8576b"
             ],
             [
              0.6666666666666666,
              "#ed7953"
             ],
             [
              0.7777777777777778,
              "#fb9f3a"
             ],
             [
              0.8888888888888888,
              "#fdca26"
             ],
             [
              1,
              "#f0f921"
             ]
            ],
            "type": "histogram2d"
           }
          ],
          "histogram2dcontour": [
           {
            "colorbar": {
             "outlinewidth": 0,
             "ticks": ""
            },
            "colorscale": [
             [
              0,
              "#0d0887"
             ],
             [
              0.1111111111111111,
              "#46039f"
             ],
             [
              0.2222222222222222,
              "#7201a8"
             ],
             [
              0.3333333333333333,
              "#9c179e"
             ],
             [
              0.4444444444444444,
              "#bd3786"
             ],
             [
              0.5555555555555556,
              "#d8576b"
             ],
             [
              0.6666666666666666,
              "#ed7953"
             ],
             [
              0.7777777777777778,
              "#fb9f3a"
             ],
             [
              0.8888888888888888,
              "#fdca26"
             ],
             [
              1,
              "#f0f921"
             ]
            ],
            "type": "histogram2dcontour"
           }
          ],
          "mesh3d": [
           {
            "colorbar": {
             "outlinewidth": 0,
             "ticks": ""
            },
            "type": "mesh3d"
           }
          ],
          "parcoords": [
           {
            "line": {
             "colorbar": {
              "outlinewidth": 0,
              "ticks": ""
             }
            },
            "type": "parcoords"
           }
          ],
          "pie": [
           {
            "automargin": true,
            "type": "pie"
           }
          ],
          "scatter": [
           {
            "fillpattern": {
             "fillmode": "overlay",
             "size": 10,
             "solidity": 0.2
            },
            "type": "scatter"
           }
          ],
          "scatter3d": [
           {
            "line": {
             "colorbar": {
              "outlinewidth": 0,
              "ticks": ""
             }
            },
            "marker": {
             "colorbar": {
              "outlinewidth": 0,
              "ticks": ""
             }
            },
            "type": "scatter3d"
           }
          ],
          "scattercarpet": [
           {
            "marker": {
             "colorbar": {
              "outlinewidth": 0,
              "ticks": ""
             }
            },
            "type": "scattercarpet"
           }
          ],
          "scattergeo": [
           {
            "marker": {
             "colorbar": {
              "outlinewidth": 0,
              "ticks": ""
             }
            },
            "type": "scattergeo"
           }
          ],
          "scattergl": [
           {
            "marker": {
             "colorbar": {
              "outlinewidth": 0,
              "ticks": ""
             }
            },
            "type": "scattergl"
           }
          ],
          "scattermapbox": [
           {
            "marker": {
             "colorbar": {
              "outlinewidth": 0,
              "ticks": ""
             }
            },
            "type": "scattermapbox"
           }
          ],
          "scatterpolar": [
           {
            "marker": {
             "colorbar": {
              "outlinewidth": 0,
              "ticks": ""
             }
            },
            "type": "scatterpolar"
           }
          ],
          "scatterpolargl": [
           {
            "marker": {
             "colorbar": {
              "outlinewidth": 0,
              "ticks": ""
             }
            },
            "type": "scatterpolargl"
           }
          ],
          "scatterternary": [
           {
            "marker": {
             "colorbar": {
              "outlinewidth": 0,
              "ticks": ""
             }
            },
            "type": "scatterternary"
           }
          ],
          "surface": [
           {
            "colorbar": {
             "outlinewidth": 0,
             "ticks": ""
            },
            "colorscale": [
             [
              0,
              "#0d0887"
             ],
             [
              0.1111111111111111,
              "#46039f"
             ],
             [
              0.2222222222222222,
              "#7201a8"
             ],
             [
              0.3333333333333333,
              "#9c179e"
             ],
             [
              0.4444444444444444,
              "#bd3786"
             ],
             [
              0.5555555555555556,
              "#d8576b"
             ],
             [
              0.6666666666666666,
              "#ed7953"
             ],
             [
              0.7777777777777778,
              "#fb9f3a"
             ],
             [
              0.8888888888888888,
              "#fdca26"
             ],
             [
              1,
              "#f0f921"
             ]
            ],
            "type": "surface"
           }
          ],
          "table": [
           {
            "cells": {
             "fill": {
              "color": "#EBF0F8"
             },
             "line": {
              "color": "white"
             }
            },
            "header": {
             "fill": {
              "color": "#C8D4E3"
             },
             "line": {
              "color": "white"
             }
            },
            "type": "table"
           }
          ]
         },
         "layout": {
          "annotationdefaults": {
           "arrowcolor": "#2a3f5f",
           "arrowhead": 0,
           "arrowwidth": 1
          },
          "autotypenumbers": "strict",
          "coloraxis": {
           "colorbar": {
            "outlinewidth": 0,
            "ticks": ""
           }
          },
          "colorscale": {
           "diverging": [
            [
             0,
             "#8e0152"
            ],
            [
             0.1,
             "#c51b7d"
            ],
            [
             0.2,
             "#de77ae"
            ],
            [
             0.3,
             "#f1b6da"
            ],
            [
             0.4,
             "#fde0ef"
            ],
            [
             0.5,
             "#f7f7f7"
            ],
            [
             0.6,
             "#e6f5d0"
            ],
            [
             0.7,
             "#b8e186"
            ],
            [
             0.8,
             "#7fbc41"
            ],
            [
             0.9,
             "#4d9221"
            ],
            [
             1,
             "#276419"
            ]
           ],
           "sequential": [
            [
             0,
             "#0d0887"
            ],
            [
             0.1111111111111111,
             "#46039f"
            ],
            [
             0.2222222222222222,
             "#7201a8"
            ],
            [
             0.3333333333333333,
             "#9c179e"
            ],
            [
             0.4444444444444444,
             "#bd3786"
            ],
            [
             0.5555555555555556,
             "#d8576b"
            ],
            [
             0.6666666666666666,
             "#ed7953"
            ],
            [
             0.7777777777777778,
             "#fb9f3a"
            ],
            [
             0.8888888888888888,
             "#fdca26"
            ],
            [
             1,
             "#f0f921"
            ]
           ],
           "sequentialminus": [
            [
             0,
             "#0d0887"
            ],
            [
             0.1111111111111111,
             "#46039f"
            ],
            [
             0.2222222222222222,
             "#7201a8"
            ],
            [
             0.3333333333333333,
             "#9c179e"
            ],
            [
             0.4444444444444444,
             "#bd3786"
            ],
            [
             0.5555555555555556,
             "#d8576b"
            ],
            [
             0.6666666666666666,
             "#ed7953"
            ],
            [
             0.7777777777777778,
             "#fb9f3a"
            ],
            [
             0.8888888888888888,
             "#fdca26"
            ],
            [
             1,
             "#f0f921"
            ]
           ]
          },
          "colorway": [
           "#636efa",
           "#EF553B",
           "#00cc96",
           "#ab63fa",
           "#FFA15A",
           "#19d3f3",
           "#FF6692",
           "#B6E880",
           "#FF97FF",
           "#FECB52"
          ],
          "font": {
           "color": "#2a3f5f"
          },
          "geo": {
           "bgcolor": "white",
           "lakecolor": "white",
           "landcolor": "#E5ECF6",
           "showlakes": true,
           "showland": true,
           "subunitcolor": "white"
          },
          "hoverlabel": {
           "align": "left"
          },
          "hovermode": "closest",
          "mapbox": {
           "style": "light"
          },
          "paper_bgcolor": "white",
          "plot_bgcolor": "#E5ECF6",
          "polar": {
           "angularaxis": {
            "gridcolor": "white",
            "linecolor": "white",
            "ticks": ""
           },
           "bgcolor": "#E5ECF6",
           "radialaxis": {
            "gridcolor": "white",
            "linecolor": "white",
            "ticks": ""
           }
          },
          "scene": {
           "xaxis": {
            "backgroundcolor": "#E5ECF6",
            "gridcolor": "white",
            "gridwidth": 2,
            "linecolor": "white",
            "showbackground": true,
            "ticks": "",
            "zerolinecolor": "white"
           },
           "yaxis": {
            "backgroundcolor": "#E5ECF6",
            "gridcolor": "white",
            "gridwidth": 2,
            "linecolor": "white",
            "showbackground": true,
            "ticks": "",
            "zerolinecolor": "white"
           },
           "zaxis": {
            "backgroundcolor": "#E5ECF6",
            "gridcolor": "white",
            "gridwidth": 2,
            "linecolor": "white",
            "showbackground": true,
            "ticks": "",
            "zerolinecolor": "white"
           }
          },
          "shapedefaults": {
           "line": {
            "color": "#2a3f5f"
           }
          },
          "ternary": {
           "aaxis": {
            "gridcolor": "white",
            "linecolor": "white",
            "ticks": ""
           },
           "baxis": {
            "gridcolor": "white",
            "linecolor": "white",
            "ticks": ""
           },
           "bgcolor": "#E5ECF6",
           "caxis": {
            "gridcolor": "white",
            "linecolor": "white",
            "ticks": ""
           }
          },
          "title": {
           "x": 0.05
          },
          "xaxis": {
           "automargin": true,
           "gridcolor": "white",
           "linecolor": "white",
           "ticks": "",
           "title": {
            "standoff": 15
           },
           "zerolinecolor": "white",
           "zerolinewidth": 2
          },
          "yaxis": {
           "automargin": true,
           "gridcolor": "white",
           "linecolor": "white",
           "ticks": "",
           "title": {
            "standoff": 15
           },
           "zerolinecolor": "white",
           "zerolinewidth": 2
          }
         }
        },
        "title": {
         "text": "Correlation between infrastructure length and topology errors"
        },
        "xaxis": {
         "anchor": "y",
         "domain": [
          0,
          1
         ],
         "title": {
          "text": "Length of bicycle infrastructure (KM)"
         }
        },
        "yaxis": {
         "anchor": "x",
         "domain": [
          0,
          1
         ],
         "title": {
          "text": "Over and undershoots"
         }
        }
       }
      }
     },
     "metadata": {},
     "output_type": "display_data"
    }
   ],
   "source": [
    "# TODO: Add label for high/low density and add as color?\n",
    "fig = px.scatter(\n",
    "    muni_network_counts,\n",
    "    x=\"infra_km\",\n",
    "    y=\"component_gaps\",\n",
    "    title=\"Correlation between infrastructure length and component gaps\",\n",
    "    hover_data=[\"name\"],\n",
    "    labels={\n",
    "        \"infra_km\": \"Length of bicycle infrastructure (KM)\",\n",
    "        \"component_gaps\": \"Gaps between disconnected components\",\n",
    "        \"name\": \"Municipality\",\n",
    "    },\n",
    ")\n",
    "\n",
    "fig.update_layout(font=dict(size=10, color=\"RebeccaPurple\"))\n",
    "fig.show()\n",
    "\n",
    "\n",
    "# TODO: Add label for high/low density and add as color?\n",
    "fig = px.scatter(\n",
    "    muni_network_counts,\n",
    "    x=\"infra_km\",\n",
    "    y=\"over_under\",\n",
    "    title=\"Correlation between infrastructure length and topology errors\",\n",
    "    hover_data=[\"name\"],\n",
    "    labels={\n",
    "        \"infra_km\": \"Length of bicycle infrastructure (KM)\",\n",
    "        \"over_under\": \"Over and undershoots\",\n",
    "        \"name\": \"Municipality\",\n",
    "    },\n",
    ")\n",
    "\n",
    "fig.update_layout(font=dict(size=10, color=\"RebeccaPurple\"))\n",
    "fig.show()\n"
   ]
  },
  {
   "cell_type": "markdown",
   "metadata": {},
   "source": [
    "## Components per municipality\n",
    "\n",
    "**Plot correlation between infrastructure length and no of components**"
   ]
  },
  {
   "cell_type": "code",
   "execution_count": 16,
   "metadata": {},
   "outputs": [
    {
     "data": {
      "application/vnd.plotly.v1+json": {
       "config": {
        "plotlyServerURL": "https://plot.ly"
       },
       "data": [
        {
         "customdata": [
          [
           "Aabenraa"
          ],
          [
           "Aalborg"
          ],
          [
           "Aarhus"
          ],
          [
           "Albertslund"
          ],
          [
           "Allerød"
          ],
          [
           "Assens"
          ],
          [
           "Ballerup"
          ],
          [
           "Billund"
          ],
          [
           "Bornholm"
          ],
          [
           "Brøndby"
          ],
          [
           "Brønderslev"
          ],
          [
           "Dragør"
          ],
          [
           "Egedal"
          ],
          [
           "Esbjerg"
          ],
          [
           "Faaborg-Midtfyn"
          ],
          [
           "Fanø"
          ],
          [
           "Favrskov"
          ],
          [
           "Faxe"
          ],
          [
           "Fredensborg"
          ],
          [
           "Fredericia"
          ],
          [
           "Frederiksberg"
          ],
          [
           "Frederikshavn"
          ],
          [
           "Frederikssund"
          ],
          [
           "Furesø"
          ],
          [
           "Gentofte"
          ],
          [
           "Gladsaxe"
          ],
          [
           "Glostrup"
          ],
          [
           "Greve"
          ],
          [
           "Gribskov"
          ],
          [
           "Guldborgsund"
          ],
          [
           "Haderslev"
          ],
          [
           "Halsnæs"
          ],
          [
           "Hedensted"
          ],
          [
           "Helsingør"
          ],
          [
           "Herlev"
          ],
          [
           "Herning"
          ],
          [
           "Hillerød"
          ],
          [
           "Hjørring"
          ],
          [
           "Holbæk"
          ],
          [
           "Holstebro"
          ],
          [
           "Horsens"
          ],
          [
           "Hvidovre"
          ],
          [
           "Høje-Taastrup"
          ],
          [
           "Hørsholm"
          ],
          [
           "Ikast-Brande"
          ],
          [
           "Ishøj"
          ],
          [
           "Jammerbugt"
          ],
          [
           "Kalundborg"
          ],
          [
           "Kerteminde"
          ],
          [
           "Kolding"
          ],
          [
           "København"
          ],
          [
           "Køge"
          ],
          [
           "Langeland"
          ],
          [
           "Lejre"
          ],
          [
           "Lemvig"
          ],
          [
           "Lolland"
          ],
          [
           "Lyngby-Taarbæk"
          ],
          [
           "Læsø"
          ],
          [
           "Mariagerfjord"
          ],
          [
           "Middelfart"
          ],
          [
           "Morsø"
          ],
          [
           "Norddjurs"
          ],
          [
           "Nordfyns"
          ],
          [
           "Nyborg"
          ],
          [
           "Næstved"
          ],
          [
           "Odder"
          ],
          [
           "Odense"
          ],
          [
           "Odsherred"
          ],
          [
           "Randers"
          ],
          [
           "Rebild"
          ],
          [
           "Ringkøbing-Skjern"
          ],
          [
           "Ringsted"
          ],
          [
           "Roskilde"
          ],
          [
           "Rudersdal"
          ],
          [
           "Rødovre"
          ],
          [
           "Samsø"
          ],
          [
           "Silkeborg"
          ],
          [
           "Skanderborg"
          ],
          [
           "Skive"
          ],
          [
           "Slagelse"
          ],
          [
           "Solrød"
          ],
          [
           "Sorø"
          ],
          [
           "Stevns"
          ],
          [
           "Struer"
          ],
          [
           "Svendborg"
          ],
          [
           "Syddjurs"
          ],
          [
           "Sønderborg"
          ],
          [
           "Thisted"
          ],
          [
           "Tårnby"
          ],
          [
           "Tønder"
          ],
          [
           "Vallensbæk"
          ],
          [
           "Varde"
          ],
          [
           "Vejen"
          ],
          [
           "Vejle"
          ],
          [
           "Vesthimmerlands"
          ],
          [
           "Viborg"
          ],
          [
           "Vordingborg"
          ],
          [
           "Ærø"
          ]
         ],
         "hovertemplate": "Length of bicycle infrastructure (km)=%{x}<br>Components per km=%{y}<br>Municipality=%{customdata[0]}<br>Size (sqkm)=%{marker.color}<extra></extra>",
         "legendgroup": "",
         "marker": {
          "color": [
           940.61,
           1138,
           471.2,
           23.44,
           67.43,
           512.24,
           33.9,
           540.24,
           589.33,
           20.99,
           633.37,
           18.41,
           125.8,
           758.34,
           637.57,
           66.41,
           540.1,
           405.1,
           112.14,
           134.27,
           8.71,
           651.9,
           250.97,
           56.8,
           25.62,
           24.93,
           13.29,
           60.62,
           279.54,
           903.28,
           813.71,
           122.15,
           551.36,
           121.72,
           12.06,
           1322.88,
           213.41,
           926.61,
           579.22,
           804.31,
           524.26,
           22.96,
           78.2,
           31.35,
           735.42,
           26.5,
           866.37,
           605.35,
           207.33,
           604.55,
           91.7,
           258.58,
           290.93,
           240.1,
           516.73,
           895.62,
           38.8,
           119.76,
           724.24,
           299.63,
           364.59,
           723.5,
           452.77,
           277.05,
           685.31,
           225.2,
           304.76,
           356.66,
           748.25,
           622.58,
           1494.12,
           295.15,
           212.21,
           73.38,
           12.17,
           114.8,
           864.9,
           455.56,
           687.98,
           570.13,
           40.46,
           309.26,
           249.92,
           245.51,
           416.59,
           696.78,
           495.47,
           1095.34,
           65.99,
           1184.29,
           9.49,
           1236.08,
           813.67,
           1061.61,
           768.04,
           1421.26,
           625.26,
           89.77
          ],
          "coloraxis": "coloraxis",
          "symbol": "circle"
         },
         "mode": "markers",
         "name": "",
         "orientation": "v",
         "showlegend": false,
         "type": "scatter",
         "x": [
          193.542,
          218.765,
          240.556,
          9.894,
          54.392,
          202.614,
          53.346,
          32.687,
          106.316,
          29.43,
          42.879,
          9.694,
          41.894,
          127.738,
          149.534,
          7.959,
          116.307,
          85.918,
          64.635,
          206.724,
          67.239,
          101.326,
          78.062,
          49.298,
          127.099,
          95.514,
          30.832,
          15.693,
          37.128,
          101.102,
          79.835,
          109.083,
          78.806,
          117.972,
          23.288,
          141.583,
          53.832,
          62.547,
          136.157,
          76.324,
          147.099,
          48.315,
          42.155,
          47.134,
          59.682,
          3.367,
          36.936,
          124.349,
          54.983,
          104.138,
          485.552,
          62.518,
          40.709,
          32.425,
          34.277,
          83.732,
          89.601,
          5.13,
          93.916,
          104.092,
          13.719,
          52.302,
          74.636,
          77.486,
          120.892,
          33.71,
          289.278,
          105.781,
          156.582,
          29.73,
          108.223,
          68.777,
          152.816,
          129.363,
          36.818,
          4.484,
          161.692,
          86.82,
          177.204,
          135.039,
          55.976,
          52.437,
          30.183,
          51.863,
          156.511,
          81.58,
          101.626,
          68.587,
          71.261,
          172.336,
          12.548,
          68.116,
          68.728,
          203.558,
          41.079,
          401.855,
          75.289,
          6.247
         ],
         "xaxis": "x",
         "y": [
          0.26,
          0.47,
          1.13,
          3.03,
          0.55,
          0.17,
          1.03,
          0.67,
          0.33,
          1.19,
          0.49,
          0.62,
          1.1,
          0.44,
          0.43,
          0.75,
          0.73,
          0.28,
          0.36,
          0.14,
          0.18,
          0.55,
          0.63,
          0.71,
          0.22,
          0.14,
          1.07,
          1.78,
          1.02,
          0.59,
          0.66,
          0.46,
          0.7,
          0.39,
          0.99,
          0.85,
          1.04,
          0.82,
          0.3,
          0.76,
          0.65,
          0.66,
          1.59,
          0.3,
          1.12,
          4.46,
          1,
          0.31,
          0.58,
          0.53,
          0.1,
          0.5,
          0.42,
          1.14,
          1.11,
          0.24,
          0.35,
          0.78,
          0.35,
          0.38,
          0.8,
          0.57,
          0.32,
          0.45,
          0.55,
          0.42,
          0.38,
          0.34,
          0.93,
          0.84,
          1.03,
          0.63,
          0.48,
          0.39,
          0.71,
          1.12,
          0.84,
          0.89,
          0.33,
          0.47,
          0.18,
          0.5,
          0.63,
          0.35,
          0.4,
          0.66,
          0.68,
          0.63,
          0.15,
          0.3,
          2.07,
          0.54,
          0.38,
          0.42,
          0.63,
          0.28,
          0.72,
          0.48
         ],
         "yaxis": "y"
        }
       ],
       "layout": {
        "coloraxis": {
         "colorbar": {
          "title": {
           "text": "Size (sqkm)"
          }
         },
         "colorscale": [
          [
           0,
           "#fde725"
          ],
          [
           0.1111111111111111,
           "#b5de2b"
          ],
          [
           0.2222222222222222,
           "#6ece58"
          ],
          [
           0.3333333333333333,
           "#35b779"
          ],
          [
           0.4444444444444444,
           "#1f9e89"
          ],
          [
           0.5555555555555556,
           "#26828e"
          ],
          [
           0.6666666666666666,
           "#31688e"
          ],
          [
           0.7777777777777778,
           "#3e4989"
          ],
          [
           0.8888888888888888,
           "#482878"
          ],
          [
           1,
           "#440154"
          ]
         ]
        },
        "font": {
         "color": "RebeccaPurple",
         "size": 12
        },
        "legend": {
         "tracegroupgap": 0
        },
        "template": {
         "data": {
          "bar": [
           {
            "error_x": {
             "color": "#2a3f5f"
            },
            "error_y": {
             "color": "#2a3f5f"
            },
            "marker": {
             "line": {
              "color": "#E5ECF6",
              "width": 0.5
             },
             "pattern": {
              "fillmode": "overlay",
              "size": 10,
              "solidity": 0.2
             }
            },
            "type": "bar"
           }
          ],
          "barpolar": [
           {
            "marker": {
             "line": {
              "color": "#E5ECF6",
              "width": 0.5
             },
             "pattern": {
              "fillmode": "overlay",
              "size": 10,
              "solidity": 0.2
             }
            },
            "type": "barpolar"
           }
          ],
          "carpet": [
           {
            "aaxis": {
             "endlinecolor": "#2a3f5f",
             "gridcolor": "white",
             "linecolor": "white",
             "minorgridcolor": "white",
             "startlinecolor": "#2a3f5f"
            },
            "baxis": {
             "endlinecolor": "#2a3f5f",
             "gridcolor": "white",
             "linecolor": "white",
             "minorgridcolor": "white",
             "startlinecolor": "#2a3f5f"
            },
            "type": "carpet"
           }
          ],
          "choropleth": [
           {
            "colorbar": {
             "outlinewidth": 0,
             "ticks": ""
            },
            "type": "choropleth"
           }
          ],
          "contour": [
           {
            "colorbar": {
             "outlinewidth": 0,
             "ticks": ""
            },
            "colorscale": [
             [
              0,
              "#0d0887"
             ],
             [
              0.1111111111111111,
              "#46039f"
             ],
             [
              0.2222222222222222,
              "#7201a8"
             ],
             [
              0.3333333333333333,
              "#9c179e"
             ],
             [
              0.4444444444444444,
              "#bd3786"
             ],
             [
              0.5555555555555556,
              "#d8576b"
             ],
             [
              0.6666666666666666,
              "#ed7953"
             ],
             [
              0.7777777777777778,
              "#fb9f3a"
             ],
             [
              0.8888888888888888,
              "#fdca26"
             ],
             [
              1,
              "#f0f921"
             ]
            ],
            "type": "contour"
           }
          ],
          "contourcarpet": [
           {
            "colorbar": {
             "outlinewidth": 0,
             "ticks": ""
            },
            "type": "contourcarpet"
           }
          ],
          "heatmap": [
           {
            "colorbar": {
             "outlinewidth": 0,
             "ticks": ""
            },
            "colorscale": [
             [
              0,
              "#0d0887"
             ],
             [
              0.1111111111111111,
              "#46039f"
             ],
             [
              0.2222222222222222,
              "#7201a8"
             ],
             [
              0.3333333333333333,
              "#9c179e"
             ],
             [
              0.4444444444444444,
              "#bd3786"
             ],
             [
              0.5555555555555556,
              "#d8576b"
             ],
             [
              0.6666666666666666,
              "#ed7953"
             ],
             [
              0.7777777777777778,
              "#fb9f3a"
             ],
             [
              0.8888888888888888,
              "#fdca26"
             ],
             [
              1,
              "#f0f921"
             ]
            ],
            "type": "heatmap"
           }
          ],
          "heatmapgl": [
           {
            "colorbar": {
             "outlinewidth": 0,
             "ticks": ""
            },
            "colorscale": [
             [
              0,
              "#0d0887"
             ],
             [
              0.1111111111111111,
              "#46039f"
             ],
             [
              0.2222222222222222,
              "#7201a8"
             ],
             [
              0.3333333333333333,
              "#9c179e"
             ],
             [
              0.4444444444444444,
              "#bd3786"
             ],
             [
              0.5555555555555556,
              "#d8576b"
             ],
             [
              0.6666666666666666,
              "#ed7953"
             ],
             [
              0.7777777777777778,
              "#fb9f3a"
             ],
             [
              0.8888888888888888,
              "#fdca26"
             ],
             [
              1,
              "#f0f921"
             ]
            ],
            "type": "heatmapgl"
           }
          ],
          "histogram": [
           {
            "marker": {
             "pattern": {
              "fillmode": "overlay",
              "size": 10,
              "solidity": 0.2
             }
            },
            "type": "histogram"
           }
          ],
          "histogram2d": [
           {
            "colorbar": {
             "outlinewidth": 0,
             "ticks": ""
            },
            "colorscale": [
             [
              0,
              "#0d0887"
             ],
             [
              0.1111111111111111,
              "#46039f"
             ],
             [
              0.2222222222222222,
              "#7201a8"
             ],
             [
              0.3333333333333333,
              "#9c179e"
             ],
             [
              0.4444444444444444,
              "#bd3786"
             ],
             [
              0.5555555555555556,
              "#d8576b"
             ],
             [
              0.6666666666666666,
              "#ed7953"
             ],
             [
              0.7777777777777778,
              "#fb9f3a"
             ],
             [
              0.8888888888888888,
              "#fdca26"
             ],
             [
              1,
              "#f0f921"
             ]
            ],
            "type": "histogram2d"
           }
          ],
          "histogram2dcontour": [
           {
            "colorbar": {
             "outlinewidth": 0,
             "ticks": ""
            },
            "colorscale": [
             [
              0,
              "#0d0887"
             ],
             [
              0.1111111111111111,
              "#46039f"
             ],
             [
              0.2222222222222222,
              "#7201a8"
             ],
             [
              0.3333333333333333,
              "#9c179e"
             ],
             [
              0.4444444444444444,
              "#bd3786"
             ],
             [
              0.5555555555555556,
              "#d8576b"
             ],
             [
              0.6666666666666666,
              "#ed7953"
             ],
             [
              0.7777777777777778,
              "#fb9f3a"
             ],
             [
              0.8888888888888888,
              "#fdca26"
             ],
             [
              1,
              "#f0f921"
             ]
            ],
            "type": "histogram2dcontour"
           }
          ],
          "mesh3d": [
           {
            "colorbar": {
             "outlinewidth": 0,
             "ticks": ""
            },
            "type": "mesh3d"
           }
          ],
          "parcoords": [
           {
            "line": {
             "colorbar": {
              "outlinewidth": 0,
              "ticks": ""
             }
            },
            "type": "parcoords"
           }
          ],
          "pie": [
           {
            "automargin": true,
            "type": "pie"
           }
          ],
          "scatter": [
           {
            "fillpattern": {
             "fillmode": "overlay",
             "size": 10,
             "solidity": 0.2
            },
            "type": "scatter"
           }
          ],
          "scatter3d": [
           {
            "line": {
             "colorbar": {
              "outlinewidth": 0,
              "ticks": ""
             }
            },
            "marker": {
             "colorbar": {
              "outlinewidth": 0,
              "ticks": ""
             }
            },
            "type": "scatter3d"
           }
          ],
          "scattercarpet": [
           {
            "marker": {
             "colorbar": {
              "outlinewidth": 0,
              "ticks": ""
             }
            },
            "type": "scattercarpet"
           }
          ],
          "scattergeo": [
           {
            "marker": {
             "colorbar": {
              "outlinewidth": 0,
              "ticks": ""
             }
            },
            "type": "scattergeo"
           }
          ],
          "scattergl": [
           {
            "marker": {
             "colorbar": {
              "outlinewidth": 0,
              "ticks": ""
             }
            },
            "type": "scattergl"
           }
          ],
          "scattermapbox": [
           {
            "marker": {
             "colorbar": {
              "outlinewidth": 0,
              "ticks": ""
             }
            },
            "type": "scattermapbox"
           }
          ],
          "scatterpolar": [
           {
            "marker": {
             "colorbar": {
              "outlinewidth": 0,
              "ticks": ""
             }
            },
            "type": "scatterpolar"
           }
          ],
          "scatterpolargl": [
           {
            "marker": {
             "colorbar": {
              "outlinewidth": 0,
              "ticks": ""
             }
            },
            "type": "scatterpolargl"
           }
          ],
          "scatterternary": [
           {
            "marker": {
             "colorbar": {
              "outlinewidth": 0,
              "ticks": ""
             }
            },
            "type": "scatterternary"
           }
          ],
          "surface": [
           {
            "colorbar": {
             "outlinewidth": 0,
             "ticks": ""
            },
            "colorscale": [
             [
              0,
              "#0d0887"
             ],
             [
              0.1111111111111111,
              "#46039f"
             ],
             [
              0.2222222222222222,
              "#7201a8"
             ],
             [
              0.3333333333333333,
              "#9c179e"
             ],
             [
              0.4444444444444444,
              "#bd3786"
             ],
             [
              0.5555555555555556,
              "#d8576b"
             ],
             [
              0.6666666666666666,
              "#ed7953"
             ],
             [
              0.7777777777777778,
              "#fb9f3a"
             ],
             [
              0.8888888888888888,
              "#fdca26"
             ],
             [
              1,
              "#f0f921"
             ]
            ],
            "type": "surface"
           }
          ],
          "table": [
           {
            "cells": {
             "fill": {
              "color": "#EBF0F8"
             },
             "line": {
              "color": "white"
             }
            },
            "header": {
             "fill": {
              "color": "#C8D4E3"
             },
             "line": {
              "color": "white"
             }
            },
            "type": "table"
           }
          ]
         },
         "layout": {
          "annotationdefaults": {
           "arrowcolor": "#2a3f5f",
           "arrowhead": 0,
           "arrowwidth": 1
          },
          "autotypenumbers": "strict",
          "coloraxis": {
           "colorbar": {
            "outlinewidth": 0,
            "ticks": ""
           }
          },
          "colorscale": {
           "diverging": [
            [
             0,
             "#8e0152"
            ],
            [
             0.1,
             "#c51b7d"
            ],
            [
             0.2,
             "#de77ae"
            ],
            [
             0.3,
             "#f1b6da"
            ],
            [
             0.4,
             "#fde0ef"
            ],
            [
             0.5,
             "#f7f7f7"
            ],
            [
             0.6,
             "#e6f5d0"
            ],
            [
             0.7,
             "#b8e186"
            ],
            [
             0.8,
             "#7fbc41"
            ],
            [
             0.9,
             "#4d9221"
            ],
            [
             1,
             "#276419"
            ]
           ],
           "sequential": [
            [
             0,
             "#0d0887"
            ],
            [
             0.1111111111111111,
             "#46039f"
            ],
            [
             0.2222222222222222,
             "#7201a8"
            ],
            [
             0.3333333333333333,
             "#9c179e"
            ],
            [
             0.4444444444444444,
             "#bd3786"
            ],
            [
             0.5555555555555556,
             "#d8576b"
            ],
            [
             0.6666666666666666,
             "#ed7953"
            ],
            [
             0.7777777777777778,
             "#fb9f3a"
            ],
            [
             0.8888888888888888,
             "#fdca26"
            ],
            [
             1,
             "#f0f921"
            ]
           ],
           "sequentialminus": [
            [
             0,
             "#0d0887"
            ],
            [
             0.1111111111111111,
             "#46039f"
            ],
            [
             0.2222222222222222,
             "#7201a8"
            ],
            [
             0.3333333333333333,
             "#9c179e"
            ],
            [
             0.4444444444444444,
             "#bd3786"
            ],
            [
             0.5555555555555556,
             "#d8576b"
            ],
            [
             0.6666666666666666,
             "#ed7953"
            ],
            [
             0.7777777777777778,
             "#fb9f3a"
            ],
            [
             0.8888888888888888,
             "#fdca26"
            ],
            [
             1,
             "#f0f921"
            ]
           ]
          },
          "colorway": [
           "#636efa",
           "#EF553B",
           "#00cc96",
           "#ab63fa",
           "#FFA15A",
           "#19d3f3",
           "#FF6692",
           "#B6E880",
           "#FF97FF",
           "#FECB52"
          ],
          "font": {
           "color": "#2a3f5f"
          },
          "geo": {
           "bgcolor": "white",
           "lakecolor": "white",
           "landcolor": "#E5ECF6",
           "showlakes": true,
           "showland": true,
           "subunitcolor": "white"
          },
          "hoverlabel": {
           "align": "left"
          },
          "hovermode": "closest",
          "mapbox": {
           "style": "light"
          },
          "paper_bgcolor": "white",
          "plot_bgcolor": "#E5ECF6",
          "polar": {
           "angularaxis": {
            "gridcolor": "white",
            "linecolor": "white",
            "ticks": ""
           },
           "bgcolor": "#E5ECF6",
           "radialaxis": {
            "gridcolor": "white",
            "linecolor": "white",
            "ticks": ""
           }
          },
          "scene": {
           "xaxis": {
            "backgroundcolor": "#E5ECF6",
            "gridcolor": "white",
            "gridwidth": 2,
            "linecolor": "white",
            "showbackground": true,
            "ticks": "",
            "zerolinecolor": "white"
           },
           "yaxis": {
            "backgroundcolor": "#E5ECF6",
            "gridcolor": "white",
            "gridwidth": 2,
            "linecolor": "white",
            "showbackground": true,
            "ticks": "",
            "zerolinecolor": "white"
           },
           "zaxis": {
            "backgroundcolor": "#E5ECF6",
            "gridcolor": "white",
            "gridwidth": 2,
            "linecolor": "white",
            "showbackground": true,
            "ticks": "",
            "zerolinecolor": "white"
           }
          },
          "shapedefaults": {
           "line": {
            "color": "#2a3f5f"
           }
          },
          "ternary": {
           "aaxis": {
            "gridcolor": "white",
            "linecolor": "white",
            "ticks": ""
           },
           "baxis": {
            "gridcolor": "white",
            "linecolor": "white",
            "ticks": ""
           },
           "bgcolor": "#E5ECF6",
           "caxis": {
            "gridcolor": "white",
            "linecolor": "white",
            "ticks": ""
           }
          },
          "title": {
           "x": 0.05
          },
          "xaxis": {
           "automargin": true,
           "gridcolor": "white",
           "linecolor": "white",
           "ticks": "",
           "title": {
            "standoff": 15
           },
           "zerolinecolor": "white",
           "zerolinewidth": 2
          },
          "yaxis": {
           "automargin": true,
           "gridcolor": "white",
           "linecolor": "white",
           "ticks": "",
           "title": {
            "standoff": 15
           },
           "zerolinecolor": "white",
           "zerolinewidth": 2
          }
         }
        },
        "title": {
         "text": "Correlation between components per km and infrastructure length"
        },
        "xaxis": {
         "anchor": "y",
         "domain": [
          0,
          1
         ],
         "title": {
          "text": "Length of bicycle infrastructure (km)"
         }
        },
        "yaxis": {
         "anchor": "x",
         "domain": [
          0,
          1
         ],
         "title": {
          "text": "Components per km"
         }
        }
       }
      }
     },
     "metadata": {},
     "output_type": "display_data"
    },
    {
     "data": {
      "application/vnd.plotly.v1+json": {
       "config": {
        "plotlyServerURL": "https://plot.ly"
       },
       "data": [
        {
         "customdata": [
          [
           "Aabenraa"
          ],
          [
           "Aalborg"
          ],
          [
           "Aarhus"
          ],
          [
           "Albertslund"
          ],
          [
           "Allerød"
          ],
          [
           "Assens"
          ],
          [
           "Ballerup"
          ],
          [
           "Billund"
          ],
          [
           "Bornholm"
          ],
          [
           "Brøndby"
          ],
          [
           "Brønderslev"
          ],
          [
           "Dragør"
          ],
          [
           "Egedal"
          ],
          [
           "Esbjerg"
          ],
          [
           "Faaborg-Midtfyn"
          ],
          [
           "Fanø"
          ],
          [
           "Favrskov"
          ],
          [
           "Faxe"
          ],
          [
           "Fredensborg"
          ],
          [
           "Fredericia"
          ],
          [
           "Frederiksberg"
          ],
          [
           "Frederikshavn"
          ],
          [
           "Frederikssund"
          ],
          [
           "Furesø"
          ],
          [
           "Gentofte"
          ],
          [
           "Gladsaxe"
          ],
          [
           "Glostrup"
          ],
          [
           "Greve"
          ],
          [
           "Gribskov"
          ],
          [
           "Guldborgsund"
          ],
          [
           "Haderslev"
          ],
          [
           "Halsnæs"
          ],
          [
           "Hedensted"
          ],
          [
           "Helsingør"
          ],
          [
           "Herlev"
          ],
          [
           "Herning"
          ],
          [
           "Hillerød"
          ],
          [
           "Hjørring"
          ],
          [
           "Holbæk"
          ],
          [
           "Holstebro"
          ],
          [
           "Horsens"
          ],
          [
           "Hvidovre"
          ],
          [
           "Høje-Taastrup"
          ],
          [
           "Hørsholm"
          ],
          [
           "Ikast-Brande"
          ],
          [
           "Ishøj"
          ],
          [
           "Jammerbugt"
          ],
          [
           "Kalundborg"
          ],
          [
           "Kerteminde"
          ],
          [
           "Kolding"
          ],
          [
           "København"
          ],
          [
           "Køge"
          ],
          [
           "Langeland"
          ],
          [
           "Lejre"
          ],
          [
           "Lemvig"
          ],
          [
           "Lolland"
          ],
          [
           "Lyngby-Taarbæk"
          ],
          [
           "Læsø"
          ],
          [
           "Mariagerfjord"
          ],
          [
           "Middelfart"
          ],
          [
           "Morsø"
          ],
          [
           "Norddjurs"
          ],
          [
           "Nordfyns"
          ],
          [
           "Nyborg"
          ],
          [
           "Næstved"
          ],
          [
           "Odder"
          ],
          [
           "Odense"
          ],
          [
           "Odsherred"
          ],
          [
           "Randers"
          ],
          [
           "Rebild"
          ],
          [
           "Ringkøbing-Skjern"
          ],
          [
           "Ringsted"
          ],
          [
           "Roskilde"
          ],
          [
           "Rudersdal"
          ],
          [
           "Rødovre"
          ],
          [
           "Samsø"
          ],
          [
           "Silkeborg"
          ],
          [
           "Skanderborg"
          ],
          [
           "Skive"
          ],
          [
           "Slagelse"
          ],
          [
           "Solrød"
          ],
          [
           "Sorø"
          ],
          [
           "Stevns"
          ],
          [
           "Struer"
          ],
          [
           "Svendborg"
          ],
          [
           "Syddjurs"
          ],
          [
           "Sønderborg"
          ],
          [
           "Thisted"
          ],
          [
           "Tårnby"
          ],
          [
           "Tønder"
          ],
          [
           "Vallensbæk"
          ],
          [
           "Varde"
          ],
          [
           "Vejen"
          ],
          [
           "Vejle"
          ],
          [
           "Vesthimmerlands"
          ],
          [
           "Viborg"
          ],
          [
           "Vordingborg"
          ],
          [
           "Ærø"
          ]
         ],
         "hovertemplate": "Size (sqkm)=%{x}<br>Components per km=%{y}<br>Municipality=%{customdata[0]}<br>Length of bicycle infrastructure (km)=%{marker.color}<extra></extra>",
         "legendgroup": "",
         "marker": {
          "color": [
           193.542,
           218.765,
           240.556,
           9.894,
           54.392,
           202.614,
           53.346,
           32.687,
           106.316,
           29.43,
           42.879,
           9.694,
           41.894,
           127.738,
           149.534,
           7.959,
           116.307,
           85.918,
           64.635,
           206.724,
           67.239,
           101.326,
           78.062,
           49.298,
           127.099,
           95.514,
           30.832,
           15.693,
           37.128,
           101.102,
           79.835,
           109.083,
           78.806,
           117.972,
           23.288,
           141.583,
           53.832,
           62.547,
           136.157,
           76.324,
           147.099,
           48.315,
           42.155,
           47.134,
           59.682,
           3.367,
           36.936,
           124.349,
           54.983,
           104.138,
           485.552,
           62.518,
           40.709,
           32.425,
           34.277,
           83.732,
           89.601,
           5.13,
           93.916,
           104.092,
           13.719,
           52.302,
           74.636,
           77.486,
           120.892,
           33.71,
           289.278,
           105.781,
           156.582,
           29.73,
           108.223,
           68.777,
           152.816,
           129.363,
           36.818,
           4.484,
           161.692,
           86.82,
           177.204,
           135.039,
           55.976,
           52.437,
           30.183,
           51.863,
           156.511,
           81.58,
           101.626,
           68.587,
           71.261,
           172.336,
           12.548,
           68.116,
           68.728,
           203.558,
           41.079,
           401.855,
           75.289,
           6.247
          ],
          "coloraxis": "coloraxis",
          "symbol": "circle"
         },
         "mode": "markers",
         "name": "",
         "orientation": "v",
         "showlegend": false,
         "type": "scatter",
         "x": [
          940.61,
          1138,
          471.2,
          23.44,
          67.43,
          512.24,
          33.9,
          540.24,
          589.33,
          20.99,
          633.37,
          18.41,
          125.8,
          758.34,
          637.57,
          66.41,
          540.1,
          405.1,
          112.14,
          134.27,
          8.71,
          651.9,
          250.97,
          56.8,
          25.62,
          24.93,
          13.29,
          60.62,
          279.54,
          903.28,
          813.71,
          122.15,
          551.36,
          121.72,
          12.06,
          1322.88,
          213.41,
          926.61,
          579.22,
          804.31,
          524.26,
          22.96,
          78.2,
          31.35,
          735.42,
          26.5,
          866.37,
          605.35,
          207.33,
          604.55,
          91.7,
          258.58,
          290.93,
          240.1,
          516.73,
          895.62,
          38.8,
          119.76,
          724.24,
          299.63,
          364.59,
          723.5,
          452.77,
          277.05,
          685.31,
          225.2,
          304.76,
          356.66,
          748.25,
          622.58,
          1494.12,
          295.15,
          212.21,
          73.38,
          12.17,
          114.8,
          864.9,
          455.56,
          687.98,
          570.13,
          40.46,
          309.26,
          249.92,
          245.51,
          416.59,
          696.78,
          495.47,
          1095.34,
          65.99,
          1184.29,
          9.49,
          1236.08,
          813.67,
          1061.61,
          768.04,
          1421.26,
          625.26,
          89.77
         ],
         "xaxis": "x",
         "y": [
          0.26,
          0.47,
          1.13,
          3.03,
          0.55,
          0.17,
          1.03,
          0.67,
          0.33,
          1.19,
          0.49,
          0.62,
          1.1,
          0.44,
          0.43,
          0.75,
          0.73,
          0.28,
          0.36,
          0.14,
          0.18,
          0.55,
          0.63,
          0.71,
          0.22,
          0.14,
          1.07,
          1.78,
          1.02,
          0.59,
          0.66,
          0.46,
          0.7,
          0.39,
          0.99,
          0.85,
          1.04,
          0.82,
          0.3,
          0.76,
          0.65,
          0.66,
          1.59,
          0.3,
          1.12,
          4.46,
          1,
          0.31,
          0.58,
          0.53,
          0.1,
          0.5,
          0.42,
          1.14,
          1.11,
          0.24,
          0.35,
          0.78,
          0.35,
          0.38,
          0.8,
          0.57,
          0.32,
          0.45,
          0.55,
          0.42,
          0.38,
          0.34,
          0.93,
          0.84,
          1.03,
          0.63,
          0.48,
          0.39,
          0.71,
          1.12,
          0.84,
          0.89,
          0.33,
          0.47,
          0.18,
          0.5,
          0.63,
          0.35,
          0.4,
          0.66,
          0.68,
          0.63,
          0.15,
          0.3,
          2.07,
          0.54,
          0.38,
          0.42,
          0.63,
          0.28,
          0.72,
          0.48
         ],
         "yaxis": "y"
        }
       ],
       "layout": {
        "coloraxis": {
         "colorbar": {
          "title": {
           "text": "Length of bicycle infrastructure (km)"
          }
         },
         "colorscale": [
          [
           0,
           "#fde725"
          ],
          [
           0.1111111111111111,
           "#b5de2b"
          ],
          [
           0.2222222222222222,
           "#6ece58"
          ],
          [
           0.3333333333333333,
           "#35b779"
          ],
          [
           0.4444444444444444,
           "#1f9e89"
          ],
          [
           0.5555555555555556,
           "#26828e"
          ],
          [
           0.6666666666666666,
           "#31688e"
          ],
          [
           0.7777777777777778,
           "#3e4989"
          ],
          [
           0.8888888888888888,
           "#482878"
          ],
          [
           1,
           "#440154"
          ]
         ]
        },
        "font": {
         "color": "RebeccaPurple",
         "size": 12
        },
        "legend": {
         "tracegroupgap": 0
        },
        "template": {
         "data": {
          "bar": [
           {
            "error_x": {
             "color": "#2a3f5f"
            },
            "error_y": {
             "color": "#2a3f5f"
            },
            "marker": {
             "line": {
              "color": "#E5ECF6",
              "width": 0.5
             },
             "pattern": {
              "fillmode": "overlay",
              "size": 10,
              "solidity": 0.2
             }
            },
            "type": "bar"
           }
          ],
          "barpolar": [
           {
            "marker": {
             "line": {
              "color": "#E5ECF6",
              "width": 0.5
             },
             "pattern": {
              "fillmode": "overlay",
              "size": 10,
              "solidity": 0.2
             }
            },
            "type": "barpolar"
           }
          ],
          "carpet": [
           {
            "aaxis": {
             "endlinecolor": "#2a3f5f",
             "gridcolor": "white",
             "linecolor": "white",
             "minorgridcolor": "white",
             "startlinecolor": "#2a3f5f"
            },
            "baxis": {
             "endlinecolor": "#2a3f5f",
             "gridcolor": "white",
             "linecolor": "white",
             "minorgridcolor": "white",
             "startlinecolor": "#2a3f5f"
            },
            "type": "carpet"
           }
          ],
          "choropleth": [
           {
            "colorbar": {
             "outlinewidth": 0,
             "ticks": ""
            },
            "type": "choropleth"
           }
          ],
          "contour": [
           {
            "colorbar": {
             "outlinewidth": 0,
             "ticks": ""
            },
            "colorscale": [
             [
              0,
              "#0d0887"
             ],
             [
              0.1111111111111111,
              "#46039f"
             ],
             [
              0.2222222222222222,
              "#7201a8"
             ],
             [
              0.3333333333333333,
              "#9c179e"
             ],
             [
              0.4444444444444444,
              "#bd3786"
             ],
             [
              0.5555555555555556,
              "#d8576b"
             ],
             [
              0.6666666666666666,
              "#ed7953"
             ],
             [
              0.7777777777777778,
              "#fb9f3a"
             ],
             [
              0.8888888888888888,
              "#fdca26"
             ],
             [
              1,
              "#f0f921"
             ]
            ],
            "type": "contour"
           }
          ],
          "contourcarpet": [
           {
            "colorbar": {
             "outlinewidth": 0,
             "ticks": ""
            },
            "type": "contourcarpet"
           }
          ],
          "heatmap": [
           {
            "colorbar": {
             "outlinewidth": 0,
             "ticks": ""
            },
            "colorscale": [
             [
              0,
              "#0d0887"
             ],
             [
              0.1111111111111111,
              "#46039f"
             ],
             [
              0.2222222222222222,
              "#7201a8"
             ],
             [
              0.3333333333333333,
              "#9c179e"
             ],
             [
              0.4444444444444444,
              "#bd3786"
             ],
             [
              0.5555555555555556,
              "#d8576b"
             ],
             [
              0.6666666666666666,
              "#ed7953"
             ],
             [
              0.7777777777777778,
              "#fb9f3a"
             ],
             [
              0.8888888888888888,
              "#fdca26"
             ],
             [
              1,
              "#f0f921"
             ]
            ],
            "type": "heatmap"
           }
          ],
          "heatmapgl": [
           {
            "colorbar": {
             "outlinewidth": 0,
             "ticks": ""
            },
            "colorscale": [
             [
              0,
              "#0d0887"
             ],
             [
              0.1111111111111111,
              "#46039f"
             ],
             [
              0.2222222222222222,
              "#7201a8"
             ],
             [
              0.3333333333333333,
              "#9c179e"
             ],
             [
              0.4444444444444444,
              "#bd3786"
             ],
             [
              0.5555555555555556,
              "#d8576b"
             ],
             [
              0.6666666666666666,
              "#ed7953"
             ],
             [
              0.7777777777777778,
              "#fb9f3a"
             ],
             [
              0.8888888888888888,
              "#fdca26"
             ],
             [
              1,
              "#f0f921"
             ]
            ],
            "type": "heatmapgl"
           }
          ],
          "histogram": [
           {
            "marker": {
             "pattern": {
              "fillmode": "overlay",
              "size": 10,
              "solidity": 0.2
             }
            },
            "type": "histogram"
           }
          ],
          "histogram2d": [
           {
            "colorbar": {
             "outlinewidth": 0,
             "ticks": ""
            },
            "colorscale": [
             [
              0,
              "#0d0887"
             ],
             [
              0.1111111111111111,
              "#46039f"
             ],
             [
              0.2222222222222222,
              "#7201a8"
             ],
             [
              0.3333333333333333,
              "#9c179e"
             ],
             [
              0.4444444444444444,
              "#bd3786"
             ],
             [
              0.5555555555555556,
              "#d8576b"
             ],
             [
              0.6666666666666666,
              "#ed7953"
             ],
             [
              0.7777777777777778,
              "#fb9f3a"
             ],
             [
              0.8888888888888888,
              "#fdca26"
             ],
             [
              1,
              "#f0f921"
             ]
            ],
            "type": "histogram2d"
           }
          ],
          "histogram2dcontour": [
           {
            "colorbar": {
             "outlinewidth": 0,
             "ticks": ""
            },
            "colorscale": [
             [
              0,
              "#0d0887"
             ],
             [
              0.1111111111111111,
              "#46039f"
             ],
             [
              0.2222222222222222,
              "#7201a8"
             ],
             [
              0.3333333333333333,
              "#9c179e"
             ],
             [
              0.4444444444444444,
              "#bd3786"
             ],
             [
              0.5555555555555556,
              "#d8576b"
             ],
             [
              0.6666666666666666,
              "#ed7953"
             ],
             [
              0.7777777777777778,
              "#fb9f3a"
             ],
             [
              0.8888888888888888,
              "#fdca26"
             ],
             [
              1,
              "#f0f921"
             ]
            ],
            "type": "histogram2dcontour"
           }
          ],
          "mesh3d": [
           {
            "colorbar": {
             "outlinewidth": 0,
             "ticks": ""
            },
            "type": "mesh3d"
           }
          ],
          "parcoords": [
           {
            "line": {
             "colorbar": {
              "outlinewidth": 0,
              "ticks": ""
             }
            },
            "type": "parcoords"
           }
          ],
          "pie": [
           {
            "automargin": true,
            "type": "pie"
           }
          ],
          "scatter": [
           {
            "fillpattern": {
             "fillmode": "overlay",
             "size": 10,
             "solidity": 0.2
            },
            "type": "scatter"
           }
          ],
          "scatter3d": [
           {
            "line": {
             "colorbar": {
              "outlinewidth": 0,
              "ticks": ""
             }
            },
            "marker": {
             "colorbar": {
              "outlinewidth": 0,
              "ticks": ""
             }
            },
            "type": "scatter3d"
           }
          ],
          "scattercarpet": [
           {
            "marker": {
             "colorbar": {
              "outlinewidth": 0,
              "ticks": ""
             }
            },
            "type": "scattercarpet"
           }
          ],
          "scattergeo": [
           {
            "marker": {
             "colorbar": {
              "outlinewidth": 0,
              "ticks": ""
             }
            },
            "type": "scattergeo"
           }
          ],
          "scattergl": [
           {
            "marker": {
             "colorbar": {
              "outlinewidth": 0,
              "ticks": ""
             }
            },
            "type": "scattergl"
           }
          ],
          "scattermapbox": [
           {
            "marker": {
             "colorbar": {
              "outlinewidth": 0,
              "ticks": ""
             }
            },
            "type": "scattermapbox"
           }
          ],
          "scatterpolar": [
           {
            "marker": {
             "colorbar": {
              "outlinewidth": 0,
              "ticks": ""
             }
            },
            "type": "scatterpolar"
           }
          ],
          "scatterpolargl": [
           {
            "marker": {
             "colorbar": {
              "outlinewidth": 0,
              "ticks": ""
             }
            },
            "type": "scatterpolargl"
           }
          ],
          "scatterternary": [
           {
            "marker": {
             "colorbar": {
              "outlinewidth": 0,
              "ticks": ""
             }
            },
            "type": "scatterternary"
           }
          ],
          "surface": [
           {
            "colorbar": {
             "outlinewidth": 0,
             "ticks": ""
            },
            "colorscale": [
             [
              0,
              "#0d0887"
             ],
             [
              0.1111111111111111,
              "#46039f"
             ],
             [
              0.2222222222222222,
              "#7201a8"
             ],
             [
              0.3333333333333333,
              "#9c179e"
             ],
             [
              0.4444444444444444,
              "#bd3786"
             ],
             [
              0.5555555555555556,
              "#d8576b"
             ],
             [
              0.6666666666666666,
              "#ed7953"
             ],
             [
              0.7777777777777778,
              "#fb9f3a"
             ],
             [
              0.8888888888888888,
              "#fdca26"
             ],
             [
              1,
              "#f0f921"
             ]
            ],
            "type": "surface"
           }
          ],
          "table": [
           {
            "cells": {
             "fill": {
              "color": "#EBF0F8"
             },
             "line": {
              "color": "white"
             }
            },
            "header": {
             "fill": {
              "color": "#C8D4E3"
             },
             "line": {
              "color": "white"
             }
            },
            "type": "table"
           }
          ]
         },
         "layout": {
          "annotationdefaults": {
           "arrowcolor": "#2a3f5f",
           "arrowhead": 0,
           "arrowwidth": 1
          },
          "autotypenumbers": "strict",
          "coloraxis": {
           "colorbar": {
            "outlinewidth": 0,
            "ticks": ""
           }
          },
          "colorscale": {
           "diverging": [
            [
             0,
             "#8e0152"
            ],
            [
             0.1,
             "#c51b7d"
            ],
            [
             0.2,
             "#de77ae"
            ],
            [
             0.3,
             "#f1b6da"
            ],
            [
             0.4,
             "#fde0ef"
            ],
            [
             0.5,
             "#f7f7f7"
            ],
            [
             0.6,
             "#e6f5d0"
            ],
            [
             0.7,
             "#b8e186"
            ],
            [
             0.8,
             "#7fbc41"
            ],
            [
             0.9,
             "#4d9221"
            ],
            [
             1,
             "#276419"
            ]
           ],
           "sequential": [
            [
             0,
             "#0d0887"
            ],
            [
             0.1111111111111111,
             "#46039f"
            ],
            [
             0.2222222222222222,
             "#7201a8"
            ],
            [
             0.3333333333333333,
             "#9c179e"
            ],
            [
             0.4444444444444444,
             "#bd3786"
            ],
            [
             0.5555555555555556,
             "#d8576b"
            ],
            [
             0.6666666666666666,
             "#ed7953"
            ],
            [
             0.7777777777777778,
             "#fb9f3a"
            ],
            [
             0.8888888888888888,
             "#fdca26"
            ],
            [
             1,
             "#f0f921"
            ]
           ],
           "sequentialminus": [
            [
             0,
             "#0d0887"
            ],
            [
             0.1111111111111111,
             "#46039f"
            ],
            [
             0.2222222222222222,
             "#7201a8"
            ],
            [
             0.3333333333333333,
             "#9c179e"
            ],
            [
             0.4444444444444444,
             "#bd3786"
            ],
            [
             0.5555555555555556,
             "#d8576b"
            ],
            [
             0.6666666666666666,
             "#ed7953"
            ],
            [
             0.7777777777777778,
             "#fb9f3a"
            ],
            [
             0.8888888888888888,
             "#fdca26"
            ],
            [
             1,
             "#f0f921"
            ]
           ]
          },
          "colorway": [
           "#636efa",
           "#EF553B",
           "#00cc96",
           "#ab63fa",
           "#FFA15A",
           "#19d3f3",
           "#FF6692",
           "#B6E880",
           "#FF97FF",
           "#FECB52"
          ],
          "font": {
           "color": "#2a3f5f"
          },
          "geo": {
           "bgcolor": "white",
           "lakecolor": "white",
           "landcolor": "#E5ECF6",
           "showlakes": true,
           "showland": true,
           "subunitcolor": "white"
          },
          "hoverlabel": {
           "align": "left"
          },
          "hovermode": "closest",
          "mapbox": {
           "style": "light"
          },
          "paper_bgcolor": "white",
          "plot_bgcolor": "#E5ECF6",
          "polar": {
           "angularaxis": {
            "gridcolor": "white",
            "linecolor": "white",
            "ticks": ""
           },
           "bgcolor": "#E5ECF6",
           "radialaxis": {
            "gridcolor": "white",
            "linecolor": "white",
            "ticks": ""
           }
          },
          "scene": {
           "xaxis": {
            "backgroundcolor": "#E5ECF6",
            "gridcolor": "white",
            "gridwidth": 2,
            "linecolor": "white",
            "showbackground": true,
            "ticks": "",
            "zerolinecolor": "white"
           },
           "yaxis": {
            "backgroundcolor": "#E5ECF6",
            "gridcolor": "white",
            "gridwidth": 2,
            "linecolor": "white",
            "showbackground": true,
            "ticks": "",
            "zerolinecolor": "white"
           },
           "zaxis": {
            "backgroundcolor": "#E5ECF6",
            "gridcolor": "white",
            "gridwidth": 2,
            "linecolor": "white",
            "showbackground": true,
            "ticks": "",
            "zerolinecolor": "white"
           }
          },
          "shapedefaults": {
           "line": {
            "color": "#2a3f5f"
           }
          },
          "ternary": {
           "aaxis": {
            "gridcolor": "white",
            "linecolor": "white",
            "ticks": ""
           },
           "baxis": {
            "gridcolor": "white",
            "linecolor": "white",
            "ticks": ""
           },
           "bgcolor": "#E5ECF6",
           "caxis": {
            "gridcolor": "white",
            "linecolor": "white",
            "ticks": ""
           }
          },
          "title": {
           "x": 0.05
          },
          "xaxis": {
           "automargin": true,
           "gridcolor": "white",
           "linecolor": "white",
           "ticks": "",
           "title": {
            "standoff": 15
           },
           "zerolinecolor": "white",
           "zerolinewidth": 2
          },
          "yaxis": {
           "automargin": true,
           "gridcolor": "white",
           "linecolor": "white",
           "ticks": "",
           "title": {
            "standoff": 15
           },
           "zerolinecolor": "white",
           "zerolinewidth": 2
          }
         }
        },
        "title": {
         "text": "Correlation between components per km and municipality size"
        },
        "xaxis": {
         "anchor": "y",
         "domain": [
          0,
          1
         ],
         "title": {
          "text": "Size (sqkm)"
         }
        },
        "yaxis": {
         "anchor": "x",
         "domain": [
          0,
          1
         ],
         "title": {
          "text": "Components per km"
         }
        }
       }
      }
     },
     "metadata": {},
     "output_type": "display_data"
    },
    {
     "data": {
      "application/vnd.plotly.v1+json": {
       "config": {
        "plotlyServerURL": "https://plot.ly"
       },
       "data": [
        {
         "customdata": [
          [
           "Aabenraa"
          ],
          [
           "Aalborg"
          ],
          [
           "Aarhus"
          ],
          [
           "Albertslund"
          ],
          [
           "Allerød"
          ],
          [
           "Assens"
          ],
          [
           "Ballerup"
          ],
          [
           "Billund"
          ],
          [
           "Bornholm"
          ],
          [
           "Brøndby"
          ],
          [
           "Brønderslev"
          ],
          [
           "Dragør"
          ],
          [
           "Egedal"
          ],
          [
           "Esbjerg"
          ],
          [
           "Faaborg-Midtfyn"
          ],
          [
           "Fanø"
          ],
          [
           "Favrskov"
          ],
          [
           "Faxe"
          ],
          [
           "Fredensborg"
          ],
          [
           "Fredericia"
          ],
          [
           "Frederiksberg"
          ],
          [
           "Frederikshavn"
          ],
          [
           "Frederikssund"
          ],
          [
           "Furesø"
          ],
          [
           "Gentofte"
          ],
          [
           "Gladsaxe"
          ],
          [
           "Glostrup"
          ],
          [
           "Greve"
          ],
          [
           "Gribskov"
          ],
          [
           "Guldborgsund"
          ],
          [
           "Haderslev"
          ],
          [
           "Halsnæs"
          ],
          [
           "Hedensted"
          ],
          [
           "Helsingør"
          ],
          [
           "Herlev"
          ],
          [
           "Herning"
          ],
          [
           "Hillerød"
          ],
          [
           "Hjørring"
          ],
          [
           "Holbæk"
          ],
          [
           "Holstebro"
          ],
          [
           "Horsens"
          ],
          [
           "Hvidovre"
          ],
          [
           "Høje-Taastrup"
          ],
          [
           "Hørsholm"
          ],
          [
           "Ikast-Brande"
          ],
          [
           "Ishøj"
          ],
          [
           "Jammerbugt"
          ],
          [
           "Kalundborg"
          ],
          [
           "Kerteminde"
          ],
          [
           "Kolding"
          ],
          [
           "København"
          ],
          [
           "Køge"
          ],
          [
           "Langeland"
          ],
          [
           "Lejre"
          ],
          [
           "Lemvig"
          ],
          [
           "Lolland"
          ],
          [
           "Lyngby-Taarbæk"
          ],
          [
           "Læsø"
          ],
          [
           "Mariagerfjord"
          ],
          [
           "Middelfart"
          ],
          [
           "Morsø"
          ],
          [
           "Norddjurs"
          ],
          [
           "Nordfyns"
          ],
          [
           "Nyborg"
          ],
          [
           "Næstved"
          ],
          [
           "Odder"
          ],
          [
           "Odense"
          ],
          [
           "Odsherred"
          ],
          [
           "Randers"
          ],
          [
           "Rebild"
          ],
          [
           "Ringkøbing-Skjern"
          ],
          [
           "Ringsted"
          ],
          [
           "Roskilde"
          ],
          [
           "Rudersdal"
          ],
          [
           "Rødovre"
          ],
          [
           "Samsø"
          ],
          [
           "Silkeborg"
          ],
          [
           "Skanderborg"
          ],
          [
           "Skive"
          ],
          [
           "Slagelse"
          ],
          [
           "Solrød"
          ],
          [
           "Sorø"
          ],
          [
           "Stevns"
          ],
          [
           "Struer"
          ],
          [
           "Svendborg"
          ],
          [
           "Syddjurs"
          ],
          [
           "Sønderborg"
          ],
          [
           "Thisted"
          ],
          [
           "Tårnby"
          ],
          [
           "Tønder"
          ],
          [
           "Vallensbæk"
          ],
          [
           "Varde"
          ],
          [
           "Vejen"
          ],
          [
           "Vejle"
          ],
          [
           "Vesthimmerlands"
          ],
          [
           "Viborg"
          ],
          [
           "Vordingborg"
          ],
          [
           "Ærø"
          ]
         ],
         "hovertemplate": "Infrastructure density=%{x}<br>Components per km=%{y}<br>Municipality=%{customdata[0]}<extra></extra>",
         "legendgroup": "",
         "marker": {
          "color": "#636efa",
          "symbol": "circle"
         },
         "mode": "markers",
         "name": "",
         "orientation": "v",
         "showlegend": false,
         "type": "scatter",
         "x": [
          0.206,
          0.192,
          0.511,
          0.422,
          0.807,
          0.396,
          1.574,
          0.061,
          0.18,
          1.402,
          0.068,
          0.527,
          0.333,
          0.168,
          0.235,
          0.12,
          0.215,
          0.212,
          0.576,
          1.54,
          7.72,
          0.155,
          0.311,
          0.868,
          4.961,
          3.831,
          2.32,
          0.259,
          0.133,
          0.112,
          0.098,
          0.893,
          0.143,
          0.969,
          1.931,
          0.107,
          0.252,
          0.068,
          0.235,
          0.095,
          0.281,
          2.104,
          0.539,
          1.503,
          0.081,
          0.127,
          0.043,
          0.205,
          0.265,
          0.172,
          5.295,
          0.242,
          0.14,
          0.135,
          0.066,
          0.093,
          2.309,
          0.043,
          0.13,
          0.347,
          0.038,
          0.072,
          0.165,
          0.28,
          0.176,
          0.15,
          0.949,
          0.297,
          0.209,
          0.048,
          0.072,
          0.233,
          0.72,
          1.763,
          3.025,
          0.039,
          0.187,
          0.191,
          0.258,
          0.237,
          1.383,
          0.17,
          0.121,
          0.211,
          0.376,
          0.117,
          0.205,
          0.063,
          1.08,
          0.146,
          1.322,
          0.055,
          0.084,
          0.192,
          0.053,
          0.283,
          0.12,
          0.07
         ],
         "xaxis": "x",
         "y": [
          0.26,
          0.47,
          1.13,
          3.03,
          0.55,
          0.17,
          1.03,
          0.67,
          0.33,
          1.19,
          0.49,
          0.62,
          1.1,
          0.44,
          0.43,
          0.75,
          0.73,
          0.28,
          0.36,
          0.14,
          0.18,
          0.55,
          0.63,
          0.71,
          0.22,
          0.14,
          1.07,
          1.78,
          1.02,
          0.59,
          0.66,
          0.46,
          0.7,
          0.39,
          0.99,
          0.85,
          1.04,
          0.82,
          0.3,
          0.76,
          0.65,
          0.66,
          1.59,
          0.3,
          1.12,
          4.46,
          1,
          0.31,
          0.58,
          0.53,
          0.1,
          0.5,
          0.42,
          1.14,
          1.11,
          0.24,
          0.35,
          0.78,
          0.35,
          0.38,
          0.8,
          0.57,
          0.32,
          0.45,
          0.55,
          0.42,
          0.38,
          0.34,
          0.93,
          0.84,
          1.03,
          0.63,
          0.48,
          0.39,
          0.71,
          1.12,
          0.84,
          0.89,
          0.33,
          0.47,
          0.18,
          0.5,
          0.63,
          0.35,
          0.4,
          0.66,
          0.68,
          0.63,
          0.15,
          0.3,
          2.07,
          0.54,
          0.38,
          0.42,
          0.63,
          0.28,
          0.72,
          0.48
         ],
         "yaxis": "y"
        }
       ],
       "layout": {
        "font": {
         "color": "RebeccaPurple",
         "size": 12
        },
        "legend": {
         "tracegroupgap": 0
        },
        "template": {
         "data": {
          "bar": [
           {
            "error_x": {
             "color": "#2a3f5f"
            },
            "error_y": {
             "color": "#2a3f5f"
            },
            "marker": {
             "line": {
              "color": "#E5ECF6",
              "width": 0.5
             },
             "pattern": {
              "fillmode": "overlay",
              "size": 10,
              "solidity": 0.2
             }
            },
            "type": "bar"
           }
          ],
          "barpolar": [
           {
            "marker": {
             "line": {
              "color": "#E5ECF6",
              "width": 0.5
             },
             "pattern": {
              "fillmode": "overlay",
              "size": 10,
              "solidity": 0.2
             }
            },
            "type": "barpolar"
           }
          ],
          "carpet": [
           {
            "aaxis": {
             "endlinecolor": "#2a3f5f",
             "gridcolor": "white",
             "linecolor": "white",
             "minorgridcolor": "white",
             "startlinecolor": "#2a3f5f"
            },
            "baxis": {
             "endlinecolor": "#2a3f5f",
             "gridcolor": "white",
             "linecolor": "white",
             "minorgridcolor": "white",
             "startlinecolor": "#2a3f5f"
            },
            "type": "carpet"
           }
          ],
          "choropleth": [
           {
            "colorbar": {
             "outlinewidth": 0,
             "ticks": ""
            },
            "type": "choropleth"
           }
          ],
          "contour": [
           {
            "colorbar": {
             "outlinewidth": 0,
             "ticks": ""
            },
            "colorscale": [
             [
              0,
              "#0d0887"
             ],
             [
              0.1111111111111111,
              "#46039f"
             ],
             [
              0.2222222222222222,
              "#7201a8"
             ],
             [
              0.3333333333333333,
              "#9c179e"
             ],
             [
              0.4444444444444444,
              "#bd3786"
             ],
             [
              0.5555555555555556,
              "#d8576b"
             ],
             [
              0.6666666666666666,
              "#ed7953"
             ],
             [
              0.7777777777777778,
              "#fb9f3a"
             ],
             [
              0.8888888888888888,
              "#fdca26"
             ],
             [
              1,
              "#f0f921"
             ]
            ],
            "type": "contour"
           }
          ],
          "contourcarpet": [
           {
            "colorbar": {
             "outlinewidth": 0,
             "ticks": ""
            },
            "type": "contourcarpet"
           }
          ],
          "heatmap": [
           {
            "colorbar": {
             "outlinewidth": 0,
             "ticks": ""
            },
            "colorscale": [
             [
              0,
              "#0d0887"
             ],
             [
              0.1111111111111111,
              "#46039f"
             ],
             [
              0.2222222222222222,
              "#7201a8"
             ],
             [
              0.3333333333333333,
              "#9c179e"
             ],
             [
              0.4444444444444444,
              "#bd3786"
             ],
             [
              0.5555555555555556,
              "#d8576b"
             ],
             [
              0.6666666666666666,
              "#ed7953"
             ],
             [
              0.7777777777777778,
              "#fb9f3a"
             ],
             [
              0.8888888888888888,
              "#fdca26"
             ],
             [
              1,
              "#f0f921"
             ]
            ],
            "type": "heatmap"
           }
          ],
          "heatmapgl": [
           {
            "colorbar": {
             "outlinewidth": 0,
             "ticks": ""
            },
            "colorscale": [
             [
              0,
              "#0d0887"
             ],
             [
              0.1111111111111111,
              "#46039f"
             ],
             [
              0.2222222222222222,
              "#7201a8"
             ],
             [
              0.3333333333333333,
              "#9c179e"
             ],
             [
              0.4444444444444444,
              "#bd3786"
             ],
             [
              0.5555555555555556,
              "#d8576b"
             ],
             [
              0.6666666666666666,
              "#ed7953"
             ],
             [
              0.7777777777777778,
              "#fb9f3a"
             ],
             [
              0.8888888888888888,
              "#fdca26"
             ],
             [
              1,
              "#f0f921"
             ]
            ],
            "type": "heatmapgl"
           }
          ],
          "histogram": [
           {
            "marker": {
             "pattern": {
              "fillmode": "overlay",
              "size": 10,
              "solidity": 0.2
             }
            },
            "type": "histogram"
           }
          ],
          "histogram2d": [
           {
            "colorbar": {
             "outlinewidth": 0,
             "ticks": ""
            },
            "colorscale": [
             [
              0,
              "#0d0887"
             ],
             [
              0.1111111111111111,
              "#46039f"
             ],
             [
              0.2222222222222222,
              "#7201a8"
             ],
             [
              0.3333333333333333,
              "#9c179e"
             ],
             [
              0.4444444444444444,
              "#bd3786"
             ],
             [
              0.5555555555555556,
              "#d8576b"
             ],
             [
              0.6666666666666666,
              "#ed7953"
             ],
             [
              0.7777777777777778,
              "#fb9f3a"
             ],
             [
              0.8888888888888888,
              "#fdca26"
             ],
             [
              1,
              "#f0f921"
             ]
            ],
            "type": "histogram2d"
           }
          ],
          "histogram2dcontour": [
           {
            "colorbar": {
             "outlinewidth": 0,
             "ticks": ""
            },
            "colorscale": [
             [
              0,
              "#0d0887"
             ],
             [
              0.1111111111111111,
              "#46039f"
             ],
             [
              0.2222222222222222,
              "#7201a8"
             ],
             [
              0.3333333333333333,
              "#9c179e"
             ],
             [
              0.4444444444444444,
              "#bd3786"
             ],
             [
              0.5555555555555556,
              "#d8576b"
             ],
             [
              0.6666666666666666,
              "#ed7953"
             ],
             [
              0.7777777777777778,
              "#fb9f3a"
             ],
             [
              0.8888888888888888,
              "#fdca26"
             ],
             [
              1,
              "#f0f921"
             ]
            ],
            "type": "histogram2dcontour"
           }
          ],
          "mesh3d": [
           {
            "colorbar": {
             "outlinewidth": 0,
             "ticks": ""
            },
            "type": "mesh3d"
           }
          ],
          "parcoords": [
           {
            "line": {
             "colorbar": {
              "outlinewidth": 0,
              "ticks": ""
             }
            },
            "type": "parcoords"
           }
          ],
          "pie": [
           {
            "automargin": true,
            "type": "pie"
           }
          ],
          "scatter": [
           {
            "fillpattern": {
             "fillmode": "overlay",
             "size": 10,
             "solidity": 0.2
            },
            "type": "scatter"
           }
          ],
          "scatter3d": [
           {
            "line": {
             "colorbar": {
              "outlinewidth": 0,
              "ticks": ""
             }
            },
            "marker": {
             "colorbar": {
              "outlinewidth": 0,
              "ticks": ""
             }
            },
            "type": "scatter3d"
           }
          ],
          "scattercarpet": [
           {
            "marker": {
             "colorbar": {
              "outlinewidth": 0,
              "ticks": ""
             }
            },
            "type": "scattercarpet"
           }
          ],
          "scattergeo": [
           {
            "marker": {
             "colorbar": {
              "outlinewidth": 0,
              "ticks": ""
             }
            },
            "type": "scattergeo"
           }
          ],
          "scattergl": [
           {
            "marker": {
             "colorbar": {
              "outlinewidth": 0,
              "ticks": ""
             }
            },
            "type": "scattergl"
           }
          ],
          "scattermapbox": [
           {
            "marker": {
             "colorbar": {
              "outlinewidth": 0,
              "ticks": ""
             }
            },
            "type": "scattermapbox"
           }
          ],
          "scatterpolar": [
           {
            "marker": {
             "colorbar": {
              "outlinewidth": 0,
              "ticks": ""
             }
            },
            "type": "scatterpolar"
           }
          ],
          "scatterpolargl": [
           {
            "marker": {
             "colorbar": {
              "outlinewidth": 0,
              "ticks": ""
             }
            },
            "type": "scatterpolargl"
           }
          ],
          "scatterternary": [
           {
            "marker": {
             "colorbar": {
              "outlinewidth": 0,
              "ticks": ""
             }
            },
            "type": "scatterternary"
           }
          ],
          "surface": [
           {
            "colorbar": {
             "outlinewidth": 0,
             "ticks": ""
            },
            "colorscale": [
             [
              0,
              "#0d0887"
             ],
             [
              0.1111111111111111,
              "#46039f"
             ],
             [
              0.2222222222222222,
              "#7201a8"
             ],
             [
              0.3333333333333333,
              "#9c179e"
             ],
             [
              0.4444444444444444,
              "#bd3786"
             ],
             [
              0.5555555555555556,
              "#d8576b"
             ],
             [
              0.6666666666666666,
              "#ed7953"
             ],
             [
              0.7777777777777778,
              "#fb9f3a"
             ],
             [
              0.8888888888888888,
              "#fdca26"
             ],
             [
              1,
              "#f0f921"
             ]
            ],
            "type": "surface"
           }
          ],
          "table": [
           {
            "cells": {
             "fill": {
              "color": "#EBF0F8"
             },
             "line": {
              "color": "white"
             }
            },
            "header": {
             "fill": {
              "color": "#C8D4E3"
             },
             "line": {
              "color": "white"
             }
            },
            "type": "table"
           }
          ]
         },
         "layout": {
          "annotationdefaults": {
           "arrowcolor": "#2a3f5f",
           "arrowhead": 0,
           "arrowwidth": 1
          },
          "autotypenumbers": "strict",
          "coloraxis": {
           "colorbar": {
            "outlinewidth": 0,
            "ticks": ""
           }
          },
          "colorscale": {
           "diverging": [
            [
             0,
             "#8e0152"
            ],
            [
             0.1,
             "#c51b7d"
            ],
            [
             0.2,
             "#de77ae"
            ],
            [
             0.3,
             "#f1b6da"
            ],
            [
             0.4,
             "#fde0ef"
            ],
            [
             0.5,
             "#f7f7f7"
            ],
            [
             0.6,
             "#e6f5d0"
            ],
            [
             0.7,
             "#b8e186"
            ],
            [
             0.8,
             "#7fbc41"
            ],
            [
             0.9,
             "#4d9221"
            ],
            [
             1,
             "#276419"
            ]
           ],
           "sequential": [
            [
             0,
             "#0d0887"
            ],
            [
             0.1111111111111111,
             "#46039f"
            ],
            [
             0.2222222222222222,
             "#7201a8"
            ],
            [
             0.3333333333333333,
             "#9c179e"
            ],
            [
             0.4444444444444444,
             "#bd3786"
            ],
            [
             0.5555555555555556,
             "#d8576b"
            ],
            [
             0.6666666666666666,
             "#ed7953"
            ],
            [
             0.7777777777777778,
             "#fb9f3a"
            ],
            [
             0.8888888888888888,
             "#fdca26"
            ],
            [
             1,
             "#f0f921"
            ]
           ],
           "sequentialminus": [
            [
             0,
             "#0d0887"
            ],
            [
             0.1111111111111111,
             "#46039f"
            ],
            [
             0.2222222222222222,
             "#7201a8"
            ],
            [
             0.3333333333333333,
             "#9c179e"
            ],
            [
             0.4444444444444444,
             "#bd3786"
            ],
            [
             0.5555555555555556,
             "#d8576b"
            ],
            [
             0.6666666666666666,
             "#ed7953"
            ],
            [
             0.7777777777777778,
             "#fb9f3a"
            ],
            [
             0.8888888888888888,
             "#fdca26"
            ],
            [
             1,
             "#f0f921"
            ]
           ]
          },
          "colorway": [
           "#636efa",
           "#EF553B",
           "#00cc96",
           "#ab63fa",
           "#FFA15A",
           "#19d3f3",
           "#FF6692",
           "#B6E880",
           "#FF97FF",
           "#FECB52"
          ],
          "font": {
           "color": "#2a3f5f"
          },
          "geo": {
           "bgcolor": "white",
           "lakecolor": "white",
           "landcolor": "#E5ECF6",
           "showlakes": true,
           "showland": true,
           "subunitcolor": "white"
          },
          "hoverlabel": {
           "align": "left"
          },
          "hovermode": "closest",
          "mapbox": {
           "style": "light"
          },
          "paper_bgcolor": "white",
          "plot_bgcolor": "#E5ECF6",
          "polar": {
           "angularaxis": {
            "gridcolor": "white",
            "linecolor": "white",
            "ticks": ""
           },
           "bgcolor": "#E5ECF6",
           "radialaxis": {
            "gridcolor": "white",
            "linecolor": "white",
            "ticks": ""
           }
          },
          "scene": {
           "xaxis": {
            "backgroundcolor": "#E5ECF6",
            "gridcolor": "white",
            "gridwidth": 2,
            "linecolor": "white",
            "showbackground": true,
            "ticks": "",
            "zerolinecolor": "white"
           },
           "yaxis": {
            "backgroundcolor": "#E5ECF6",
            "gridcolor": "white",
            "gridwidth": 2,
            "linecolor": "white",
            "showbackground": true,
            "ticks": "",
            "zerolinecolor": "white"
           },
           "zaxis": {
            "backgroundcolor": "#E5ECF6",
            "gridcolor": "white",
            "gridwidth": 2,
            "linecolor": "white",
            "showbackground": true,
            "ticks": "",
            "zerolinecolor": "white"
           }
          },
          "shapedefaults": {
           "line": {
            "color": "#2a3f5f"
           }
          },
          "ternary": {
           "aaxis": {
            "gridcolor": "white",
            "linecolor": "white",
            "ticks": ""
           },
           "baxis": {
            "gridcolor": "white",
            "linecolor": "white",
            "ticks": ""
           },
           "bgcolor": "#E5ECF6",
           "caxis": {
            "gridcolor": "white",
            "linecolor": "white",
            "ticks": ""
           }
          },
          "title": {
           "x": 0.05
          },
          "xaxis": {
           "automargin": true,
           "gridcolor": "white",
           "linecolor": "white",
           "ticks": "",
           "title": {
            "standoff": 15
           },
           "zerolinecolor": "white",
           "zerolinewidth": 2
          },
          "yaxis": {
           "automargin": true,
           "gridcolor": "white",
           "linecolor": "white",
           "ticks": "",
           "title": {
            "standoff": 15
           },
           "zerolinecolor": "white",
           "zerolinewidth": 2
          }
         }
        },
        "title": {
         "text": "Correlation between components per km and infrastructure density"
        },
        "xaxis": {
         "anchor": "y",
         "domain": [
          0,
          1
         ],
         "title": {
          "text": "Infrastructure density"
         }
        },
        "yaxis": {
         "anchor": "x",
         "domain": [
          0,
          1
         ],
         "title": {
          "text": "Components per km"
         }
        }
       }
      }
     },
     "metadata": {},
     "output_type": "display_data"
    }
   ],
   "source": [
    "# Plot correlation between infrastructure length and no of components\n",
    "fig = px.scatter(\n",
    "    muni_network_counts,\n",
    "    x=\"infra_km\",\n",
    "    y=\"comp_per_km\",\n",
    "    title=\"Correlation between components per km and infrastructure length\",\n",
    "    hover_data=[\"name\"],\n",
    "    color=\"area_sqkm\",\n",
    "    color_continuous_scale=\"viridis_r\",\n",
    "    labels={\n",
    "        \"infra_km\": \"Length of bicycle infrastructure (km)\",\n",
    "        \"component_count\": \"Number of disconnected components\",\n",
    "        \"name\": \"Municipality\",\n",
    "        \"area_sqkm\": \"Size (sqkm)\",\n",
    "        \"comp_per_km\": \"Components per km\",\n",
    "    },\n",
    ")\n",
    "\n",
    "fig.update_layout(font=dict(size=12, color=\"RebeccaPurple\"))\n",
    "fig.show()\n",
    "\n",
    "# Plot correlation between infrastructure length and no of componentsß\n",
    "fig = px.scatter(\n",
    "    muni_network_counts,\n",
    "    x=\"area_sqkm\",\n",
    "    y=\"comp_per_km\",\n",
    "    title=\"Correlation between components per km and municipality size\",\n",
    "    hover_data=[\"name\"],\n",
    "    color=\"infra_km\",\n",
    "    color_continuous_scale=\"viridis_r\",\n",
    "    labels={\n",
    "        \"infra_km\": \"Length of bicycle infrastructure (km)\",\n",
    "        \"component_count\": \"Number of disconnected components\",\n",
    "        \"name\": \"Municipality\",\n",
    "        \"area_sqkm\": \"Size (sqkm)\",\n",
    "        \"comp_per_km\": \"Components per km\",\n",
    "    },\n",
    ")\n",
    "\n",
    "fig.update_layout(font=dict(size=12, color=\"RebeccaPurple\"))\n",
    "fig.show()\n",
    "\n",
    "# Plot correlation between infrastructure length and no of componentsß\n",
    "fig = px.scatter(\n",
    "    muni_network_counts,\n",
    "    x=\"infra_dens\",\n",
    "    y=\"comp_per_km\",\n",
    "    title=\"Correlation between components per km and infrastructure density\",\n",
    "    hover_data=[\"name\"],\n",
    "    # color=\"infra_km\",\n",
    "    # color_continuous_scale='viridis_r',\n",
    "    labels={\n",
    "        \"infra_km\": \"Length of bicycle infrastructure (km)\",\n",
    "        \"infra_dens\": \"Infrastructure density\",\n",
    "        \"component_count\": \"Number of disconnected components\",\n",
    "        \"name\": \"Municipality\",\n",
    "        \"area_sqkm\": \"Size (sqkm)\",\n",
    "        \"comp_per_km\": \"Components per km\",\n",
    "    },\n",
    ")\n",
    "\n",
    "fig.update_layout(font=dict(size=12, color=\"RebeccaPurple\"))\n",
    "\n",
    "fig.show()\n"
   ]
  },
  {
   "attachments": {},
   "cell_type": "markdown",
   "metadata": {},
   "source": [
    "**Export**"
   ]
  },
  {
   "cell_type": "code",
   "execution_count": 17,
   "metadata": {},
   "outputs": [],
   "source": [
    "# Export\n",
    "assert len(muni_network_counts) == 98\n",
    "muni_network_counts.to_csv(\n",
    "    ref_analysis_data_fp + \"muni_network_counts.csv\", index=False\n",
    ")\n",
    "\n",
    "int_grid.to_parquet(ref_analysis_data_fp + \"int_grid.parquet\")\n"
   ]
  },
  {
   "attachments": {},
   "cell_type": "markdown",
   "metadata": {},
   "source": [
    "## Correlations between quality metrics\n",
    "\n",
    "**Plot scatterplots of correlation between number of components and infrastructure length, area, and density**"
   ]
  },
  {
   "cell_type": "code",
   "execution_count": 18,
   "metadata": {},
   "outputs": [
    {
     "data": {
      "application/vnd.plotly.v1+json": {
       "config": {
        "plotlyServerURL": "https://plot.ly"
       },
       "data": [
        {
         "customdata": [
          [
           "Aabenraa"
          ],
          [
           "Aalborg"
          ],
          [
           "Aarhus"
          ],
          [
           "Albertslund"
          ],
          [
           "Allerød"
          ],
          [
           "Assens"
          ],
          [
           "Ballerup"
          ],
          [
           "Billund"
          ],
          [
           "Bornholm"
          ],
          [
           "Brøndby"
          ],
          [
           "Brønderslev"
          ],
          [
           "Dragør"
          ],
          [
           "Egedal"
          ],
          [
           "Esbjerg"
          ],
          [
           "Faaborg-Midtfyn"
          ],
          [
           "Fanø"
          ],
          [
           "Favrskov"
          ],
          [
           "Faxe"
          ],
          [
           "Fredensborg"
          ],
          [
           "Fredericia"
          ],
          [
           "Frederiksberg"
          ],
          [
           "Frederikshavn"
          ],
          [
           "Frederikssund"
          ],
          [
           "Furesø"
          ],
          [
           "Gentofte"
          ],
          [
           "Gladsaxe"
          ],
          [
           "Glostrup"
          ],
          [
           "Greve"
          ],
          [
           "Gribskov"
          ],
          [
           "Guldborgsund"
          ],
          [
           "Haderslev"
          ],
          [
           "Halsnæs"
          ],
          [
           "Hedensted"
          ],
          [
           "Helsingør"
          ],
          [
           "Herlev"
          ],
          [
           "Herning"
          ],
          [
           "Hillerød"
          ],
          [
           "Hjørring"
          ],
          [
           "Holbæk"
          ],
          [
           "Holstebro"
          ],
          [
           "Horsens"
          ],
          [
           "Hvidovre"
          ],
          [
           "Høje-Taastrup"
          ],
          [
           "Hørsholm"
          ],
          [
           "Ikast-Brande"
          ],
          [
           "Ishøj"
          ],
          [
           "Jammerbugt"
          ],
          [
           "Kalundborg"
          ],
          [
           "Kerteminde"
          ],
          [
           "Kolding"
          ],
          [
           "København"
          ],
          [
           "Køge"
          ],
          [
           "Langeland"
          ],
          [
           "Lejre"
          ],
          [
           "Lemvig"
          ],
          [
           "Lolland"
          ],
          [
           "Lyngby-Taarbæk"
          ],
          [
           "Læsø"
          ],
          [
           "Mariagerfjord"
          ],
          [
           "Middelfart"
          ],
          [
           "Morsø"
          ],
          [
           "Norddjurs"
          ],
          [
           "Nordfyns"
          ],
          [
           "Nyborg"
          ],
          [
           "Næstved"
          ],
          [
           "Odder"
          ],
          [
           "Odense"
          ],
          [
           "Odsherred"
          ],
          [
           "Randers"
          ],
          [
           "Rebild"
          ],
          [
           "Ringkøbing-Skjern"
          ],
          [
           "Ringsted"
          ],
          [
           "Roskilde"
          ],
          [
           "Rudersdal"
          ],
          [
           "Rødovre"
          ],
          [
           "Samsø"
          ],
          [
           "Silkeborg"
          ],
          [
           "Skanderborg"
          ],
          [
           "Skive"
          ],
          [
           "Slagelse"
          ],
          [
           "Solrød"
          ],
          [
           "Sorø"
          ],
          [
           "Stevns"
          ],
          [
           "Struer"
          ],
          [
           "Svendborg"
          ],
          [
           "Syddjurs"
          ],
          [
           "Sønderborg"
          ],
          [
           "Thisted"
          ],
          [
           "Tårnby"
          ],
          [
           "Tønder"
          ],
          [
           "Vallensbæk"
          ],
          [
           "Varde"
          ],
          [
           "Vejen"
          ],
          [
           "Vejle"
          ],
          [
           "Vesthimmerlands"
          ],
          [
           "Viborg"
          ],
          [
           "Vordingborg"
          ],
          [
           "Ærø"
          ]
         ],
         "hovertemplate": "Length of bicycle infrastructure (km)=%{x}<br>Number of disconnected components=%{y}<br>Municipality=%{customdata[0]}<br>Size (sqkm)=%{marker.color}<extra></extra>",
         "legendgroup": "",
         "marker": {
          "color": [
           940.61,
           1138,
           471.2,
           23.44,
           67.43,
           512.24,
           33.9,
           540.24,
           589.33,
           20.99,
           633.37,
           18.41,
           125.8,
           758.34,
           637.57,
           66.41,
           540.1,
           405.1,
           112.14,
           134.27,
           8.71,
           651.9,
           250.97,
           56.8,
           25.62,
           24.93,
           13.29,
           60.62,
           279.54,
           903.28,
           813.71,
           122.15,
           551.36,
           121.72,
           12.06,
           1322.88,
           213.41,
           926.61,
           579.22,
           804.31,
           524.26,
           22.96,
           78.2,
           31.35,
           735.42,
           26.5,
           866.37,
           605.35,
           207.33,
           604.55,
           91.7,
           258.58,
           290.93,
           240.1,
           516.73,
           895.62,
           38.8,
           119.76,
           724.24,
           299.63,
           364.59,
           723.5,
           452.77,
           277.05,
           685.31,
           225.2,
           304.76,
           356.66,
           748.25,
           622.58,
           1494.12,
           295.15,
           212.21,
           73.38,
           12.17,
           114.8,
           864.9,
           455.56,
           687.98,
           570.13,
           40.46,
           309.26,
           249.92,
           245.51,
           416.59,
           696.78,
           495.47,
           1095.34,
           65.99,
           1184.29,
           9.49,
           1236.08,
           813.67,
           1061.61,
           768.04,
           1421.26,
           625.26,
           89.77
          ],
          "coloraxis": "coloraxis",
          "symbol": "circle"
         },
         "mode": "markers",
         "name": "",
         "orientation": "v",
         "showlegend": false,
         "type": "scatter",
         "x": [
          193.542,
          218.765,
          240.556,
          9.894,
          54.392,
          202.614,
          53.346,
          32.687,
          106.316,
          29.43,
          42.879,
          9.694,
          41.894,
          127.738,
          149.534,
          7.959,
          116.307,
          85.918,
          64.635,
          206.724,
          67.239,
          101.326,
          78.062,
          49.298,
          127.099,
          95.514,
          30.832,
          15.693,
          37.128,
          101.102,
          79.835,
          109.083,
          78.806,
          117.972,
          23.288,
          141.583,
          53.832,
          62.547,
          136.157,
          76.324,
          147.099,
          48.315,
          42.155,
          47.134,
          59.682,
          3.367,
          36.936,
          124.349,
          54.983,
          104.138,
          485.552,
          62.518,
          40.709,
          32.425,
          34.277,
          83.732,
          89.601,
          5.13,
          93.916,
          104.092,
          13.719,
          52.302,
          74.636,
          77.486,
          120.892,
          33.71,
          289.278,
          105.781,
          156.582,
          29.73,
          108.223,
          68.777,
          152.816,
          129.363,
          36.818,
          4.484,
          161.692,
          86.82,
          177.204,
          135.039,
          55.976,
          52.437,
          30.183,
          51.863,
          156.511,
          81.58,
          101.626,
          68.587,
          71.261,
          172.336,
          12.548,
          68.116,
          68.728,
          203.558,
          41.079,
          401.855,
          75.289,
          6.247
         ],
         "xaxis": "x",
         "y": [
          51,
          102,
          271,
          30,
          30,
          35,
          55,
          22,
          35,
          35,
          21,
          6,
          46,
          56,
          65,
          6,
          85,
          24,
          23,
          29,
          12,
          56,
          49,
          35,
          28,
          13,
          33,
          28,
          38,
          60,
          53,
          50,
          55,
          46,
          23,
          120,
          56,
          51,
          41,
          58,
          96,
          32,
          67,
          14,
          67,
          15,
          37,
          39,
          32,
          55,
          48,
          31,
          17,
          37,
          38,
          20,
          31,
          4,
          33,
          40,
          11,
          30,
          24,
          35,
          67,
          14,
          110,
          36,
          145,
          25,
          111,
          43,
          73,
          51,
          26,
          5,
          136,
          77,
          59,
          63,
          10,
          26,
          19,
          18,
          62,
          54,
          69,
          43,
          11,
          52,
          26,
          37,
          26,
          86,
          26,
          112,
          54,
          3
         ],
         "yaxis": "y"
        }
       ],
       "layout": {
        "coloraxis": {
         "colorbar": {
          "title": {
           "text": "Size (sqkm)"
          }
         },
         "colorscale": [
          [
           0,
           "#fde725"
          ],
          [
           0.1111111111111111,
           "#b5de2b"
          ],
          [
           0.2222222222222222,
           "#6ece58"
          ],
          [
           0.3333333333333333,
           "#35b779"
          ],
          [
           0.4444444444444444,
           "#1f9e89"
          ],
          [
           0.5555555555555556,
           "#26828e"
          ],
          [
           0.6666666666666666,
           "#31688e"
          ],
          [
           0.7777777777777778,
           "#3e4989"
          ],
          [
           0.8888888888888888,
           "#482878"
          ],
          [
           1,
           "#440154"
          ]
         ]
        },
        "font": {
         "color": "RebeccaPurple",
         "size": 12
        },
        "legend": {
         "tracegroupgap": 0
        },
        "template": {
         "data": {
          "bar": [
           {
            "error_x": {
             "color": "#2a3f5f"
            },
            "error_y": {
             "color": "#2a3f5f"
            },
            "marker": {
             "line": {
              "color": "#E5ECF6",
              "width": 0.5
             },
             "pattern": {
              "fillmode": "overlay",
              "size": 10,
              "solidity": 0.2
             }
            },
            "type": "bar"
           }
          ],
          "barpolar": [
           {
            "marker": {
             "line": {
              "color": "#E5ECF6",
              "width": 0.5
             },
             "pattern": {
              "fillmode": "overlay",
              "size": 10,
              "solidity": 0.2
             }
            },
            "type": "barpolar"
           }
          ],
          "carpet": [
           {
            "aaxis": {
             "endlinecolor": "#2a3f5f",
             "gridcolor": "white",
             "linecolor": "white",
             "minorgridcolor": "white",
             "startlinecolor": "#2a3f5f"
            },
            "baxis": {
             "endlinecolor": "#2a3f5f",
             "gridcolor": "white",
             "linecolor": "white",
             "minorgridcolor": "white",
             "startlinecolor": "#2a3f5f"
            },
            "type": "carpet"
           }
          ],
          "choropleth": [
           {
            "colorbar": {
             "outlinewidth": 0,
             "ticks": ""
            },
            "type": "choropleth"
           }
          ],
          "contour": [
           {
            "colorbar": {
             "outlinewidth": 0,
             "ticks": ""
            },
            "colorscale": [
             [
              0,
              "#0d0887"
             ],
             [
              0.1111111111111111,
              "#46039f"
             ],
             [
              0.2222222222222222,
              "#7201a8"
             ],
             [
              0.3333333333333333,
              "#9c179e"
             ],
             [
              0.4444444444444444,
              "#bd3786"
             ],
             [
              0.5555555555555556,
              "#d8576b"
             ],
             [
              0.6666666666666666,
              "#ed7953"
             ],
             [
              0.7777777777777778,
              "#fb9f3a"
             ],
             [
              0.8888888888888888,
              "#fdca26"
             ],
             [
              1,
              "#f0f921"
             ]
            ],
            "type": "contour"
           }
          ],
          "contourcarpet": [
           {
            "colorbar": {
             "outlinewidth": 0,
             "ticks": ""
            },
            "type": "contourcarpet"
           }
          ],
          "heatmap": [
           {
            "colorbar": {
             "outlinewidth": 0,
             "ticks": ""
            },
            "colorscale": [
             [
              0,
              "#0d0887"
             ],
             [
              0.1111111111111111,
              "#46039f"
             ],
             [
              0.2222222222222222,
              "#7201a8"
             ],
             [
              0.3333333333333333,
              "#9c179e"
             ],
             [
              0.4444444444444444,
              "#bd3786"
             ],
             [
              0.5555555555555556,
              "#d8576b"
             ],
             [
              0.6666666666666666,
              "#ed7953"
             ],
             [
              0.7777777777777778,
              "#fb9f3a"
             ],
             [
              0.8888888888888888,
              "#fdca26"
             ],
             [
              1,
              "#f0f921"
             ]
            ],
            "type": "heatmap"
           }
          ],
          "heatmapgl": [
           {
            "colorbar": {
             "outlinewidth": 0,
             "ticks": ""
            },
            "colorscale": [
             [
              0,
              "#0d0887"
             ],
             [
              0.1111111111111111,
              "#46039f"
             ],
             [
              0.2222222222222222,
              "#7201a8"
             ],
             [
              0.3333333333333333,
              "#9c179e"
             ],
             [
              0.4444444444444444,
              "#bd3786"
             ],
             [
              0.5555555555555556,
              "#d8576b"
             ],
             [
              0.6666666666666666,
              "#ed7953"
             ],
             [
              0.7777777777777778,
              "#fb9f3a"
             ],
             [
              0.8888888888888888,
              "#fdca26"
             ],
             [
              1,
              "#f0f921"
             ]
            ],
            "type": "heatmapgl"
           }
          ],
          "histogram": [
           {
            "marker": {
             "pattern": {
              "fillmode": "overlay",
              "size": 10,
              "solidity": 0.2
             }
            },
            "type": "histogram"
           }
          ],
          "histogram2d": [
           {
            "colorbar": {
             "outlinewidth": 0,
             "ticks": ""
            },
            "colorscale": [
             [
              0,
              "#0d0887"
             ],
             [
              0.1111111111111111,
              "#46039f"
             ],
             [
              0.2222222222222222,
              "#7201a8"
             ],
             [
              0.3333333333333333,
              "#9c179e"
             ],
             [
              0.4444444444444444,
              "#bd3786"
             ],
             [
              0.5555555555555556,
              "#d8576b"
             ],
             [
              0.6666666666666666,
              "#ed7953"
             ],
             [
              0.7777777777777778,
              "#fb9f3a"
             ],
             [
              0.8888888888888888,
              "#fdca26"
             ],
             [
              1,
              "#f0f921"
             ]
            ],
            "type": "histogram2d"
           }
          ],
          "histogram2dcontour": [
           {
            "colorbar": {
             "outlinewidth": 0,
             "ticks": ""
            },
            "colorscale": [
             [
              0,
              "#0d0887"
             ],
             [
              0.1111111111111111,
              "#46039f"
             ],
             [
              0.2222222222222222,
              "#7201a8"
             ],
             [
              0.3333333333333333,
              "#9c179e"
             ],
             [
              0.4444444444444444,
              "#bd3786"
             ],
             [
              0.5555555555555556,
              "#d8576b"
             ],
             [
              0.6666666666666666,
              "#ed7953"
             ],
             [
              0.7777777777777778,
              "#fb9f3a"
             ],
             [
              0.8888888888888888,
              "#fdca26"
             ],
             [
              1,
              "#f0f921"
             ]
            ],
            "type": "histogram2dcontour"
           }
          ],
          "mesh3d": [
           {
            "colorbar": {
             "outlinewidth": 0,
             "ticks": ""
            },
            "type": "mesh3d"
           }
          ],
          "parcoords": [
           {
            "line": {
             "colorbar": {
              "outlinewidth": 0,
              "ticks": ""
             }
            },
            "type": "parcoords"
           }
          ],
          "pie": [
           {
            "automargin": true,
            "type": "pie"
           }
          ],
          "scatter": [
           {
            "fillpattern": {
             "fillmode": "overlay",
             "size": 10,
             "solidity": 0.2
            },
            "type": "scatter"
           }
          ],
          "scatter3d": [
           {
            "line": {
             "colorbar": {
              "outlinewidth": 0,
              "ticks": ""
             }
            },
            "marker": {
             "colorbar": {
              "outlinewidth": 0,
              "ticks": ""
             }
            },
            "type": "scatter3d"
           }
          ],
          "scattercarpet": [
           {
            "marker": {
             "colorbar": {
              "outlinewidth": 0,
              "ticks": ""
             }
            },
            "type": "scattercarpet"
           }
          ],
          "scattergeo": [
           {
            "marker": {
             "colorbar": {
              "outlinewidth": 0,
              "ticks": ""
             }
            },
            "type": "scattergeo"
           }
          ],
          "scattergl": [
           {
            "marker": {
             "colorbar": {
              "outlinewidth": 0,
              "ticks": ""
             }
            },
            "type": "scattergl"
           }
          ],
          "scattermapbox": [
           {
            "marker": {
             "colorbar": {
              "outlinewidth": 0,
              "ticks": ""
             }
            },
            "type": "scattermapbox"
           }
          ],
          "scatterpolar": [
           {
            "marker": {
             "colorbar": {
              "outlinewidth": 0,
              "ticks": ""
             }
            },
            "type": "scatterpolar"
           }
          ],
          "scatterpolargl": [
           {
            "marker": {
             "colorbar": {
              "outlinewidth": 0,
              "ticks": ""
             }
            },
            "type": "scatterpolargl"
           }
          ],
          "scatterternary": [
           {
            "marker": {
             "colorbar": {
              "outlinewidth": 0,
              "ticks": ""
             }
            },
            "type": "scatterternary"
           }
          ],
          "surface": [
           {
            "colorbar": {
             "outlinewidth": 0,
             "ticks": ""
            },
            "colorscale": [
             [
              0,
              "#0d0887"
             ],
             [
              0.1111111111111111,
              "#46039f"
             ],
             [
              0.2222222222222222,
              "#7201a8"
             ],
             [
              0.3333333333333333,
              "#9c179e"
             ],
             [
              0.4444444444444444,
              "#bd3786"
             ],
             [
              0.5555555555555556,
              "#d8576b"
             ],
             [
              0.6666666666666666,
              "#ed7953"
             ],
             [
              0.7777777777777778,
              "#fb9f3a"
             ],
             [
              0.8888888888888888,
              "#fdca26"
             ],
             [
              1,
              "#f0f921"
             ]
            ],
            "type": "surface"
           }
          ],
          "table": [
           {
            "cells": {
             "fill": {
              "color": "#EBF0F8"
             },
             "line": {
              "color": "white"
             }
            },
            "header": {
             "fill": {
              "color": "#C8D4E3"
             },
             "line": {
              "color": "white"
             }
            },
            "type": "table"
           }
          ]
         },
         "layout": {
          "annotationdefaults": {
           "arrowcolor": "#2a3f5f",
           "arrowhead": 0,
           "arrowwidth": 1
          },
          "autotypenumbers": "strict",
          "coloraxis": {
           "colorbar": {
            "outlinewidth": 0,
            "ticks": ""
           }
          },
          "colorscale": {
           "diverging": [
            [
             0,
             "#8e0152"
            ],
            [
             0.1,
             "#c51b7d"
            ],
            [
             0.2,
             "#de77ae"
            ],
            [
             0.3,
             "#f1b6da"
            ],
            [
             0.4,
             "#fde0ef"
            ],
            [
             0.5,
             "#f7f7f7"
            ],
            [
             0.6,
             "#e6f5d0"
            ],
            [
             0.7,
             "#b8e186"
            ],
            [
             0.8,
             "#7fbc41"
            ],
            [
             0.9,
             "#4d9221"
            ],
            [
             1,
             "#276419"
            ]
           ],
           "sequential": [
            [
             0,
             "#0d0887"
            ],
            [
             0.1111111111111111,
             "#46039f"
            ],
            [
             0.2222222222222222,
             "#7201a8"
            ],
            [
             0.3333333333333333,
             "#9c179e"
            ],
            [
             0.4444444444444444,
             "#bd3786"
            ],
            [
             0.5555555555555556,
             "#d8576b"
            ],
            [
             0.6666666666666666,
             "#ed7953"
            ],
            [
             0.7777777777777778,
             "#fb9f3a"
            ],
            [
             0.8888888888888888,
             "#fdca26"
            ],
            [
             1,
             "#f0f921"
            ]
           ],
           "sequentialminus": [
            [
             0,
             "#0d0887"
            ],
            [
             0.1111111111111111,
             "#46039f"
            ],
            [
             0.2222222222222222,
             "#7201a8"
            ],
            [
             0.3333333333333333,
             "#9c179e"
            ],
            [
             0.4444444444444444,
             "#bd3786"
            ],
            [
             0.5555555555555556,
             "#d8576b"
            ],
            [
             0.6666666666666666,
             "#ed7953"
            ],
            [
             0.7777777777777778,
             "#fb9f3a"
            ],
            [
             0.8888888888888888,
             "#fdca26"
            ],
            [
             1,
             "#f0f921"
            ]
           ]
          },
          "colorway": [
           "#636efa",
           "#EF553B",
           "#00cc96",
           "#ab63fa",
           "#FFA15A",
           "#19d3f3",
           "#FF6692",
           "#B6E880",
           "#FF97FF",
           "#FECB52"
          ],
          "font": {
           "color": "#2a3f5f"
          },
          "geo": {
           "bgcolor": "white",
           "lakecolor": "white",
           "landcolor": "#E5ECF6",
           "showlakes": true,
           "showland": true,
           "subunitcolor": "white"
          },
          "hoverlabel": {
           "align": "left"
          },
          "hovermode": "closest",
          "mapbox": {
           "style": "light"
          },
          "paper_bgcolor": "white",
          "plot_bgcolor": "#E5ECF6",
          "polar": {
           "angularaxis": {
            "gridcolor": "white",
            "linecolor": "white",
            "ticks": ""
           },
           "bgcolor": "#E5ECF6",
           "radialaxis": {
            "gridcolor": "white",
            "linecolor": "white",
            "ticks": ""
           }
          },
          "scene": {
           "xaxis": {
            "backgroundcolor": "#E5ECF6",
            "gridcolor": "white",
            "gridwidth": 2,
            "linecolor": "white",
            "showbackground": true,
            "ticks": "",
            "zerolinecolor": "white"
           },
           "yaxis": {
            "backgroundcolor": "#E5ECF6",
            "gridcolor": "white",
            "gridwidth": 2,
            "linecolor": "white",
            "showbackground": true,
            "ticks": "",
            "zerolinecolor": "white"
           },
           "zaxis": {
            "backgroundcolor": "#E5ECF6",
            "gridcolor": "white",
            "gridwidth": 2,
            "linecolor": "white",
            "showbackground": true,
            "ticks": "",
            "zerolinecolor": "white"
           }
          },
          "shapedefaults": {
           "line": {
            "color": "#2a3f5f"
           }
          },
          "ternary": {
           "aaxis": {
            "gridcolor": "white",
            "linecolor": "white",
            "ticks": ""
           },
           "baxis": {
            "gridcolor": "white",
            "linecolor": "white",
            "ticks": ""
           },
           "bgcolor": "#E5ECF6",
           "caxis": {
            "gridcolor": "white",
            "linecolor": "white",
            "ticks": ""
           }
          },
          "title": {
           "x": 0.05
          },
          "xaxis": {
           "automargin": true,
           "gridcolor": "white",
           "linecolor": "white",
           "ticks": "",
           "title": {
            "standoff": 15
           },
           "zerolinecolor": "white",
           "zerolinewidth": 2
          },
          "yaxis": {
           "automargin": true,
           "gridcolor": "white",
           "linecolor": "white",
           "ticks": "",
           "title": {
            "standoff": 15
           },
           "zerolinecolor": "white",
           "zerolinewidth": 2
          }
         }
        },
        "title": {
         "text": "Correlation between infrastructure length and number of components"
        },
        "xaxis": {
         "anchor": "y",
         "domain": [
          0,
          1
         ],
         "title": {
          "text": "Length of bicycle infrastructure (km)"
         }
        },
        "yaxis": {
         "anchor": "x",
         "domain": [
          0,
          1
         ],
         "title": {
          "text": "Number of disconnected components"
         }
        }
       }
      }
     },
     "metadata": {},
     "output_type": "display_data"
    },
    {
     "data": {
      "application/vnd.plotly.v1+json": {
       "config": {
        "plotlyServerURL": "https://plot.ly"
       },
       "data": [
        {
         "customdata": [
          [
           "Aabenraa"
          ],
          [
           "Aalborg"
          ],
          [
           "Aarhus"
          ],
          [
           "Albertslund"
          ],
          [
           "Allerød"
          ],
          [
           "Assens"
          ],
          [
           "Ballerup"
          ],
          [
           "Billund"
          ],
          [
           "Bornholm"
          ],
          [
           "Brøndby"
          ],
          [
           "Brønderslev"
          ],
          [
           "Dragør"
          ],
          [
           "Egedal"
          ],
          [
           "Esbjerg"
          ],
          [
           "Faaborg-Midtfyn"
          ],
          [
           "Fanø"
          ],
          [
           "Favrskov"
          ],
          [
           "Faxe"
          ],
          [
           "Fredensborg"
          ],
          [
           "Fredericia"
          ],
          [
           "Frederiksberg"
          ],
          [
           "Frederikshavn"
          ],
          [
           "Frederikssund"
          ],
          [
           "Furesø"
          ],
          [
           "Gentofte"
          ],
          [
           "Gladsaxe"
          ],
          [
           "Glostrup"
          ],
          [
           "Greve"
          ],
          [
           "Gribskov"
          ],
          [
           "Guldborgsund"
          ],
          [
           "Haderslev"
          ],
          [
           "Halsnæs"
          ],
          [
           "Hedensted"
          ],
          [
           "Helsingør"
          ],
          [
           "Herlev"
          ],
          [
           "Herning"
          ],
          [
           "Hillerød"
          ],
          [
           "Hjørring"
          ],
          [
           "Holbæk"
          ],
          [
           "Holstebro"
          ],
          [
           "Horsens"
          ],
          [
           "Hvidovre"
          ],
          [
           "Høje-Taastrup"
          ],
          [
           "Hørsholm"
          ],
          [
           "Ikast-Brande"
          ],
          [
           "Ishøj"
          ],
          [
           "Jammerbugt"
          ],
          [
           "Kalundborg"
          ],
          [
           "Kerteminde"
          ],
          [
           "Kolding"
          ],
          [
           "København"
          ],
          [
           "Køge"
          ],
          [
           "Langeland"
          ],
          [
           "Lejre"
          ],
          [
           "Lemvig"
          ],
          [
           "Lolland"
          ],
          [
           "Lyngby-Taarbæk"
          ],
          [
           "Læsø"
          ],
          [
           "Mariagerfjord"
          ],
          [
           "Middelfart"
          ],
          [
           "Morsø"
          ],
          [
           "Norddjurs"
          ],
          [
           "Nordfyns"
          ],
          [
           "Nyborg"
          ],
          [
           "Næstved"
          ],
          [
           "Odder"
          ],
          [
           "Odense"
          ],
          [
           "Odsherred"
          ],
          [
           "Randers"
          ],
          [
           "Rebild"
          ],
          [
           "Ringkøbing-Skjern"
          ],
          [
           "Ringsted"
          ],
          [
           "Roskilde"
          ],
          [
           "Rudersdal"
          ],
          [
           "Rødovre"
          ],
          [
           "Samsø"
          ],
          [
           "Silkeborg"
          ],
          [
           "Skanderborg"
          ],
          [
           "Skive"
          ],
          [
           "Slagelse"
          ],
          [
           "Solrød"
          ],
          [
           "Sorø"
          ],
          [
           "Stevns"
          ],
          [
           "Struer"
          ],
          [
           "Svendborg"
          ],
          [
           "Syddjurs"
          ],
          [
           "Sønderborg"
          ],
          [
           "Thisted"
          ],
          [
           "Tårnby"
          ],
          [
           "Tønder"
          ],
          [
           "Vallensbæk"
          ],
          [
           "Varde"
          ],
          [
           "Vejen"
          ],
          [
           "Vejle"
          ],
          [
           "Vesthimmerlands"
          ],
          [
           "Viborg"
          ],
          [
           "Vordingborg"
          ],
          [
           "Ærø"
          ]
         ],
         "hovertemplate": "Size (sqkm)=%{x}<br>Number of disconnected components=%{y}<br>Municipality=%{customdata[0]}<br>Length (km)=%{marker.color}<extra></extra>",
         "legendgroup": "",
         "marker": {
          "color": [
           193.542,
           218.765,
           240.556,
           9.894,
           54.392,
           202.614,
           53.346,
           32.687,
           106.316,
           29.43,
           42.879,
           9.694,
           41.894,
           127.738,
           149.534,
           7.959,
           116.307,
           85.918,
           64.635,
           206.724,
           67.239,
           101.326,
           78.062,
           49.298,
           127.099,
           95.514,
           30.832,
           15.693,
           37.128,
           101.102,
           79.835,
           109.083,
           78.806,
           117.972,
           23.288,
           141.583,
           53.832,
           62.547,
           136.157,
           76.324,
           147.099,
           48.315,
           42.155,
           47.134,
           59.682,
           3.367,
           36.936,
           124.349,
           54.983,
           104.138,
           485.552,
           62.518,
           40.709,
           32.425,
           34.277,
           83.732,
           89.601,
           5.13,
           93.916,
           104.092,
           13.719,
           52.302,
           74.636,
           77.486,
           120.892,
           33.71,
           289.278,
           105.781,
           156.582,
           29.73,
           108.223,
           68.777,
           152.816,
           129.363,
           36.818,
           4.484,
           161.692,
           86.82,
           177.204,
           135.039,
           55.976,
           52.437,
           30.183,
           51.863,
           156.511,
           81.58,
           101.626,
           68.587,
           71.261,
           172.336,
           12.548,
           68.116,
           68.728,
           203.558,
           41.079,
           401.855,
           75.289,
           6.247
          ],
          "coloraxis": "coloraxis",
          "symbol": "circle"
         },
         "mode": "markers",
         "name": "",
         "orientation": "v",
         "showlegend": false,
         "type": "scatter",
         "x": [
          940.61,
          1138,
          471.2,
          23.44,
          67.43,
          512.24,
          33.9,
          540.24,
          589.33,
          20.99,
          633.37,
          18.41,
          125.8,
          758.34,
          637.57,
          66.41,
          540.1,
          405.1,
          112.14,
          134.27,
          8.71,
          651.9,
          250.97,
          56.8,
          25.62,
          24.93,
          13.29,
          60.62,
          279.54,
          903.28,
          813.71,
          122.15,
          551.36,
          121.72,
          12.06,
          1322.88,
          213.41,
          926.61,
          579.22,
          804.31,
          524.26,
          22.96,
          78.2,
          31.35,
          735.42,
          26.5,
          866.37,
          605.35,
          207.33,
          604.55,
          91.7,
          258.58,
          290.93,
          240.1,
          516.73,
          895.62,
          38.8,
          119.76,
          724.24,
          299.63,
          364.59,
          723.5,
          452.77,
          277.05,
          685.31,
          225.2,
          304.76,
          356.66,
          748.25,
          622.58,
          1494.12,
          295.15,
          212.21,
          73.38,
          12.17,
          114.8,
          864.9,
          455.56,
          687.98,
          570.13,
          40.46,
          309.26,
          249.92,
          245.51,
          416.59,
          696.78,
          495.47,
          1095.34,
          65.99,
          1184.29,
          9.49,
          1236.08,
          813.67,
          1061.61,
          768.04,
          1421.26,
          625.26,
          89.77
         ],
         "xaxis": "x",
         "y": [
          51,
          102,
          271,
          30,
          30,
          35,
          55,
          22,
          35,
          35,
          21,
          6,
          46,
          56,
          65,
          6,
          85,
          24,
          23,
          29,
          12,
          56,
          49,
          35,
          28,
          13,
          33,
          28,
          38,
          60,
          53,
          50,
          55,
          46,
          23,
          120,
          56,
          51,
          41,
          58,
          96,
          32,
          67,
          14,
          67,
          15,
          37,
          39,
          32,
          55,
          48,
          31,
          17,
          37,
          38,
          20,
          31,
          4,
          33,
          40,
          11,
          30,
          24,
          35,
          67,
          14,
          110,
          36,
          145,
          25,
          111,
          43,
          73,
          51,
          26,
          5,
          136,
          77,
          59,
          63,
          10,
          26,
          19,
          18,
          62,
          54,
          69,
          43,
          11,
          52,
          26,
          37,
          26,
          86,
          26,
          112,
          54,
          3
         ],
         "yaxis": "y"
        }
       ],
       "layout": {
        "coloraxis": {
         "colorbar": {
          "title": {
           "text": "Length (km)"
          }
         },
         "colorscale": [
          [
           0,
           "#fde725"
          ],
          [
           0.1111111111111111,
           "#b5de2b"
          ],
          [
           0.2222222222222222,
           "#6ece58"
          ],
          [
           0.3333333333333333,
           "#35b779"
          ],
          [
           0.4444444444444444,
           "#1f9e89"
          ],
          [
           0.5555555555555556,
           "#26828e"
          ],
          [
           0.6666666666666666,
           "#31688e"
          ],
          [
           0.7777777777777778,
           "#3e4989"
          ],
          [
           0.8888888888888888,
           "#482878"
          ],
          [
           1,
           "#440154"
          ]
         ]
        },
        "font": {
         "color": "RebeccaPurple",
         "size": 12
        },
        "legend": {
         "tracegroupgap": 0
        },
        "template": {
         "data": {
          "bar": [
           {
            "error_x": {
             "color": "#2a3f5f"
            },
            "error_y": {
             "color": "#2a3f5f"
            },
            "marker": {
             "line": {
              "color": "#E5ECF6",
              "width": 0.5
             },
             "pattern": {
              "fillmode": "overlay",
              "size": 10,
              "solidity": 0.2
             }
            },
            "type": "bar"
           }
          ],
          "barpolar": [
           {
            "marker": {
             "line": {
              "color": "#E5ECF6",
              "width": 0.5
             },
             "pattern": {
              "fillmode": "overlay",
              "size": 10,
              "solidity": 0.2
             }
            },
            "type": "barpolar"
           }
          ],
          "carpet": [
           {
            "aaxis": {
             "endlinecolor": "#2a3f5f",
             "gridcolor": "white",
             "linecolor": "white",
             "minorgridcolor": "white",
             "startlinecolor": "#2a3f5f"
            },
            "baxis": {
             "endlinecolor": "#2a3f5f",
             "gridcolor": "white",
             "linecolor": "white",
             "minorgridcolor": "white",
             "startlinecolor": "#2a3f5f"
            },
            "type": "carpet"
           }
          ],
          "choropleth": [
           {
            "colorbar": {
             "outlinewidth": 0,
             "ticks": ""
            },
            "type": "choropleth"
           }
          ],
          "contour": [
           {
            "colorbar": {
             "outlinewidth": 0,
             "ticks": ""
            },
            "colorscale": [
             [
              0,
              "#0d0887"
             ],
             [
              0.1111111111111111,
              "#46039f"
             ],
             [
              0.2222222222222222,
              "#7201a8"
             ],
             [
              0.3333333333333333,
              "#9c179e"
             ],
             [
              0.4444444444444444,
              "#bd3786"
             ],
             [
              0.5555555555555556,
              "#d8576b"
             ],
             [
              0.6666666666666666,
              "#ed7953"
             ],
             [
              0.7777777777777778,
              "#fb9f3a"
             ],
             [
              0.8888888888888888,
              "#fdca26"
             ],
             [
              1,
              "#f0f921"
             ]
            ],
            "type": "contour"
           }
          ],
          "contourcarpet": [
           {
            "colorbar": {
             "outlinewidth": 0,
             "ticks": ""
            },
            "type": "contourcarpet"
           }
          ],
          "heatmap": [
           {
            "colorbar": {
             "outlinewidth": 0,
             "ticks": ""
            },
            "colorscale": [
             [
              0,
              "#0d0887"
             ],
             [
              0.1111111111111111,
              "#46039f"
             ],
             [
              0.2222222222222222,
              "#7201a8"
             ],
             [
              0.3333333333333333,
              "#9c179e"
             ],
             [
              0.4444444444444444,
              "#bd3786"
             ],
             [
              0.5555555555555556,
              "#d8576b"
             ],
             [
              0.6666666666666666,
              "#ed7953"
             ],
             [
              0.7777777777777778,
              "#fb9f3a"
             ],
             [
              0.8888888888888888,
              "#fdca26"
             ],
             [
              1,
              "#f0f921"
             ]
            ],
            "type": "heatmap"
           }
          ],
          "heatmapgl": [
           {
            "colorbar": {
             "outlinewidth": 0,
             "ticks": ""
            },
            "colorscale": [
             [
              0,
              "#0d0887"
             ],
             [
              0.1111111111111111,
              "#46039f"
             ],
             [
              0.2222222222222222,
              "#7201a8"
             ],
             [
              0.3333333333333333,
              "#9c179e"
             ],
             [
              0.4444444444444444,
              "#bd3786"
             ],
             [
              0.5555555555555556,
              "#d8576b"
             ],
             [
              0.6666666666666666,
              "#ed7953"
             ],
             [
              0.7777777777777778,
              "#fb9f3a"
             ],
             [
              0.8888888888888888,
              "#fdca26"
             ],
             [
              1,
              "#f0f921"
             ]
            ],
            "type": "heatmapgl"
           }
          ],
          "histogram": [
           {
            "marker": {
             "pattern": {
              "fillmode": "overlay",
              "size": 10,
              "solidity": 0.2
             }
            },
            "type": "histogram"
           }
          ],
          "histogram2d": [
           {
            "colorbar": {
             "outlinewidth": 0,
             "ticks": ""
            },
            "colorscale": [
             [
              0,
              "#0d0887"
             ],
             [
              0.1111111111111111,
              "#46039f"
             ],
             [
              0.2222222222222222,
              "#7201a8"
             ],
             [
              0.3333333333333333,
              "#9c179e"
             ],
             [
              0.4444444444444444,
              "#bd3786"
             ],
             [
              0.5555555555555556,
              "#d8576b"
             ],
             [
              0.6666666666666666,
              "#ed7953"
             ],
             [
              0.7777777777777778,
              "#fb9f3a"
             ],
             [
              0.8888888888888888,
              "#fdca26"
             ],
             [
              1,
              "#f0f921"
             ]
            ],
            "type": "histogram2d"
           }
          ],
          "histogram2dcontour": [
           {
            "colorbar": {
             "outlinewidth": 0,
             "ticks": ""
            },
            "colorscale": [
             [
              0,
              "#0d0887"
             ],
             [
              0.1111111111111111,
              "#46039f"
             ],
             [
              0.2222222222222222,
              "#7201a8"
             ],
             [
              0.3333333333333333,
              "#9c179e"
             ],
             [
              0.4444444444444444,
              "#bd3786"
             ],
             [
              0.5555555555555556,
              "#d8576b"
             ],
             [
              0.6666666666666666,
              "#ed7953"
             ],
             [
              0.7777777777777778,
              "#fb9f3a"
             ],
             [
              0.8888888888888888,
              "#fdca26"
             ],
             [
              1,
              "#f0f921"
             ]
            ],
            "type": "histogram2dcontour"
           }
          ],
          "mesh3d": [
           {
            "colorbar": {
             "outlinewidth": 0,
             "ticks": ""
            },
            "type": "mesh3d"
           }
          ],
          "parcoords": [
           {
            "line": {
             "colorbar": {
              "outlinewidth": 0,
              "ticks": ""
             }
            },
            "type": "parcoords"
           }
          ],
          "pie": [
           {
            "automargin": true,
            "type": "pie"
           }
          ],
          "scatter": [
           {
            "fillpattern": {
             "fillmode": "overlay",
             "size": 10,
             "solidity": 0.2
            },
            "type": "scatter"
           }
          ],
          "scatter3d": [
           {
            "line": {
             "colorbar": {
              "outlinewidth": 0,
              "ticks": ""
             }
            },
            "marker": {
             "colorbar": {
              "outlinewidth": 0,
              "ticks": ""
             }
            },
            "type": "scatter3d"
           }
          ],
          "scattercarpet": [
           {
            "marker": {
             "colorbar": {
              "outlinewidth": 0,
              "ticks": ""
             }
            },
            "type": "scattercarpet"
           }
          ],
          "scattergeo": [
           {
            "marker": {
             "colorbar": {
              "outlinewidth": 0,
              "ticks": ""
             }
            },
            "type": "scattergeo"
           }
          ],
          "scattergl": [
           {
            "marker": {
             "colorbar": {
              "outlinewidth": 0,
              "ticks": ""
             }
            },
            "type": "scattergl"
           }
          ],
          "scattermapbox": [
           {
            "marker": {
             "colorbar": {
              "outlinewidth": 0,
              "ticks": ""
             }
            },
            "type": "scattermapbox"
           }
          ],
          "scatterpolar": [
           {
            "marker": {
             "colorbar": {
              "outlinewidth": 0,
              "ticks": ""
             }
            },
            "type": "scatterpolar"
           }
          ],
          "scatterpolargl": [
           {
            "marker": {
             "colorbar": {
              "outlinewidth": 0,
              "ticks": ""
             }
            },
            "type": "scatterpolargl"
           }
          ],
          "scatterternary": [
           {
            "marker": {
             "colorbar": {
              "outlinewidth": 0,
              "ticks": ""
             }
            },
            "type": "scatterternary"
           }
          ],
          "surface": [
           {
            "colorbar": {
             "outlinewidth": 0,
             "ticks": ""
            },
            "colorscale": [
             [
              0,
              "#0d0887"
             ],
             [
              0.1111111111111111,
              "#46039f"
             ],
             [
              0.2222222222222222,
              "#7201a8"
             ],
             [
              0.3333333333333333,
              "#9c179e"
             ],
             [
              0.4444444444444444,
              "#bd3786"
             ],
             [
              0.5555555555555556,
              "#d8576b"
             ],
             [
              0.6666666666666666,
              "#ed7953"
             ],
             [
              0.7777777777777778,
              "#fb9f3a"
             ],
             [
              0.8888888888888888,
              "#fdca26"
             ],
             [
              1,
              "#f0f921"
             ]
            ],
            "type": "surface"
           }
          ],
          "table": [
           {
            "cells": {
             "fill": {
              "color": "#EBF0F8"
             },
             "line": {
              "color": "white"
             }
            },
            "header": {
             "fill": {
              "color": "#C8D4E3"
             },
             "line": {
              "color": "white"
             }
            },
            "type": "table"
           }
          ]
         },
         "layout": {
          "annotationdefaults": {
           "arrowcolor": "#2a3f5f",
           "arrowhead": 0,
           "arrowwidth": 1
          },
          "autotypenumbers": "strict",
          "coloraxis": {
           "colorbar": {
            "outlinewidth": 0,
            "ticks": ""
           }
          },
          "colorscale": {
           "diverging": [
            [
             0,
             "#8e0152"
            ],
            [
             0.1,
             "#c51b7d"
            ],
            [
             0.2,
             "#de77ae"
            ],
            [
             0.3,
             "#f1b6da"
            ],
            [
             0.4,
             "#fde0ef"
            ],
            [
             0.5,
             "#f7f7f7"
            ],
            [
             0.6,
             "#e6f5d0"
            ],
            [
             0.7,
             "#b8e186"
            ],
            [
             0.8,
             "#7fbc41"
            ],
            [
             0.9,
             "#4d9221"
            ],
            [
             1,
             "#276419"
            ]
           ],
           "sequential": [
            [
             0,
             "#0d0887"
            ],
            [
             0.1111111111111111,
             "#46039f"
            ],
            [
             0.2222222222222222,
             "#7201a8"
            ],
            [
             0.3333333333333333,
             "#9c179e"
            ],
            [
             0.4444444444444444,
             "#bd3786"
            ],
            [
             0.5555555555555556,
             "#d8576b"
            ],
            [
             0.6666666666666666,
             "#ed7953"
            ],
            [
             0.7777777777777778,
             "#fb9f3a"
            ],
            [
             0.8888888888888888,
             "#fdca26"
            ],
            [
             1,
             "#f0f921"
            ]
           ],
           "sequentialminus": [
            [
             0,
             "#0d0887"
            ],
            [
             0.1111111111111111,
             "#46039f"
            ],
            [
             0.2222222222222222,
             "#7201a8"
            ],
            [
             0.3333333333333333,
             "#9c179e"
            ],
            [
             0.4444444444444444,
             "#bd3786"
            ],
            [
             0.5555555555555556,
             "#d8576b"
            ],
            [
             0.6666666666666666,
             "#ed7953"
            ],
            [
             0.7777777777777778,
             "#fb9f3a"
            ],
            [
             0.8888888888888888,
             "#fdca26"
            ],
            [
             1,
             "#f0f921"
            ]
           ]
          },
          "colorway": [
           "#636efa",
           "#EF553B",
           "#00cc96",
           "#ab63fa",
           "#FFA15A",
           "#19d3f3",
           "#FF6692",
           "#B6E880",
           "#FF97FF",
           "#FECB52"
          ],
          "font": {
           "color": "#2a3f5f"
          },
          "geo": {
           "bgcolor": "white",
           "lakecolor": "white",
           "landcolor": "#E5ECF6",
           "showlakes": true,
           "showland": true,
           "subunitcolor": "white"
          },
          "hoverlabel": {
           "align": "left"
          },
          "hovermode": "closest",
          "mapbox": {
           "style": "light"
          },
          "paper_bgcolor": "white",
          "plot_bgcolor": "#E5ECF6",
          "polar": {
           "angularaxis": {
            "gridcolor": "white",
            "linecolor": "white",
            "ticks": ""
           },
           "bgcolor": "#E5ECF6",
           "radialaxis": {
            "gridcolor": "white",
            "linecolor": "white",
            "ticks": ""
           }
          },
          "scene": {
           "xaxis": {
            "backgroundcolor": "#E5ECF6",
            "gridcolor": "white",
            "gridwidth": 2,
            "linecolor": "white",
            "showbackground": true,
            "ticks": "",
            "zerolinecolor": "white"
           },
           "yaxis": {
            "backgroundcolor": "#E5ECF6",
            "gridcolor": "white",
            "gridwidth": 2,
            "linecolor": "white",
            "showbackground": true,
            "ticks": "",
            "zerolinecolor": "white"
           },
           "zaxis": {
            "backgroundcolor": "#E5ECF6",
            "gridcolor": "white",
            "gridwidth": 2,
            "linecolor": "white",
            "showbackground": true,
            "ticks": "",
            "zerolinecolor": "white"
           }
          },
          "shapedefaults": {
           "line": {
            "color": "#2a3f5f"
           }
          },
          "ternary": {
           "aaxis": {
            "gridcolor": "white",
            "linecolor": "white",
            "ticks": ""
           },
           "baxis": {
            "gridcolor": "white",
            "linecolor": "white",
            "ticks": ""
           },
           "bgcolor": "#E5ECF6",
           "caxis": {
            "gridcolor": "white",
            "linecolor": "white",
            "ticks": ""
           }
          },
          "title": {
           "x": 0.05
          },
          "xaxis": {
           "automargin": true,
           "gridcolor": "white",
           "linecolor": "white",
           "ticks": "",
           "title": {
            "standoff": 15
           },
           "zerolinecolor": "white",
           "zerolinewidth": 2
          },
          "yaxis": {
           "automargin": true,
           "gridcolor": "white",
           "linecolor": "white",
           "ticks": "",
           "title": {
            "standoff": 15
           },
           "zerolinecolor": "white",
           "zerolinewidth": 2
          }
         }
        },
        "title": {
         "text": "Correlation between municipality size and number of components"
        },
        "xaxis": {
         "anchor": "y",
         "domain": [
          0,
          1
         ],
         "title": {
          "text": "Size (sqkm)"
         }
        },
        "yaxis": {
         "anchor": "x",
         "domain": [
          0,
          1
         ],
         "title": {
          "text": "Number of disconnected components"
         }
        }
       }
      }
     },
     "metadata": {},
     "output_type": "display_data"
    },
    {
     "data": {
      "application/vnd.plotly.v1+json": {
       "config": {
        "plotlyServerURL": "https://plot.ly"
       },
       "data": [
        {
         "customdata": [
          [
           "Aabenraa"
          ],
          [
           "Aalborg"
          ],
          [
           "Aarhus"
          ],
          [
           "Albertslund"
          ],
          [
           "Allerød"
          ],
          [
           "Assens"
          ],
          [
           "Ballerup"
          ],
          [
           "Billund"
          ],
          [
           "Bornholm"
          ],
          [
           "Brøndby"
          ],
          [
           "Brønderslev"
          ],
          [
           "Dragør"
          ],
          [
           "Egedal"
          ],
          [
           "Esbjerg"
          ],
          [
           "Faaborg-Midtfyn"
          ],
          [
           "Fanø"
          ],
          [
           "Favrskov"
          ],
          [
           "Faxe"
          ],
          [
           "Fredensborg"
          ],
          [
           "Fredericia"
          ],
          [
           "Frederiksberg"
          ],
          [
           "Frederikshavn"
          ],
          [
           "Frederikssund"
          ],
          [
           "Furesø"
          ],
          [
           "Gentofte"
          ],
          [
           "Gladsaxe"
          ],
          [
           "Glostrup"
          ],
          [
           "Greve"
          ],
          [
           "Gribskov"
          ],
          [
           "Guldborgsund"
          ],
          [
           "Haderslev"
          ],
          [
           "Halsnæs"
          ],
          [
           "Hedensted"
          ],
          [
           "Helsingør"
          ],
          [
           "Herlev"
          ],
          [
           "Herning"
          ],
          [
           "Hillerød"
          ],
          [
           "Hjørring"
          ],
          [
           "Holbæk"
          ],
          [
           "Holstebro"
          ],
          [
           "Horsens"
          ],
          [
           "Hvidovre"
          ],
          [
           "Høje-Taastrup"
          ],
          [
           "Hørsholm"
          ],
          [
           "Ikast-Brande"
          ],
          [
           "Ishøj"
          ],
          [
           "Jammerbugt"
          ],
          [
           "Kalundborg"
          ],
          [
           "Kerteminde"
          ],
          [
           "Kolding"
          ],
          [
           "København"
          ],
          [
           "Køge"
          ],
          [
           "Langeland"
          ],
          [
           "Lejre"
          ],
          [
           "Lemvig"
          ],
          [
           "Lolland"
          ],
          [
           "Lyngby-Taarbæk"
          ],
          [
           "Læsø"
          ],
          [
           "Mariagerfjord"
          ],
          [
           "Middelfart"
          ],
          [
           "Morsø"
          ],
          [
           "Norddjurs"
          ],
          [
           "Nordfyns"
          ],
          [
           "Nyborg"
          ],
          [
           "Næstved"
          ],
          [
           "Odder"
          ],
          [
           "Odense"
          ],
          [
           "Odsherred"
          ],
          [
           "Randers"
          ],
          [
           "Rebild"
          ],
          [
           "Ringkøbing-Skjern"
          ],
          [
           "Ringsted"
          ],
          [
           "Roskilde"
          ],
          [
           "Rudersdal"
          ],
          [
           "Rødovre"
          ],
          [
           "Samsø"
          ],
          [
           "Silkeborg"
          ],
          [
           "Skanderborg"
          ],
          [
           "Skive"
          ],
          [
           "Slagelse"
          ],
          [
           "Solrød"
          ],
          [
           "Sorø"
          ],
          [
           "Stevns"
          ],
          [
           "Struer"
          ],
          [
           "Svendborg"
          ],
          [
           "Syddjurs"
          ],
          [
           "Sønderborg"
          ],
          [
           "Thisted"
          ],
          [
           "Tårnby"
          ],
          [
           "Tønder"
          ],
          [
           "Vallensbæk"
          ],
          [
           "Varde"
          ],
          [
           "Vejen"
          ],
          [
           "Vejle"
          ],
          [
           "Vesthimmerlands"
          ],
          [
           "Viborg"
          ],
          [
           "Vordingborg"
          ],
          [
           "Ærø"
          ]
         ],
         "hovertemplate": "Infrastructure density=%{x}<br>Number of disconnected components=%{y}<br>Municipality=%{customdata[0]}<extra></extra>",
         "legendgroup": "",
         "marker": {
          "color": "#636efa",
          "symbol": "circle"
         },
         "mode": "markers",
         "name": "",
         "orientation": "v",
         "showlegend": false,
         "type": "scatter",
         "x": [
          0.206,
          0.192,
          0.511,
          0.422,
          0.807,
          0.396,
          1.574,
          0.061,
          0.18,
          1.402,
          0.068,
          0.527,
          0.333,
          0.168,
          0.235,
          0.12,
          0.215,
          0.212,
          0.576,
          1.54,
          7.72,
          0.155,
          0.311,
          0.868,
          4.961,
          3.831,
          2.32,
          0.259,
          0.133,
          0.112,
          0.098,
          0.893,
          0.143,
          0.969,
          1.931,
          0.107,
          0.252,
          0.068,
          0.235,
          0.095,
          0.281,
          2.104,
          0.539,
          1.503,
          0.081,
          0.127,
          0.043,
          0.205,
          0.265,
          0.172,
          5.295,
          0.242,
          0.14,
          0.135,
          0.066,
          0.093,
          2.309,
          0.043,
          0.13,
          0.347,
          0.038,
          0.072,
          0.165,
          0.28,
          0.176,
          0.15,
          0.949,
          0.297,
          0.209,
          0.048,
          0.072,
          0.233,
          0.72,
          1.763,
          3.025,
          0.039,
          0.187,
          0.191,
          0.258,
          0.237,
          1.383,
          0.17,
          0.121,
          0.211,
          0.376,
          0.117,
          0.205,
          0.063,
          1.08,
          0.146,
          1.322,
          0.055,
          0.084,
          0.192,
          0.053,
          0.283,
          0.12,
          0.07
         ],
         "xaxis": "x",
         "y": [
          51,
          102,
          271,
          30,
          30,
          35,
          55,
          22,
          35,
          35,
          21,
          6,
          46,
          56,
          65,
          6,
          85,
          24,
          23,
          29,
          12,
          56,
          49,
          35,
          28,
          13,
          33,
          28,
          38,
          60,
          53,
          50,
          55,
          46,
          23,
          120,
          56,
          51,
          41,
          58,
          96,
          32,
          67,
          14,
          67,
          15,
          37,
          39,
          32,
          55,
          48,
          31,
          17,
          37,
          38,
          20,
          31,
          4,
          33,
          40,
          11,
          30,
          24,
          35,
          67,
          14,
          110,
          36,
          145,
          25,
          111,
          43,
          73,
          51,
          26,
          5,
          136,
          77,
          59,
          63,
          10,
          26,
          19,
          18,
          62,
          54,
          69,
          43,
          11,
          52,
          26,
          37,
          26,
          86,
          26,
          112,
          54,
          3
         ],
         "yaxis": "y"
        }
       ],
       "layout": {
        "font": {
         "color": "RebeccaPurple",
         "size": 12
        },
        "legend": {
         "tracegroupgap": 0
        },
        "template": {
         "data": {
          "bar": [
           {
            "error_x": {
             "color": "#2a3f5f"
            },
            "error_y": {
             "color": "#2a3f5f"
            },
            "marker": {
             "line": {
              "color": "#E5ECF6",
              "width": 0.5
             },
             "pattern": {
              "fillmode": "overlay",
              "size": 10,
              "solidity": 0.2
             }
            },
            "type": "bar"
           }
          ],
          "barpolar": [
           {
            "marker": {
             "line": {
              "color": "#E5ECF6",
              "width": 0.5
             },
             "pattern": {
              "fillmode": "overlay",
              "size": 10,
              "solidity": 0.2
             }
            },
            "type": "barpolar"
           }
          ],
          "carpet": [
           {
            "aaxis": {
             "endlinecolor": "#2a3f5f",
             "gridcolor": "white",
             "linecolor": "white",
             "minorgridcolor": "white",
             "startlinecolor": "#2a3f5f"
            },
            "baxis": {
             "endlinecolor": "#2a3f5f",
             "gridcolor": "white",
             "linecolor": "white",
             "minorgridcolor": "white",
             "startlinecolor": "#2a3f5f"
            },
            "type": "carpet"
           }
          ],
          "choropleth": [
           {
            "colorbar": {
             "outlinewidth": 0,
             "ticks": ""
            },
            "type": "choropleth"
           }
          ],
          "contour": [
           {
            "colorbar": {
             "outlinewidth": 0,
             "ticks": ""
            },
            "colorscale": [
             [
              0,
              "#0d0887"
             ],
             [
              0.1111111111111111,
              "#46039f"
             ],
             [
              0.2222222222222222,
              "#7201a8"
             ],
             [
              0.3333333333333333,
              "#9c179e"
             ],
             [
              0.4444444444444444,
              "#bd3786"
             ],
             [
              0.5555555555555556,
              "#d8576b"
             ],
             [
              0.6666666666666666,
              "#ed7953"
             ],
             [
              0.7777777777777778,
              "#fb9f3a"
             ],
             [
              0.8888888888888888,
              "#fdca26"
             ],
             [
              1,
              "#f0f921"
             ]
            ],
            "type": "contour"
           }
          ],
          "contourcarpet": [
           {
            "colorbar": {
             "outlinewidth": 0,
             "ticks": ""
            },
            "type": "contourcarpet"
           }
          ],
          "heatmap": [
           {
            "colorbar": {
             "outlinewidth": 0,
             "ticks": ""
            },
            "colorscale": [
             [
              0,
              "#0d0887"
             ],
             [
              0.1111111111111111,
              "#46039f"
             ],
             [
              0.2222222222222222,
              "#7201a8"
             ],
             [
              0.3333333333333333,
              "#9c179e"
             ],
             [
              0.4444444444444444,
              "#bd3786"
             ],
             [
              0.5555555555555556,
              "#d8576b"
             ],
             [
              0.6666666666666666,
              "#ed7953"
             ],
             [
              0.7777777777777778,
              "#fb9f3a"
             ],
             [
              0.8888888888888888,
              "#fdca26"
             ],
             [
              1,
              "#f0f921"
             ]
            ],
            "type": "heatmap"
           }
          ],
          "heatmapgl": [
           {
            "colorbar": {
             "outlinewidth": 0,
             "ticks": ""
            },
            "colorscale": [
             [
              0,
              "#0d0887"
             ],
             [
              0.1111111111111111,
              "#46039f"
             ],
             [
              0.2222222222222222,
              "#7201a8"
             ],
             [
              0.3333333333333333,
              "#9c179e"
             ],
             [
              0.4444444444444444,
              "#bd3786"
             ],
             [
              0.5555555555555556,
              "#d8576b"
             ],
             [
              0.6666666666666666,
              "#ed7953"
             ],
             [
              0.7777777777777778,
              "#fb9f3a"
             ],
             [
              0.8888888888888888,
              "#fdca26"
             ],
             [
              1,
              "#f0f921"
             ]
            ],
            "type": "heatmapgl"
           }
          ],
          "histogram": [
           {
            "marker": {
             "pattern": {
              "fillmode": "overlay",
              "size": 10,
              "solidity": 0.2
             }
            },
            "type": "histogram"
           }
          ],
          "histogram2d": [
           {
            "colorbar": {
             "outlinewidth": 0,
             "ticks": ""
            },
            "colorscale": [
             [
              0,
              "#0d0887"
             ],
             [
              0.1111111111111111,
              "#46039f"
             ],
             [
              0.2222222222222222,
              "#7201a8"
             ],
             [
              0.3333333333333333,
              "#9c179e"
             ],
             [
              0.4444444444444444,
              "#bd3786"
             ],
             [
              0.5555555555555556,
              "#d8576b"
             ],
             [
              0.6666666666666666,
              "#ed7953"
             ],
             [
              0.7777777777777778,
              "#fb9f3a"
             ],
             [
              0.8888888888888888,
              "#fdca26"
             ],
             [
              1,
              "#f0f921"
             ]
            ],
            "type": "histogram2d"
           }
          ],
          "histogram2dcontour": [
           {
            "colorbar": {
             "outlinewidth": 0,
             "ticks": ""
            },
            "colorscale": [
             [
              0,
              "#0d0887"
             ],
             [
              0.1111111111111111,
              "#46039f"
             ],
             [
              0.2222222222222222,
              "#7201a8"
             ],
             [
              0.3333333333333333,
              "#9c179e"
             ],
             [
              0.4444444444444444,
              "#bd3786"
             ],
             [
              0.5555555555555556,
              "#d8576b"
             ],
             [
              0.6666666666666666,
              "#ed7953"
             ],
             [
              0.7777777777777778,
              "#fb9f3a"
             ],
             [
              0.8888888888888888,
              "#fdca26"
             ],
             [
              1,
              "#f0f921"
             ]
            ],
            "type": "histogram2dcontour"
           }
          ],
          "mesh3d": [
           {
            "colorbar": {
             "outlinewidth": 0,
             "ticks": ""
            },
            "type": "mesh3d"
           }
          ],
          "parcoords": [
           {
            "line": {
             "colorbar": {
              "outlinewidth": 0,
              "ticks": ""
             }
            },
            "type": "parcoords"
           }
          ],
          "pie": [
           {
            "automargin": true,
            "type": "pie"
           }
          ],
          "scatter": [
           {
            "fillpattern": {
             "fillmode": "overlay",
             "size": 10,
             "solidity": 0.2
            },
            "type": "scatter"
           }
          ],
          "scatter3d": [
           {
            "line": {
             "colorbar": {
              "outlinewidth": 0,
              "ticks": ""
             }
            },
            "marker": {
             "colorbar": {
              "outlinewidth": 0,
              "ticks": ""
             }
            },
            "type": "scatter3d"
           }
          ],
          "scattercarpet": [
           {
            "marker": {
             "colorbar": {
              "outlinewidth": 0,
              "ticks": ""
             }
            },
            "type": "scattercarpet"
           }
          ],
          "scattergeo": [
           {
            "marker": {
             "colorbar": {
              "outlinewidth": 0,
              "ticks": ""
             }
            },
            "type": "scattergeo"
           }
          ],
          "scattergl": [
           {
            "marker": {
             "colorbar": {
              "outlinewidth": 0,
              "ticks": ""
             }
            },
            "type": "scattergl"
           }
          ],
          "scattermapbox": [
           {
            "marker": {
             "colorbar": {
              "outlinewidth": 0,
              "ticks": ""
             }
            },
            "type": "scattermapbox"
           }
          ],
          "scatterpolar": [
           {
            "marker": {
             "colorbar": {
              "outlinewidth": 0,
              "ticks": ""
             }
            },
            "type": "scatterpolar"
           }
          ],
          "scatterpolargl": [
           {
            "marker": {
             "colorbar": {
              "outlinewidth": 0,
              "ticks": ""
             }
            },
            "type": "scatterpolargl"
           }
          ],
          "scatterternary": [
           {
            "marker": {
             "colorbar": {
              "outlinewidth": 0,
              "ticks": ""
             }
            },
            "type": "scatterternary"
           }
          ],
          "surface": [
           {
            "colorbar": {
             "outlinewidth": 0,
             "ticks": ""
            },
            "colorscale": [
             [
              0,
              "#0d0887"
             ],
             [
              0.1111111111111111,
              "#46039f"
             ],
             [
              0.2222222222222222,
              "#7201a8"
             ],
             [
              0.3333333333333333,
              "#9c179e"
             ],
             [
              0.4444444444444444,
              "#bd3786"
             ],
             [
              0.5555555555555556,
              "#d8576b"
             ],
             [
              0.6666666666666666,
              "#ed7953"
             ],
             [
              0.7777777777777778,
              "#fb9f3a"
             ],
             [
              0.8888888888888888,
              "#fdca26"
             ],
             [
              1,
              "#f0f921"
             ]
            ],
            "type": "surface"
           }
          ],
          "table": [
           {
            "cells": {
             "fill": {
              "color": "#EBF0F8"
             },
             "line": {
              "color": "white"
             }
            },
            "header": {
             "fill": {
              "color": "#C8D4E3"
             },
             "line": {
              "color": "white"
             }
            },
            "type": "table"
           }
          ]
         },
         "layout": {
          "annotationdefaults": {
           "arrowcolor": "#2a3f5f",
           "arrowhead": 0,
           "arrowwidth": 1
          },
          "autotypenumbers": "strict",
          "coloraxis": {
           "colorbar": {
            "outlinewidth": 0,
            "ticks": ""
           }
          },
          "colorscale": {
           "diverging": [
            [
             0,
             "#8e0152"
            ],
            [
             0.1,
             "#c51b7d"
            ],
            [
             0.2,
             "#de77ae"
            ],
            [
             0.3,
             "#f1b6da"
            ],
            [
             0.4,
             "#fde0ef"
            ],
            [
             0.5,
             "#f7f7f7"
            ],
            [
             0.6,
             "#e6f5d0"
            ],
            [
             0.7,
             "#b8e186"
            ],
            [
             0.8,
             "#7fbc41"
            ],
            [
             0.9,
             "#4d9221"
            ],
            [
             1,
             "#276419"
            ]
           ],
           "sequential": [
            [
             0,
             "#0d0887"
            ],
            [
             0.1111111111111111,
             "#46039f"
            ],
            [
             0.2222222222222222,
             "#7201a8"
            ],
            [
             0.3333333333333333,
             "#9c179e"
            ],
            [
             0.4444444444444444,
             "#bd3786"
            ],
            [
             0.5555555555555556,
             "#d8576b"
            ],
            [
             0.6666666666666666,
             "#ed7953"
            ],
            [
             0.7777777777777778,
             "#fb9f3a"
            ],
            [
             0.8888888888888888,
             "#fdca26"
            ],
            [
             1,
             "#f0f921"
            ]
           ],
           "sequentialminus": [
            [
             0,
             "#0d0887"
            ],
            [
             0.1111111111111111,
             "#46039f"
            ],
            [
             0.2222222222222222,
             "#7201a8"
            ],
            [
             0.3333333333333333,
             "#9c179e"
            ],
            [
             0.4444444444444444,
             "#bd3786"
            ],
            [
             0.5555555555555556,
             "#d8576b"
            ],
            [
             0.6666666666666666,
             "#ed7953"
            ],
            [
             0.7777777777777778,
             "#fb9f3a"
            ],
            [
             0.8888888888888888,
             "#fdca26"
            ],
            [
             1,
             "#f0f921"
            ]
           ]
          },
          "colorway": [
           "#636efa",
           "#EF553B",
           "#00cc96",
           "#ab63fa",
           "#FFA15A",
           "#19d3f3",
           "#FF6692",
           "#B6E880",
           "#FF97FF",
           "#FECB52"
          ],
          "font": {
           "color": "#2a3f5f"
          },
          "geo": {
           "bgcolor": "white",
           "lakecolor": "white",
           "landcolor": "#E5ECF6",
           "showlakes": true,
           "showland": true,
           "subunitcolor": "white"
          },
          "hoverlabel": {
           "align": "left"
          },
          "hovermode": "closest",
          "mapbox": {
           "style": "light"
          },
          "paper_bgcolor": "white",
          "plot_bgcolor": "#E5ECF6",
          "polar": {
           "angularaxis": {
            "gridcolor": "white",
            "linecolor": "white",
            "ticks": ""
           },
           "bgcolor": "#E5ECF6",
           "radialaxis": {
            "gridcolor": "white",
            "linecolor": "white",
            "ticks": ""
           }
          },
          "scene": {
           "xaxis": {
            "backgroundcolor": "#E5ECF6",
            "gridcolor": "white",
            "gridwidth": 2,
            "linecolor": "white",
            "showbackground": true,
            "ticks": "",
            "zerolinecolor": "white"
           },
           "yaxis": {
            "backgroundcolor": "#E5ECF6",
            "gridcolor": "white",
            "gridwidth": 2,
            "linecolor": "white",
            "showbackground": true,
            "ticks": "",
            "zerolinecolor": "white"
           },
           "zaxis": {
            "backgroundcolor": "#E5ECF6",
            "gridcolor": "white",
            "gridwidth": 2,
            "linecolor": "white",
            "showbackground": true,
            "ticks": "",
            "zerolinecolor": "white"
           }
          },
          "shapedefaults": {
           "line": {
            "color": "#2a3f5f"
           }
          },
          "ternary": {
           "aaxis": {
            "gridcolor": "white",
            "linecolor": "white",
            "ticks": ""
           },
           "baxis": {
            "gridcolor": "white",
            "linecolor": "white",
            "ticks": ""
           },
           "bgcolor": "#E5ECF6",
           "caxis": {
            "gridcolor": "white",
            "linecolor": "white",
            "ticks": ""
           }
          },
          "title": {
           "x": 0.05
          },
          "xaxis": {
           "automargin": true,
           "gridcolor": "white",
           "linecolor": "white",
           "ticks": "",
           "title": {
            "standoff": 15
           },
           "zerolinecolor": "white",
           "zerolinewidth": 2
          },
          "yaxis": {
           "automargin": true,
           "gridcolor": "white",
           "linecolor": "white",
           "ticks": "",
           "title": {
            "standoff": 15
           },
           "zerolinecolor": "white",
           "zerolinewidth": 2
          }
         }
        },
        "title": {
         "text": "Correlation between infrastructure density and number of components"
        },
        "xaxis": {
         "anchor": "y",
         "domain": [
          0,
          1
         ],
         "title": {
          "text": "Infrastructure density"
         }
        },
        "yaxis": {
         "anchor": "x",
         "domain": [
          0,
          1
         ],
         "title": {
          "text": "Number of disconnected components"
         }
        }
       }
      }
     },
     "metadata": {},
     "output_type": "display_data"
    }
   ],
   "source": [
    "# Plot correlation between infrastructure length and no of componentsß\n",
    "fig = px.scatter(\n",
    "    muni_network_counts,\n",
    "    x=\"infra_km\",\n",
    "    y=\"component_count\",\n",
    "    title=\"Correlation between infrastructure length and number of components\",\n",
    "    hover_data=[\"name\"],\n",
    "    color=\"area_sqkm\",\n",
    "    color_continuous_scale=\"viridis_r\",\n",
    "    labels={\n",
    "        \"infra_km\": \"Length of bicycle infrastructure (km)\",\n",
    "        \"component_count\": \"Number of disconnected components\",\n",
    "        \"name\": \"Municipality\",\n",
    "        \"area_sqkm\": \"Size (sqkm)\",\n",
    "    },\n",
    ")\n",
    "\n",
    "fig.update_layout(font=dict(size=12, color=\"RebeccaPurple\"))\n",
    "fig.show()\n",
    "\n",
    "# Plot correlation between municipality size and no of componentsß\n",
    "fig = px.scatter(\n",
    "    muni_network_counts,\n",
    "    x=\"area_sqkm\",\n",
    "    y=\"component_count\",\n",
    "    color=\"infra_km\",\n",
    "    title=\"Correlation between municipality size and number of components\",\n",
    "    hover_data=[\"name\"],\n",
    "    color_continuous_scale=\"viridis_r\",\n",
    "    labels={\n",
    "        \"area_sqkm\": \"Size (sqkm)\",\n",
    "        \"infra_km\": \"Length (km)\",\n",
    "        \"component_count\": \"Number of disconnected components\",\n",
    "        \"name\": \"Municipality\",\n",
    "    },\n",
    ")\n",
    "\n",
    "fig.update_layout(font=dict(size=12, color=\"RebeccaPurple\"))\n",
    "fig.show()\n",
    "\n",
    "# Plot correlation between density and number of components\n",
    "fig = px.scatter(\n",
    "    muni_network_counts,\n",
    "    x=\"infra_dens\",\n",
    "    y=\"component_count\",\n",
    "    # color=\"infra_km\",\n",
    "    title=\"Correlation between infrastructure density and number of components\",\n",
    "    hover_data=[\"name\"],\n",
    "    # color_continuous_scale='viridis_r',\n",
    "    labels={\n",
    "        # \"area_sqkm\": \"Size (sqkm)\",\n",
    "        # \"infra_km\": \"Length (km)\",\n",
    "        \"infra_dens\": \"Infrastructure density\",\n",
    "        \"component_count\": \"Number of disconnected components\",\n",
    "        \"name\": \"Municipality\",\n",
    "    },\n",
    ")\n",
    "\n",
    "fig.update_layout(font=dict(size=12, color=\"RebeccaPurple\"))\n",
    "fig.show()\n"
   ]
  }
 ],
 "metadata": {
  "kernelspec": {
   "display_name": "bikedna_analysis",
   "language": "python",
   "name": "python3"
  },
  "language_info": {
   "codemirror_mode": {
    "name": "ipython",
    "version": 3
   },
   "file_extension": ".py",
   "mimetype": "text/x-python",
   "name": "python",
   "nbconvert_exporter": "python",
   "pygments_lexer": "ipython3",
   "version": "3.11.3"
  },
  "orig_nbformat": 4
 },
 "nbformat": 4,
 "nbformat_minor": 2
}
