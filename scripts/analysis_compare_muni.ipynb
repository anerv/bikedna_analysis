{
 "cells": [
  {
   "attachments": {},
   "cell_type": "markdown",
   "metadata": {},
   "source": [
    "# Analysis of OSM-GeoDanmark differences between municipalities"
   ]
  },
  {
   "cell_type": "code",
   "execution_count": null,
   "metadata": {},
   "outputs": [],
   "source": [
    "import geopandas as gpd\n",
    "import matplotlib.pyplot as plt\n",
    "import pickle\n",
    "import json\n",
    "import pandas as pd\n",
    "import seaborn as sns\n",
    "import plotly.express as px\n",
    "import numpy as np\n",
    "from scipy import stats\n",
    "\n",
    "%run ../settings/yaml_variables.py\n",
    "%run ../settings/paths.py"
   ]
  },
  {
   "cell_type": "code",
   "execution_count": null,
   "metadata": {},
   "outputs": [],
   "source": [
    "make_plots = True"
   ]
  },
  {
   "attachments": {},
   "cell_type": "markdown",
   "metadata": {},
   "source": [
    "## Differences per municipality"
   ]
  },
  {
   "cell_type": "code",
   "execution_count": null,
   "metadata": {},
   "outputs": [],
   "source": [
    "# Load results of municipal analysis\n",
    "\n",
    "osm_muni = pd.read_csv(osm_analysis_data_fp+\"muni_network_counts.csv\",index_col=False)\n",
    "ref_muni = pd.read_csv(ref_analysis_data_fp+\"muni_network_counts.csv\",index_col=False)\n",
    "\n",
    "osm_muni['datasource'] = 'osm'\n",
    "ref_muni['datasource'] = 'ref'\n",
    "\n",
    "combined = pd.concat([osm_muni.reset_index(), ref_muni.reset_index()])\n",
    "combined.drop('index',axis=1, inplace=True)\n",
    "\n",
    "osm_muni.set_index('navn',inplace=True)\n",
    "ref_muni.set_index('navn',inplace=True)\n",
    "\n",
    "osm_muni.fillna(0,inplace=True)\n",
    "ref_muni.fillna(0,inplace=True)"
   ]
  },
  {
   "attachments": {},
   "cell_type": "markdown",
   "metadata": {},
   "source": [
    "### Compute total differences between OSM & GeoDanmark data"
   ]
  },
  {
   "cell_type": "code",
   "execution_count": null,
   "metadata": {},
   "outputs": [],
   "source": [
    "diffs = []\n",
    "\n",
    "diff_cols = ['node_count', 'dangling_node_count',\n",
    "       'infra_km', 'infra_dens', 'infra_pop', 'overshoots',\n",
    "       'undershoots', 'component_gaps', 'component_count',\n",
    "       'comp_per_km']\n",
    "\n",
    "for c in diff_cols:\n",
    "    diff = ref_muni[c] - osm_muni[c]\n",
    "    diffs.append(diff)\n",
    "\n",
    "diff_df = pd.DataFrame(diffs).transpose()\n",
    "diff_df"
   ]
  },
  {
   "cell_type": "code",
   "execution_count": null,
   "metadata": {},
   "outputs": [],
   "source": [
    "diff_df.describe()"
   ]
  },
  {
   "attachments": {},
   "cell_type": "markdown",
   "metadata": {},
   "source": [
    "### Compute percent differences between OSM & GeoDanmark data"
   ]
  },
  {
   "cell_type": "code",
   "execution_count": null,
   "metadata": {},
   "outputs": [],
   "source": [
    "topology_cols = ['overshoots','undershoots','over_under','component_gaps']\n",
    "pct_diff_cols = [d for d in diff_cols if d not in topology_cols]\n",
    "\n",
    "pct_diffs = []\n",
    "for d in pct_diff_cols:\n",
    "    pct_diff = np.round(\n",
    "        100\n",
    "        * (ref_muni[d] - osm_muni[d])\n",
    "        / osm_muni[d],\n",
    "        2,\n",
    "    )\n",
    "    pct_diffs.append(pct_diff)\n",
    "\n",
    "pct_diff_df = pd.DataFrame(pct_diffs).transpose()\n",
    "pct_diff_df"
   ]
  },
  {
   "cell_type": "code",
   "execution_count": null,
   "metadata": {},
   "outputs": [],
   "source": [
    "pct_diff_df.describe()"
   ]
  },
  {
   "attachments": {},
   "cell_type": "markdown",
   "metadata": {},
   "source": [
    "#### Completeness"
   ]
  },
  {
   "cell_type": "code",
   "execution_count": null,
   "metadata": {},
   "outputs": [],
   "source": [
    "count_osm_bigger = len(diff_df[diff_df.infra_km < 0])\n",
    "osm_bigger = list(diff_df[diff_df.infra_km < 0].index.values)\n",
    "count_ref_bigger = len(diff_df[diff_df.infra_km > 0])\n",
    "ref_bigger = list(diff_df[diff_df.infra_km > 0].index.values)\n",
    "\n",
    "print(f\"Out of {len(diff_df)} municipalities, the length of the OSM network is smaller in {count_ref_bigger} and larger in {count_osm_bigger} municipalities.\")\n",
    "\n",
    "min_diff = diff_df.infra_km.abs().min()\n",
    "max_diff = diff_df.infra_km.abs().max()\n",
    "min_pct_diff = pct_diff_df.infra_km.abs().min()\n",
    "max_pct_diff = pct_diff_df.infra_km.abs().max()\n",
    "\n",
    "ave_abs_diff = diff_df.infra_km.abs().mean()\n",
    "ave_pct_diff = pct_diff_df.infra_km.abs().mean()\n",
    "\n",
    "print(f\"The difference ranges between {min_diff:.2f} and {max_diff:.2f} km or {min_pct_diff:.2f} - {max_pct_diff:.2f}%\")\n",
    "print(f\"The average difference is {ave_abs_diff:.2f} km or {ave_pct_diff:.2f}%.\")"
   ]
  },
  {
   "cell_type": "code",
   "execution_count": null,
   "metadata": {},
   "outputs": [],
   "source": [
    "osm_dens_min = osm_muni.infra_dens.min()\n",
    "osm_dens_max = osm_muni.infra_dens.max()\n",
    "osm_dens_ave = osm_muni.infra_dens.mean()\n",
    "\n",
    "ref_dens_min = ref_muni.infra_dens.min()\n",
    "ref_dens_max = ref_muni.infra_dens.max()\n",
    "ref_dens_ave = ref_muni.infra_dens.mean()\n",
    "\n",
    "ave_dens_diff = diff_df.infra_dens.abs().mean()\n",
    "min_dens_diff = diff_df.infra_dens.abs().min()\n",
    "max_dens_diff = diff_df.infra_dens.abs().max()\n",
    "\n",
    "ave_dens_pct_diff = pct_diff_df.infra_dens.abs().mean()\n",
    "min_dens_pct_diff = pct_diff_df.infra_dens.abs().min()\n",
    "max_dens_pct_diff = pct_diff_df.infra_dens.abs().max()"
   ]
  },
  {
   "cell_type": "code",
   "execution_count": null,
   "metadata": {},
   "outputs": [],
   "source": [
    "print(f\"The OSM infrastructure density ranges from {osm_dens_min} - {osm_dens_max} km/sqkm, with an average density of {osm_dens_ave} km/sqkm.\")\n",
    "print(f\"The {reference_name} infrastructure density ranges from {ref_dens_min} - {ref_dens_max} km/sqkm, with an average density of {ref_dens_ave} km/sqkm.\")\n",
    "print(f\"The difference ranges between {min_dens_diff:.3f} and {max_dens_diff:.2f} k/sqkm or {min_dens_pct_diff:.2f} - {max_dens_pct_diff:.2f}%\")\n",
    "print(f\"The average difference between municipalties is {ave_dens_diff:.2f} km/sqkm or {ave_dens_pct_diff:.2f} percent.\")"
   ]
  },
  {
   "attachments": {},
   "cell_type": "markdown",
   "metadata": {},
   "source": [
    "#### Topology & network structure"
   ]
  },
  {
   "cell_type": "code",
   "execution_count": null,
   "metadata": {},
   "outputs": [],
   "source": [
    "osm_comp_count = len(diff_df[diff_df.component_count < 0])\n",
    "osm_comp = list(diff_df[diff_df.component_count < 0].index.values)\n",
    "ref_comp_count = len(diff_df[diff_df.component_count > 0])\n",
    "ref_comp = list(diff_df[diff_df.component_count > 0].index.values)\n",
    "\n",
    "\n",
    "osm_comp_km_count = len(diff_df[diff_df.comp_per_km < 0])\n",
    "osm_comp_km = list(diff_df[diff_df.comp_per_km < 0].index.values)\n",
    "ref_comp_km_count = len(diff_df[diff_df.comp_per_km > 0])\n",
    "ref_comp_km = list(diff_df[diff_df.comp_per_km > 0].index.values)\n",
    "\n",
    "print(f\"Out of {len(diff_df)} municipalities, {osm_comp_count} have more components in the OSM data than {reference_name}, {ref_comp_count} have fewer.\")\n",
    "print(f\"Out of {len(diff_df)} municipalities, {osm_comp_km_count} have more components per kilometer in the OSM data than {reference_name}, {ref_comp_km_count} have fewer.\")\n",
    "print(\"\\n\")\n",
    "print(f\"In the OSM data, the municipalities have between {osm_muni.comp_per_km.min()} and {osm_muni.comp_per_km.max()} components per km.\")\n",
    "print(f\"In the {reference_name} data, the municipalities have between {ref_muni.comp_per_km.min()} and {ref_muni.comp_per_km.max()} components per km.\")\n"
   ]
  },
  {
   "attachments": {},
   "cell_type": "markdown",
   "metadata": {},
   "source": [
    "#### Topology errors"
   ]
  },
  {
   "cell_type": "code",
   "execution_count": null,
   "metadata": {},
   "outputs": [],
   "source": [
    "osm_over = osm_muni.overshoots.sum()\n",
    "osm_under = osm_muni.undershoots.sum()\n",
    "osm_muni_over = len(osm_muni[osm_muni.overshoots>0])\n",
    "osm_muni_under = len(osm_muni[osm_muni.undershoots>0])\n",
    "ref_over = ref_muni.overshoots.sum()\n",
    "ref_under = ref_muni.undershoots.sum()\n",
    "ref_muni_over = len(osm_muni[ref_muni.overshoots>0])\n",
    "ref_muni_under = len(osm_muni[ref_muni.undershoots>0])\n",
    "\n",
    "print(f\"The OSM data has {osm_over:.0f} overshoots in {osm_muni_over} municipalities and {osm_under:.0f} undershoots in {osm_muni_under} municipalities.\")\n",
    "\n",
    "print(f\"The {reference_name} data has {ref_over:.0f} overshoots in {ref_muni_over} municipalities and {ref_under:.0f} undershoots in {ref_muni_under} municipalities.\")\n",
    "\n",
    "osm_length = osm_muni.infra_km.sum() / 10\n",
    "ref_length = ref_muni.infra_km.sum() / 10\n",
    "\n",
    "osm_over_km = osm_over / osm_length\n",
    "osm_under_km = osm_under / osm_length\n",
    "ref_over_km = ref_over / ref_length\n",
    "ref_under_km = ref_under / ref_length\n",
    "\n",
    "print(f\"The OSM data has {osm_over_km:.2f} overshoots and {osm_under_km:.2f} undershoots per 10 km.\")\n",
    "print(f\"The {reference_name} data has {ref_over_km:.2f} overshoots and {ref_under_km:.2f} undershoots per 10 km.\")"
   ]
  },
  {
   "cell_type": "code",
   "execution_count": null,
   "metadata": {},
   "outputs": [],
   "source": [
    "osm_more_over_count = len(diff_df[diff_df.overshoots < 0])\n",
    "osm_more_over = list(diff_df[diff_df.overshoots < 0].index.values)\n",
    "ref_more_over_count = len(diff_df[diff_df.overshoots > 0])\n",
    "ref_more_over = list(diff_df[diff_df.overshoots > 0].index.values)\n",
    "\n",
    "osm_more_under_count = len(diff_df[diff_df.undershoots < 0])\n",
    "osm_more_under = list(diff_df[diff_df.undershoots < 0].index.values)\n",
    "ref_more_under_count = len(diff_df[diff_df.undershoots > 0])\n",
    "ref_more_under = list(diff_df[diff_df.undershoots > 0].index.values)\n",
    "\n",
    "print(f\"There are {osm_more_over_count} municipalities with more overshoots in OSM than in {reference_name}.\")\n",
    "print(f\"There are {ref_more_over_count} municipalities with more overshoots {reference_name} than in OSM.\")\n",
    "\n",
    "print(f\"There are {osm_more_under_count} municipalities with more undershoots in OSM than in {reference_name}.\")\n",
    "print(f\"There are {ref_more_under_count} municipalities with more undershoots {reference_name} than in OSM.\")"
   ]
  },
  {
   "attachments": {},
   "cell_type": "markdown",
   "metadata": {},
   "source": [
    "#### Plot absolute values for OSM & GeoDanmark"
   ]
  },
  {
   "cell_type": "code",
   "execution_count": null,
   "metadata": {},
   "outputs": [],
   "source": [
    "if make_plots:\n",
    "    for d in diff_cols:\n",
    "\n",
    "        fig, ax = plt.subplots(figsize=(20,20))\n",
    "\n",
    "        sns.barplot(combined, x=\"navn\",y=d,ax=ax, hue='datasource',palette='Set2')\n",
    "        plt.xticks(rotation = 45, ha = 'right')\n",
    "        plt.xlabel('')\n",
    "        plt.ylabel(d)\n",
    "        plt.title('Comparison');"
   ]
  },
  {
   "attachments": {},
   "cell_type": "markdown",
   "metadata": {},
   "source": [
    "#### Plot total differences"
   ]
  },
  {
   "cell_type": "code",
   "execution_count": null,
   "metadata": {},
   "outputs": [],
   "source": [
    "plot_labels = {\n",
    "    \"navn\":\"\",\n",
    "    \"node_count\":\"nodes\",\n",
    "    \"dangling_node_count\":\"dangling nodes\",\n",
    "    \"infra_km\": \"bicycle infrastructure (km)\",\n",
    "    \"infra_pop\": \"infrastructure per population (km/1000)\",\n",
    "    \"component_gaps\": \"component gaps\",\n",
    "    \"component_count\": \"components\",\n",
    "    \"comp_per_km\": \"components per km\",\n",
    "    \"datasource\": \"data source\"\n",
    "    }"
   ]
  },
  {
   "cell_type": "code",
   "execution_count": null,
   "metadata": {},
   "outputs": [],
   "source": [
    "if make_plots:\n",
    "\n",
    "    for d in diff_cols:\n",
    "\n",
    "        fig = px.bar(diff_df, y=d, x=diff_df.index, labels=plot_labels)\n",
    "\n",
    "        fig.update_traces(marker_color='green')\n",
    "\n",
    "        fig.show()"
   ]
  },
  {
   "attachments": {},
   "cell_type": "markdown",
   "metadata": {},
   "source": [
    "**Plot percent differences between GeoDK and OSM**"
   ]
  },
  {
   "cell_type": "code",
   "execution_count": null,
   "metadata": {},
   "outputs": [],
   "source": [
    "if make_plots:\n",
    "    for d in pct_diff_cols:\n",
    "\n",
    "        fig = px.bar(pct_diff_df, y=d, x=diff_df.index, labels=plot_labels)\n",
    "\n",
    "        fig.update_traces(marker_color='purple')\n",
    "\n",
    "        fig.show()"
   ]
  },
  {
   "attachments": {},
   "cell_type": "markdown",
   "metadata": {},
   "source": [
    "#### Plots of value distributions"
   ]
  },
  {
   "cell_type": "code",
   "execution_count": null,
   "metadata": {},
   "outputs": [],
   "source": [
    "if make_plots:\n",
    "\n",
    "    for d in diff_cols:\n",
    "\n",
    "        fig = px.violin(diff_df, y=d,labels=plot_labels,title='Value distribution: Total differences')\n",
    "\n",
    "        fig.update_traces(marker_color='green')\n",
    "\n",
    "        fig.show()"
   ]
  },
  {
   "cell_type": "code",
   "execution_count": null,
   "metadata": {},
   "outputs": [],
   "source": [
    "if make_plots:\n",
    "    \n",
    "    for d in pct_diff_cols:\n",
    "\n",
    "        fig = px.violin(pct_diff_df, y=d, labels=plot_labels, title=\"Value distribution: Percent differences\")\n",
    "\n",
    "        fig.update_traces(marker_color='purple')\n",
    "\n",
    "        fig.show()"
   ]
  },
  {
   "cell_type": "code",
   "execution_count": null,
   "metadata": {},
   "outputs": [],
   "source": [
    "if make_plots:\n",
    "    \n",
    "    for d in diff_cols:\n",
    "\n",
    "        fig = px.violin(combined, x='datasource', y=d, title=\"Comparison of value distributions\",labels=plot_labels)\n",
    "\n",
    "        fig.update_traces(marker_color='red')\n",
    "\n",
    "        fig.show()"
   ]
  },
  {
   "attachments": {},
   "cell_type": "markdown",
   "metadata": {},
   "source": [
    "#### Correlation between differences"
   ]
  },
  {
   "attachments": {},
   "cell_type": "markdown",
   "metadata": {},
   "source": [
    "**Correlation between total differences**"
   ]
  },
  {
   "cell_type": "code",
   "execution_count": null,
   "metadata": {},
   "outputs": [],
   "source": [
    "sns.pairplot(diff_df);"
   ]
  },
  {
   "attachments": {},
   "cell_type": "markdown",
   "metadata": {},
   "source": [
    "**Correlation between standardized differences**"
   ]
  },
  {
   "cell_type": "code",
   "execution_count": null,
   "metadata": {},
   "outputs": [],
   "source": [
    "diff_std = pd.DataFrame()\n",
    "\n",
    "for c in diff_df.columns:\n",
    "    \n",
    "    # Z-Score using scipy\n",
    "    diff_std[c] = stats.zscore(diff_df[c])\n",
    "\n",
    "sns.pairplot(diff_std);"
   ]
  },
  {
   "attachments": {},
   "cell_type": "markdown",
   "metadata": {},
   "source": [
    "**Correlation between percent differences**"
   ]
  },
  {
   "cell_type": "code",
   "execution_count": null,
   "metadata": {},
   "outputs": [],
   "source": [
    "sns.pairplot(pct_diff_df);"
   ]
  },
  {
   "attachments": {},
   "cell_type": "markdown",
   "metadata": {},
   "source": [
    "**Correlation between standardized percent differences**"
   ]
  },
  {
   "cell_type": "code",
   "execution_count": null,
   "metadata": {},
   "outputs": [],
   "source": [
    "pct_diff_std = pd.DataFrame()\n",
    "\n",
    "for c in pct_diff_df.columns:\n",
    "    # Z-Score using scipy\n",
    "    pct_diff_std[c] = stats.zscore(pct_diff_df[c])\n",
    "\n",
    "sns.pairplot(pct_diff_std)\n",
    "\n",
    "plt.title('Correlation between differences');"
   ]
  },
  {
   "attachments": {},
   "cell_type": "markdown",
   "metadata": {},
   "source": [
    "## Compare ranks"
   ]
  },
  {
   "cell_type": "code",
   "execution_count": null,
   "metadata": {},
   "outputs": [],
   "source": [
    "# For infra length, number of components, comps per km\n",
    "\n",
    "osm_rank = pd.DataFrame()\n",
    "\n",
    "for d in diff_cols:\n",
    "\n",
    "    osm_rank[d] = osm_muni[d].rank(ascending=False, method=\"first\")\n",
    "\n",
    "osm_rank['source'] = 'OSM'\n",
    "\n",
    "ref_rank = pd.DataFrame()\n",
    "\n",
    "for d in diff_cols:\n",
    "\n",
    "    ref_rank[d] = ref_muni[d].rank(ascending=False, method=\"first\")\n",
    "\n",
    "ref_rank['source'] = reference_name\n",
    "\n",
    "\n",
    "infra_ranks = pd.concat([osm_rank[['infra_km','source']].reset_index(), ref_rank[['infra_km','source']].reset_index()])\n",
    "\n",
    "infra_ranks.rename({\"infra_km\":'rank'},axis=1,inplace=True)\n",
    "\n",
    "comp_ranks = pd.concat([osm_rank[['component_count','source']].reset_index(), ref_rank[['component_count','source']].reset_index()])\n",
    "\n",
    "comp_ranks.rename({\"component_count\":'rank'},axis=1,inplace=True)\n",
    "\n",
    "comp_km_ranks = pd.concat([osm_rank[['comp_per_km','source']].reset_index(), ref_rank[['comp_per_km','source']].reset_index()])\n",
    "\n",
    "comp_km_ranks.rename({\"comp_per_km\":'rank'},axis=1,inplace=True)"
   ]
  },
  {
   "cell_type": "code",
   "execution_count": null,
   "metadata": {},
   "outputs": [],
   "source": [
    "osm_rank.compare(ref_rank, keep_equal=True)"
   ]
  },
  {
   "cell_type": "code",
   "execution_count": null,
   "metadata": {},
   "outputs": [],
   "source": [
    "from matplotlib.ticker import MultipleLocator, FixedFormatter, FixedLocator\n",
    "\n",
    "# based on https://stackoverflow.com/questions/68095438/how-to-make-a-bump-chart\n",
    "\n",
    "fig, ax = plt.subplots(figsize=(20,20))\n",
    "\n",
    "ax.xaxis.set_major_locator(MultipleLocator(1))\n",
    "ax.yaxis.set_major_locator(MultipleLocator(1))\n",
    "\n",
    "ax.get_yaxis().set_visible(False)\n",
    "yax1 = ax.secondary_yaxis(\"left\")\n",
    "yax1.yaxis.set_major_locator(FixedLocator(infra_ranks[\"rank\"].to_list()[0:98]))\n",
    "yax1.yaxis.set_major_formatter(FixedFormatter(infra_ranks[\"navn\"].to_list()[0:98]))\n",
    "\n",
    "yax2 = ax.secondary_yaxis(\"right\")\n",
    "yax2.yaxis.set_major_locator(FixedLocator(infra_ranks[\"rank\"].to_list()[98:]))\n",
    "yax2.yaxis.set_major_formatter(FixedFormatter(infra_ranks[\"navn\"].to_list()[98:]))\n",
    "\n",
    "for i, j in infra_ranks.groupby(\"navn\"):\n",
    "    ax.plot(\"source\", \"rank\", \"o-\", data=j, mfc=\"w\")\n",
    "\n",
    "ax.invert_yaxis()\n",
    "ax.set(xlabel=\"Data source\", ylabel=\"Rank\", title=\"Rank of infrastructure length\")\n",
    "ax.grid(axis=\"x\")\n",
    "plt.tight_layout()"
   ]
  },
  {
   "cell_type": "code",
   "execution_count": null,
   "metadata": {},
   "outputs": [],
   "source": [
    "from matplotlib.ticker import MultipleLocator, FixedFormatter, FixedLocator\n",
    "\n",
    "# based on https://stackoverflow.com/questions/68095438/how-to-make-a-bump-chart\n",
    "\n",
    "fig, ax = plt.subplots(figsize=(20, 20))\n",
    "\n",
    "ax.xaxis.set_major_locator(MultipleLocator(1))\n",
    "ax.yaxis.set_major_locator(MultipleLocator(1))\n",
    "\n",
    "ax.get_yaxis().set_visible(False)\n",
    "yax1 = ax.secondary_yaxis(\"left\")\n",
    "yax1.yaxis.set_major_locator(FixedLocator(comp_ranks[\"rank\"].to_list()[0:98]))\n",
    "yax1.yaxis.set_major_formatter(FixedFormatter(comp_ranks[\"navn\"].to_list()[0:98]))\n",
    "\n",
    "yax2 = ax.secondary_yaxis(\"right\")\n",
    "yax2.yaxis.set_major_locator(FixedLocator(comp_ranks[\"rank\"].to_list()[98:]))\n",
    "yax2.yaxis.set_major_formatter(FixedFormatter(comp_ranks[\"navn\"].to_list()[98:]))\n",
    "\n",
    "for i, j in comp_ranks.groupby(\"navn\"):\n",
    "    ax.plot(\"source\", \"rank\", \"o-\", data=j, mfc=\"w\")\n",
    "\n",
    "ax.invert_yaxis()\n",
    "ax.set(xlabel=\"Data source\", ylabel=\"Rank\", title=\"Rank of component count\")\n",
    "ax.grid(axis=\"x\")\n",
    "plt.tight_layout()\n"
   ]
  },
  {
   "cell_type": "code",
   "execution_count": null,
   "metadata": {},
   "outputs": [],
   "source": [
    "from matplotlib.ticker import MultipleLocator, FixedFormatter, FixedLocator\n",
    "\n",
    "# based on https://stackoverflow.com/questions/68095438/how-to-make-a-bump-chart\n",
    "\n",
    "fig, ax = plt.subplots(figsize=(20,20))\n",
    "\n",
    "ax.xaxis.set_major_locator(MultipleLocator(1))\n",
    "ax.yaxis.set_major_locator(MultipleLocator(1))\n",
    "\n",
    "ax.get_yaxis().set_visible(False)\n",
    "yax1 = ax.secondary_yaxis(\"left\")\n",
    "yax1.yaxis.set_major_locator(FixedLocator(comp_km_ranks[\"rank\"].to_list()[0:98]))\n",
    "yax1.yaxis.set_major_formatter(FixedFormatter(comp_km_ranks[\"navn\"].to_list()[0:98]))\n",
    "\n",
    "yax2 = ax.secondary_yaxis(\"right\")\n",
    "yax2.yaxis.set_major_locator(FixedLocator(comp_km_ranks[\"rank\"].to_list()[98:]))\n",
    "yax2.yaxis.set_major_formatter(FixedFormatter(comp_km_ranks[\"navn\"].to_list()[98:]))\n",
    "\n",
    "for i, j in comp_km_ranks.groupby(\"navn\"):\n",
    "    ax.plot(\"source\", \"rank\", \"o-\", data=j, mfc=\"w\")\n",
    "\n",
    "ax.invert_yaxis()\n",
    "ax.set(xlabel=\"Data source\", ylabel=\"Rank\", title=\"Rank of components per km\")\n",
    "ax.grid(axis=\"x\")\n",
    "plt.tight_layout()"
   ]
  }
 ],
 "metadata": {
  "kernelspec": {
   "display_name": "bikedna_analysis",
   "language": "python",
   "name": "python3"
  },
  "language_info": {
   "codemirror_mode": {
    "name": "ipython",
    "version": 3
   },
   "file_extension": ".py",
   "mimetype": "text/x-python",
   "name": "python",
   "nbconvert_exporter": "python",
   "pygments_lexer": "ipython3",
   "version": "3.11.3"
  },
  "orig_nbformat": 4
 },
 "nbformat": 4,
 "nbformat_minor": 2
}
