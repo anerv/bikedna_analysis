{
 "cells": [
  {
   "attachments": {},
   "cell_type": "markdown",
   "metadata": {},
   "source": [
    "TODO: Summary of extrinsic 3a and 3b?\n",
    "- everything in extrinsic summaries - read results, redo tables\n",
    "\n",
    "TODO: Analysis of spatial autocorrelation of:\n",
    "- differences in density\n",
    "- matched/unmatched features\n",
    "- connectivity\n",
    "- components per grid cell?\n",
    "\n",
    "TODO: Analysis of overlap between errors and differences.\n",
    "TODO: Analysis of correlation between high/low quality areas and pop density"
   ]
  },
  {
   "cell_type": "code",
   "execution_count": null,
   "metadata": {},
   "outputs": [],
   "source": []
  }
 ],
 "metadata": {
  "language_info": {
   "name": "python"
  },
  "orig_nbformat": 4
 },
 "nbformat": 4,
 "nbformat_minor": 2
}
