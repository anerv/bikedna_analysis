{
 "cells": [
  {
   "attachments": {},
   "cell_type": "markdown",
   "metadata": {},
   "source": [
    "# Analysis of extrinsic results"
   ]
  },
  {
   "cell_type": "code",
   "execution_count": null,
   "metadata": {},
   "outputs": [],
   "source": [
    "import geopandas as gpd\n",
    "import matplotlib.pyplot as plt\n",
    "import pickle\n",
    "import json\n",
    "import pandas as pd\n",
    "import seaborn as sns\n",
    "import plotly.express as px\n",
    "import numpy as np\n",
    "from scipy import stats\n",
    "\n",
    "%run ../settings/yaml_variables.py\n",
    "%run ../settings/df_styler.py\n",
    "%run ../settings/plotting.py"
   ]
  },
  {
   "cell_type": "code",
   "execution_count": null,
   "metadata": {},
   "outputs": [],
   "source": [
    "# Import summary dataframe\n",
    "summarize_ex_results_df = pd.read_csv(f\"../results/COMPARE/{study_area}/data/extrinsic_summary_results.csv\",index_col=0)\n",
    "\n",
    "summarize_ex_results_df.style.pipe(format_extrinsic_style)"
   ]
  },
  {
   "cell_type": "code",
   "execution_count": null,
   "metadata": {},
   "outputs": [],
   "source": [
    "# Import summary dataframe\n",
    "summarize_fm_results_df = pd.read_csv(\n",
    "    f\"../results/COMPARE/{study_area}/data/feature_matching_summary_stats.csv\",\n",
    "    index_col=0,\n",
    ")\n",
    "\n",
    "summarize_fm_results_df.style.pipe(format_matched_style)\n"
   ]
  },
  {
   "cell_type": "code",
   "execution_count": null,
   "metadata": {},
   "outputs": [],
   "source": [
    "# TODO: Analyze SPATIAL PATTERN in differences in density\n",
    "\n",
    "# TODO: Analyze SPATIAL PATTERN in differences in matched features\n",
    "\n",
    "# TODO: Find a way to compare differences in density to matched features\n",
    "\n",
    "# TODO: Analysis of overlap between errors and differences.\n",
    "\n",
    "# TODO: Analysis of correlation between high/low quality areas and pop density"
   ]
  },
  {
   "cell_type": "code",
   "execution_count": null,
   "metadata": {},
   "outputs": [],
   "source": [
    "make_plots = True"
   ]
  }
 ],
 "metadata": {
  "kernelspec": {
   "display_name": "bikedna_analysis",
   "language": "python",
   "name": "python3"
  },
  "language_info": {
   "codemirror_mode": {
    "name": "ipython",
    "version": 3
   },
   "file_extension": ".py",
   "mimetype": "text/x-python",
   "name": "python",
   "nbconvert_exporter": "python",
   "pygments_lexer": "ipython3",
   "version": "3.11.0"
  },
  "orig_nbformat": 4
 },
 "nbformat": 4,
 "nbformat_minor": 2
}
