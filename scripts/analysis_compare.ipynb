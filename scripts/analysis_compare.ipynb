{
 "cells": [
  {
   "attachments": {},
   "cell_type": "markdown",
   "metadata": {},
   "source": [
    "# Analysis of extrinsic results\n",
    "\n",
    "TODO: Summary of extrinsic 3a and 3b?\n",
    "- everything in extrinsic summaries - read results, redo tables\n",
    "\n",
    "TODO: Analysis of spatial autocorrelation of:\n",
    "\n",
    "- differences in density\n",
    "- matched/unmatched features\n",
    "- connectivity\n",
    "- components per grid cell?\n",
    "\n",
    "TODO: Analysis of overlap between errors and differences.\n",
    "\n",
    "TODO: Analysis of correlation between high/low quality areas and pop density"
   ]
  },
  {
   "cell_type": "code",
   "execution_count": 82,
   "metadata": {},
   "outputs": [],
   "source": [
    "import geopandas as gpd\n",
    "import matplotlib.pyplot as plt\n",
    "import pickle\n",
    "import json\n",
    "import pandas as pd\n",
    "import seaborn as sns\n",
    "import plotly.express as px\n",
    "import numpy as np\n",
    "from scipy import stats\n",
    "\n",
    "%run ../settings/yaml_variables.py"
   ]
  },
  {
   "cell_type": "code",
   "execution_count": null,
   "metadata": {},
   "outputs": [],
   "source": [
    "# TODO: Read extrinsic results\n",
    "\n",
    "# TODO: Redo tables\n",
    "\n",
    "# TODO: Analyze SPATIAL PATTERN in differences in density\n",
    "\n",
    "# TODO: Analyze SPATIAL PATTERN in differences in matched features\n",
    "\n",
    "# TODO: Find a way to compare differences in density to matched features\n",
    "\n"
   ]
  },
  {
   "cell_type": "code",
   "execution_count": 2,
   "metadata": {},
   "outputs": [],
   "source": [
    "make_plots = True"
   ]
  }
 ],
 "metadata": {
  "kernelspec": {
   "display_name": "bikedna_analysis",
   "language": "python",
   "name": "python3"
  },
  "language_info": {
   "codemirror_mode": {
    "name": "ipython",
    "version": 3
   },
   "file_extension": ".py",
   "mimetype": "text/x-python",
   "name": "python",
   "nbconvert_exporter": "python",
   "pygments_lexer": "ipython3",
   "version": "3.11.0"
  },
  "orig_nbformat": 4
 },
 "nbformat": 4,
 "nbformat_minor": 2
}
