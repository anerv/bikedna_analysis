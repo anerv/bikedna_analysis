{
 "cells": [
  {
   "attachments": {},
   "cell_type": "markdown",
   "metadata": {},
   "source": [
    "# Analysis of extrinsic results\n",
    "\n",
    "TODO: Summary of extrinsic 3a and 3b?\n",
    "- everything in extrinsic summaries - read results, redo tables\n",
    "\n",
    "TODO: Analysis of spatial autocorrelation of:\n",
    "\n",
    "- differences in density\n",
    "- matched/unmatched features\n",
    "- connectivity\n",
    "- components per grid cell?\n",
    "\n",
    "TODO: Analysis of overlap between errors and differences.\n",
    "\n",
    "TODO: Analysis of correlation between high/low quality areas and pop density"
   ]
  },
  {
   "cell_type": "code",
   "execution_count": 1,
   "metadata": {},
   "outputs": [],
   "source": [
    "import geopandas as gpd\n",
    "import matplotlib.pyplot as plt\n",
    "import pickle\n",
    "import json\n",
    "import pandas as pd\n",
    "import seaborn as sns\n",
    "import plotly.express as px"
   ]
  },
  {
   "attachments": {},
   "cell_type": "markdown",
   "metadata": {},
   "source": [
    "## Differences per municipality"
   ]
  },
  {
   "cell_type": "code",
   "execution_count": 27,
   "metadata": {},
   "outputs": [],
   "source": [
    "# Load results of municipal analysis\n",
    "\n",
    "osm_muni = pd.read_csv(\"../results/osm_quality/muni_network_counts.csv\",index_col=False)\n",
    "ref_muni = pd.read_csv(\"../results/geodk_quality/muni_network_counts.csv\",index_col=False)\n",
    "\n",
    "osm_muni.set_index('navn',inplace=True)\n",
    "ref_muni.set_index('navn',inplace=True)\n",
    "\n",
    "osm_muni.fillna(0,inplace=True)\n",
    "ref_muni.fillna(0,inplace=True)\n",
    "\n",
    "# TODO: Compute components per km!\n",
    "# TODO: convert infra length to km?\n",
    "\n",
    "osm_muni['datasource'] = 'osm'\n",
    "ref_muni['datasource'] = 'ref'\n",
    "\n",
    "diffs = []\n",
    "\n",
    "for c in osm_muni.columns:\n",
    "    diff = osm_muni[c] - ref_muni[c]\n",
    "    diffs.append(diff)\n",
    "\n",
    "diff_df = pd.DataFrame(diffs).transpose()\n",
    "diff_df"
   ]
  },
  {
   "cell_type": "code",
   "execution_count": null,
   "metadata": {},
   "outputs": [],
   "source": [
    "diff_df.describe()"
   ]
  },
  {
   "cell_type": "code",
   "execution_count": 3,
   "metadata": {},
   "outputs": [
    {
     "data": {
      "text/html": [
       "<div>\n",
       "<style scoped>\n",
       "    .dataframe tbody tr th:only-of-type {\n",
       "        vertical-align: middle;\n",
       "    }\n",
       "\n",
       "    .dataframe tbody tr th {\n",
       "        vertical-align: top;\n",
       "    }\n",
       "\n",
       "    .dataframe thead tr th {\n",
       "        text-align: left;\n",
       "    }\n",
       "</style>\n",
       "<table border=\"1\" class=\"dataframe\">\n",
       "  <thead>\n",
       "    <tr>\n",
       "      <th></th>\n",
       "      <th colspan=\"2\" halign=\"left\">infrastructure_length</th>\n",
       "      <th colspan=\"2\" halign=\"left\">node_count</th>\n",
       "      <th colspan=\"2\" halign=\"left\">dangling_node_count</th>\n",
       "      <th colspan=\"2\" halign=\"left\">infra_km</th>\n",
       "      <th colspan=\"2\" halign=\"left\">infra_dens</th>\n",
       "      <th>...</th>\n",
       "      <th colspan=\"2\" halign=\"left\">overshoots</th>\n",
       "      <th colspan=\"2\" halign=\"left\">undershoots</th>\n",
       "      <th colspan=\"2\" halign=\"left\">over_under</th>\n",
       "      <th colspan=\"2\" halign=\"left\">component_gaps</th>\n",
       "      <th colspan=\"2\" halign=\"left\">component_count</th>\n",
       "    </tr>\n",
       "    <tr>\n",
       "      <th></th>\n",
       "      <th>self</th>\n",
       "      <th>other</th>\n",
       "      <th>self</th>\n",
       "      <th>other</th>\n",
       "      <th>self</th>\n",
       "      <th>other</th>\n",
       "      <th>self</th>\n",
       "      <th>other</th>\n",
       "      <th>self</th>\n",
       "      <th>other</th>\n",
       "      <th>...</th>\n",
       "      <th>self</th>\n",
       "      <th>other</th>\n",
       "      <th>self</th>\n",
       "      <th>other</th>\n",
       "      <th>self</th>\n",
       "      <th>other</th>\n",
       "      <th>self</th>\n",
       "      <th>other</th>\n",
       "      <th>self</th>\n",
       "      <th>other</th>\n",
       "    </tr>\n",
       "  </thead>\n",
       "  <tbody>\n",
       "    <tr>\n",
       "      <th>0</th>\n",
       "      <td>335114.384014</td>\n",
       "      <td>193541.697984</td>\n",
       "      <td>1238</td>\n",
       "      <td>1390</td>\n",
       "      <td>751</td>\n",
       "      <td>126</td>\n",
       "      <td>335.114</td>\n",
       "      <td>193.542</td>\n",
       "      <td>0.356</td>\n",
       "      <td>0.206</td>\n",
       "      <td>...</td>\n",
       "      <td>2.0</td>\n",
       "      <td>NaN</td>\n",
       "      <td>NaN</td>\n",
       "      <td>6.0</td>\n",
       "      <td>NaN</td>\n",
       "      <td>NaN</td>\n",
       "      <td>9.0</td>\n",
       "      <td>32.0</td>\n",
       "      <td>230.0</td>\n",
       "      <td>51.0</td>\n",
       "    </tr>\n",
       "    <tr>\n",
       "      <th>1</th>\n",
       "      <td>670714.668671</td>\n",
       "      <td>218764.628637</td>\n",
       "      <td>3708</td>\n",
       "      <td>1478</td>\n",
       "      <td>1841</td>\n",
       "      <td>306</td>\n",
       "      <td>670.715</td>\n",
       "      <td>218.765</td>\n",
       "      <td>0.589</td>\n",
       "      <td>0.192</td>\n",
       "      <td>...</td>\n",
       "      <td>2.0</td>\n",
       "      <td>NaN</td>\n",
       "      <td>8.0</td>\n",
       "      <td>12.0</td>\n",
       "      <td>10.0</td>\n",
       "      <td>0.0</td>\n",
       "      <td>41.0</td>\n",
       "      <td>66.0</td>\n",
       "      <td>444.0</td>\n",
       "      <td>102.0</td>\n",
       "    </tr>\n",
       "    <tr>\n",
       "      <th>2</th>\n",
       "      <td>937870.720797</td>\n",
       "      <td>240556.379891</td>\n",
       "      <td>5153</td>\n",
       "      <td>2097</td>\n",
       "      <td>2391</td>\n",
       "      <td>690</td>\n",
       "      <td>937.871</td>\n",
       "      <td>240.556</td>\n",
       "      <td>1.990</td>\n",
       "      <td>0.511</td>\n",
       "      <td>...</td>\n",
       "      <td>7.0</td>\n",
       "      <td>3.0</td>\n",
       "      <td>14.0</td>\n",
       "      <td>32.0</td>\n",
       "      <td>21.0</td>\n",
       "      <td>35.0</td>\n",
       "      <td>85.0</td>\n",
       "      <td>257.0</td>\n",
       "      <td>430.0</td>\n",
       "      <td>271.0</td>\n",
       "    </tr>\n",
       "    <tr>\n",
       "      <th>3</th>\n",
       "      <td>110961.318630</td>\n",
       "      <td>9893.782706</td>\n",
       "      <td>509</td>\n",
       "      <td>86</td>\n",
       "      <td>196</td>\n",
       "      <td>62</td>\n",
       "      <td>110.961</td>\n",
       "      <td>9.894</td>\n",
       "      <td>4.734</td>\n",
       "      <td>0.422</td>\n",
       "      <td>...</td>\n",
       "      <td>2.0</td>\n",
       "      <td>1.0</td>\n",
       "      <td>1.0</td>\n",
       "      <td>NaN</td>\n",
       "      <td>3.0</td>\n",
       "      <td>0.0</td>\n",
       "      <td>8.0</td>\n",
       "      <td>1.0</td>\n",
       "      <td>NaN</td>\n",
       "      <td>NaN</td>\n",
       "    </tr>\n",
       "    <tr>\n",
       "      <th>4</th>\n",
       "      <td>157756.329035</td>\n",
       "      <td>54391.846843</td>\n",
       "      <td>1150</td>\n",
       "      <td>297</td>\n",
       "      <td>512</td>\n",
       "      <td>69</td>\n",
       "      <td>157.756</td>\n",
       "      <td>54.392</td>\n",
       "      <td>2.340</td>\n",
       "      <td>0.807</td>\n",
       "      <td>...</td>\n",
       "      <td>2.0</td>\n",
       "      <td>1.0</td>\n",
       "      <td>5.0</td>\n",
       "      <td>4.0</td>\n",
       "      <td>7.0</td>\n",
       "      <td>5.0</td>\n",
       "      <td>23.0</td>\n",
       "      <td>32.0</td>\n",
       "      <td>86.0</td>\n",
       "      <td>30.0</td>\n",
       "    </tr>\n",
       "    <tr>\n",
       "      <th>...</th>\n",
       "      <td>...</td>\n",
       "      <td>...</td>\n",
       "      <td>...</td>\n",
       "      <td>...</td>\n",
       "      <td>...</td>\n",
       "      <td>...</td>\n",
       "      <td>...</td>\n",
       "      <td>...</td>\n",
       "      <td>...</td>\n",
       "      <td>...</td>\n",
       "      <td>...</td>\n",
       "      <td>...</td>\n",
       "      <td>...</td>\n",
       "      <td>...</td>\n",
       "      <td>...</td>\n",
       "      <td>...</td>\n",
       "      <td>...</td>\n",
       "      <td>...</td>\n",
       "      <td>...</td>\n",
       "      <td>...</td>\n",
       "      <td>...</td>\n",
       "    </tr>\n",
       "    <tr>\n",
       "      <th>93</th>\n",
       "      <td>453020.522640</td>\n",
       "      <td>203558.475958</td>\n",
       "      <td>2330</td>\n",
       "      <td>1002</td>\n",
       "      <td>1264</td>\n",
       "      <td>219</td>\n",
       "      <td>453.021</td>\n",
       "      <td>203.558</td>\n",
       "      <td>0.427</td>\n",
       "      <td>0.192</td>\n",
       "      <td>...</td>\n",
       "      <td>NaN</td>\n",
       "      <td>NaN</td>\n",
       "      <td>1.0</td>\n",
       "      <td>21.0</td>\n",
       "      <td>2.0</td>\n",
       "      <td>22.0</td>\n",
       "      <td>25.0</td>\n",
       "      <td>90.0</td>\n",
       "      <td>285.0</td>\n",
       "      <td>86.0</td>\n",
       "    </tr>\n",
       "    <tr>\n",
       "      <th>94</th>\n",
       "      <td>295317.880306</td>\n",
       "      <td>41079.393930</td>\n",
       "      <td>766</td>\n",
       "      <td>221</td>\n",
       "      <td>384</td>\n",
       "      <td>62</td>\n",
       "      <td>295.318</td>\n",
       "      <td>41.079</td>\n",
       "      <td>0.385</td>\n",
       "      <td>0.053</td>\n",
       "      <td>...</td>\n",
       "      <td>NaN</td>\n",
       "      <td>NaN</td>\n",
       "      <td>NaN</td>\n",
       "      <td>NaN</td>\n",
       "      <td>NaN</td>\n",
       "      <td>NaN</td>\n",
       "      <td>9.0</td>\n",
       "      <td>24.0</td>\n",
       "      <td>95.0</td>\n",
       "      <td>26.0</td>\n",
       "    </tr>\n",
       "    <tr>\n",
       "      <th>95</th>\n",
       "      <td>453235.159585</td>\n",
       "      <td>401855.089934</td>\n",
       "      <td>2277</td>\n",
       "      <td>1199</td>\n",
       "      <td>1147</td>\n",
       "      <td>256</td>\n",
       "      <td>453.235</td>\n",
       "      <td>401.855</td>\n",
       "      <td>0.319</td>\n",
       "      <td>0.283</td>\n",
       "      <td>...</td>\n",
       "      <td>5.0</td>\n",
       "      <td>1.0</td>\n",
       "      <td>NaN</td>\n",
       "      <td>4.0</td>\n",
       "      <td>0.0</td>\n",
       "      <td>5.0</td>\n",
       "      <td>18.0</td>\n",
       "      <td>127.0</td>\n",
       "      <td>298.0</td>\n",
       "      <td>112.0</td>\n",
       "    </tr>\n",
       "    <tr>\n",
       "      <th>96</th>\n",
       "      <td>180389.972247</td>\n",
       "      <td>75289.385711</td>\n",
       "      <td>602</td>\n",
       "      <td>363</td>\n",
       "      <td>324</td>\n",
       "      <td>109</td>\n",
       "      <td>180.390</td>\n",
       "      <td>75.289</td>\n",
       "      <td>0.289</td>\n",
       "      <td>0.120</td>\n",
       "      <td>...</td>\n",
       "      <td>NaN</td>\n",
       "      <td>NaN</td>\n",
       "      <td>NaN</td>\n",
       "      <td>6.0</td>\n",
       "      <td>NaN</td>\n",
       "      <td>NaN</td>\n",
       "      <td>10.0</td>\n",
       "      <td>73.0</td>\n",
       "      <td>92.0</td>\n",
       "      <td>54.0</td>\n",
       "    </tr>\n",
       "    <tr>\n",
       "      <th>97</th>\n",
       "      <td>15981.724117</td>\n",
       "      <td>6246.945147</td>\n",
       "      <td>34</td>\n",
       "      <td>48</td>\n",
       "      <td>16</td>\n",
       "      <td>2</td>\n",
       "      <td>15.982</td>\n",
       "      <td>6.247</td>\n",
       "      <td>0.178</td>\n",
       "      <td>0.070</td>\n",
       "      <td>...</td>\n",
       "      <td>NaN</td>\n",
       "      <td>NaN</td>\n",
       "      <td>NaN</td>\n",
       "      <td>NaN</td>\n",
       "      <td>NaN</td>\n",
       "      <td>NaN</td>\n",
       "      <td>1.0</td>\n",
       "      <td>0.0</td>\n",
       "      <td>8.0</td>\n",
       "      <td>3.0</td>\n",
       "    </tr>\n",
       "  </tbody>\n",
       "</table>\n",
       "<p>98 rows × 22 columns</p>\n",
       "</div>"
      ],
      "text/plain": [
       "   infrastructure_length                node_count       dangling_node_count  \\\n",
       "                    self          other       self other                self   \n",
       "0          335114.384014  193541.697984       1238  1390                 751   \n",
       "1          670714.668671  218764.628637       3708  1478                1841   \n",
       "2          937870.720797  240556.379891       5153  2097                2391   \n",
       "3          110961.318630    9893.782706        509    86                 196   \n",
       "4          157756.329035   54391.846843       1150   297                 512   \n",
       "..                   ...            ...        ...   ...                 ...   \n",
       "93         453020.522640  203558.475958       2330  1002                1264   \n",
       "94         295317.880306   41079.393930        766   221                 384   \n",
       "95         453235.159585  401855.089934       2277  1199                1147   \n",
       "96         180389.972247   75289.385711        602   363                 324   \n",
       "97          15981.724117    6246.945147         34    48                  16   \n",
       "\n",
       "         infra_km          infra_dens         ... overshoots        \\\n",
       "   other     self    other       self  other  ...       self other   \n",
       "0    126  335.114  193.542      0.356  0.206  ...        2.0   NaN   \n",
       "1    306  670.715  218.765      0.589  0.192  ...        2.0   NaN   \n",
       "2    690  937.871  240.556      1.990  0.511  ...        7.0   3.0   \n",
       "3     62  110.961    9.894      4.734  0.422  ...        2.0   1.0   \n",
       "4     69  157.756   54.392      2.340  0.807  ...        2.0   1.0   \n",
       "..   ...      ...      ...        ...    ...  ...        ...   ...   \n",
       "93   219  453.021  203.558      0.427  0.192  ...        NaN   NaN   \n",
       "94    62  295.318   41.079      0.385  0.053  ...        NaN   NaN   \n",
       "95   256  453.235  401.855      0.319  0.283  ...        5.0   1.0   \n",
       "96   109  180.390   75.289      0.289  0.120  ...        NaN   NaN   \n",
       "97     2   15.982    6.247      0.178  0.070  ...        NaN   NaN   \n",
       "\n",
       "   undershoots       over_under       component_gaps        component_count  \\\n",
       "          self other       self other           self  other            self   \n",
       "0          NaN   6.0        NaN   NaN            9.0   32.0           230.0   \n",
       "1          8.0  12.0       10.0   0.0           41.0   66.0           444.0   \n",
       "2         14.0  32.0       21.0  35.0           85.0  257.0           430.0   \n",
       "3          1.0   NaN        3.0   0.0            8.0    1.0             NaN   \n",
       "4          5.0   4.0        7.0   5.0           23.0   32.0            86.0   \n",
       "..         ...   ...        ...   ...            ...    ...             ...   \n",
       "93         1.0  21.0        2.0  22.0           25.0   90.0           285.0   \n",
       "94         NaN   NaN        NaN   NaN            9.0   24.0            95.0   \n",
       "95         NaN   4.0        0.0   5.0           18.0  127.0           298.0   \n",
       "96         NaN   6.0        NaN   NaN           10.0   73.0            92.0   \n",
       "97         NaN   NaN        NaN   NaN            1.0    0.0             8.0   \n",
       "\n",
       "           \n",
       "    other  \n",
       "0    51.0  \n",
       "1   102.0  \n",
       "2   271.0  \n",
       "3     NaN  \n",
       "4    30.0  \n",
       "..    ...  \n",
       "93   86.0  \n",
       "94   26.0  \n",
       "95  112.0  \n",
       "96   54.0  \n",
       "97    3.0  \n",
       "\n",
       "[98 rows x 22 columns]"
      ]
     },
     "execution_count": 3,
     "metadata": {},
     "output_type": "execute_result"
    }
   ],
   "source": [
    "osm_muni.compare(ref_muni)"
   ]
  },
  {
   "cell_type": "code",
   "execution_count": 32,
   "metadata": {},
   "outputs": [
    {
     "data": {
      "text/html": [
       "<div>\n",
       "<style scoped>\n",
       "    .dataframe tbody tr th:only-of-type {\n",
       "        vertical-align: middle;\n",
       "    }\n",
       "\n",
       "    .dataframe tbody tr th {\n",
       "        vertical-align: top;\n",
       "    }\n",
       "\n",
       "    .dataframe thead th {\n",
       "        text-align: right;\n",
       "    }\n",
       "</style>\n",
       "<table border=\"1\" class=\"dataframe\">\n",
       "  <thead>\n",
       "    <tr style=\"text-align: right;\">\n",
       "      <th></th>\n",
       "      <th>navn</th>\n",
       "      <th>infrastructure_length</th>\n",
       "      <th>node_count</th>\n",
       "      <th>dangling_node_count</th>\n",
       "      <th>infra_km</th>\n",
       "      <th>area_sqkm</th>\n",
       "      <th>infra_dens</th>\n",
       "      <th>pop</th>\n",
       "      <th>infra_pop</th>\n",
       "      <th>overshoots</th>\n",
       "      <th>undershoots</th>\n",
       "      <th>over_under</th>\n",
       "      <th>component_gaps</th>\n",
       "      <th>component_count</th>\n",
       "      <th>datasource</th>\n",
       "    </tr>\n",
       "  </thead>\n",
       "  <tbody>\n",
       "    <tr>\n",
       "      <th>0</th>\n",
       "      <td>Aabenraa</td>\n",
       "      <td>335114.384014</td>\n",
       "      <td>1238</td>\n",
       "      <td>751</td>\n",
       "      <td>335.114</td>\n",
       "      <td>940.61</td>\n",
       "      <td>0.356</td>\n",
       "      <td>59002</td>\n",
       "      <td>5.679706</td>\n",
       "      <td>2.0</td>\n",
       "      <td>0.0</td>\n",
       "      <td>0.0</td>\n",
       "      <td>9</td>\n",
       "      <td>230</td>\n",
       "      <td>osm</td>\n",
       "    </tr>\n",
       "    <tr>\n",
       "      <th>1</th>\n",
       "      <td>Aalborg</td>\n",
       "      <td>670714.668671</td>\n",
       "      <td>3708</td>\n",
       "      <td>1841</td>\n",
       "      <td>670.715</td>\n",
       "      <td>1138.00</td>\n",
       "      <td>0.589</td>\n",
       "      <td>222571</td>\n",
       "      <td>3.013488</td>\n",
       "      <td>2.0</td>\n",
       "      <td>8.0</td>\n",
       "      <td>10.0</td>\n",
       "      <td>41</td>\n",
       "      <td>444</td>\n",
       "      <td>osm</td>\n",
       "    </tr>\n",
       "    <tr>\n",
       "      <th>2</th>\n",
       "      <td>Aarhus</td>\n",
       "      <td>937870.720797</td>\n",
       "      <td>5153</td>\n",
       "      <td>2391</td>\n",
       "      <td>937.871</td>\n",
       "      <td>471.20</td>\n",
       "      <td>1.990</td>\n",
       "      <td>361544</td>\n",
       "      <td>2.594072</td>\n",
       "      <td>7.0</td>\n",
       "      <td>14.0</td>\n",
       "      <td>21.0</td>\n",
       "      <td>85</td>\n",
       "      <td>430</td>\n",
       "      <td>osm</td>\n",
       "    </tr>\n",
       "    <tr>\n",
       "      <th>3</th>\n",
       "      <td>Albertslund</td>\n",
       "      <td>110961.318630</td>\n",
       "      <td>509</td>\n",
       "      <td>196</td>\n",
       "      <td>110.961</td>\n",
       "      <td>23.44</td>\n",
       "      <td>4.734</td>\n",
       "      <td>27530</td>\n",
       "      <td>4.030548</td>\n",
       "      <td>2.0</td>\n",
       "      <td>1.0</td>\n",
       "      <td>3.0</td>\n",
       "      <td>8</td>\n",
       "      <td>30</td>\n",
       "      <td>osm</td>\n",
       "    </tr>\n",
       "    <tr>\n",
       "      <th>4</th>\n",
       "      <td>Allerød</td>\n",
       "      <td>157756.329035</td>\n",
       "      <td>1150</td>\n",
       "      <td>512</td>\n",
       "      <td>157.756</td>\n",
       "      <td>67.43</td>\n",
       "      <td>2.340</td>\n",
       "      <td>26061</td>\n",
       "      <td>6.053336</td>\n",
       "      <td>2.0</td>\n",
       "      <td>5.0</td>\n",
       "      <td>7.0</td>\n",
       "      <td>23</td>\n",
       "      <td>86</td>\n",
       "      <td>osm</td>\n",
       "    </tr>\n",
       "    <tr>\n",
       "      <th>...</th>\n",
       "      <td>...</td>\n",
       "      <td>...</td>\n",
       "      <td>...</td>\n",
       "      <td>...</td>\n",
       "      <td>...</td>\n",
       "      <td>...</td>\n",
       "      <td>...</td>\n",
       "      <td>...</td>\n",
       "      <td>...</td>\n",
       "      <td>...</td>\n",
       "      <td>...</td>\n",
       "      <td>...</td>\n",
       "      <td>...</td>\n",
       "      <td>...</td>\n",
       "      <td>...</td>\n",
       "    </tr>\n",
       "    <tr>\n",
       "      <th>93</th>\n",
       "      <td>Vejle</td>\n",
       "      <td>203558.475958</td>\n",
       "      <td>1002</td>\n",
       "      <td>219</td>\n",
       "      <td>203.558</td>\n",
       "      <td>1061.61</td>\n",
       "      <td>0.192</td>\n",
       "      <td>120949</td>\n",
       "      <td>1.683007</td>\n",
       "      <td>1.0</td>\n",
       "      <td>21.0</td>\n",
       "      <td>22.0</td>\n",
       "      <td>90</td>\n",
       "      <td>86</td>\n",
       "      <td>ref</td>\n",
       "    </tr>\n",
       "    <tr>\n",
       "      <th>94</th>\n",
       "      <td>Vesthimmerlands</td>\n",
       "      <td>41079.393930</td>\n",
       "      <td>221</td>\n",
       "      <td>62</td>\n",
       "      <td>41.079</td>\n",
       "      <td>768.04</td>\n",
       "      <td>0.053</td>\n",
       "      <td>36431</td>\n",
       "      <td>1.127584</td>\n",
       "      <td>0.0</td>\n",
       "      <td>0.0</td>\n",
       "      <td>0.0</td>\n",
       "      <td>24</td>\n",
       "      <td>26</td>\n",
       "      <td>ref</td>\n",
       "    </tr>\n",
       "    <tr>\n",
       "      <th>95</th>\n",
       "      <td>Viborg</td>\n",
       "      <td>401855.089934</td>\n",
       "      <td>1199</td>\n",
       "      <td>256</td>\n",
       "      <td>401.855</td>\n",
       "      <td>1421.26</td>\n",
       "      <td>0.283</td>\n",
       "      <td>97731</td>\n",
       "      <td>4.111848</td>\n",
       "      <td>1.0</td>\n",
       "      <td>4.0</td>\n",
       "      <td>5.0</td>\n",
       "      <td>127</td>\n",
       "      <td>112</td>\n",
       "      <td>ref</td>\n",
       "    </tr>\n",
       "    <tr>\n",
       "      <th>96</th>\n",
       "      <td>Vordingborg</td>\n",
       "      <td>75289.385711</td>\n",
       "      <td>363</td>\n",
       "      <td>109</td>\n",
       "      <td>75.289</td>\n",
       "      <td>625.26</td>\n",
       "      <td>0.120</td>\n",
       "      <td>45441</td>\n",
       "      <td>1.656852</td>\n",
       "      <td>0.0</td>\n",
       "      <td>6.0</td>\n",
       "      <td>0.0</td>\n",
       "      <td>73</td>\n",
       "      <td>54</td>\n",
       "      <td>ref</td>\n",
       "    </tr>\n",
       "    <tr>\n",
       "      <th>97</th>\n",
       "      <td>Ærø</td>\n",
       "      <td>6246.945147</td>\n",
       "      <td>48</td>\n",
       "      <td>2</td>\n",
       "      <td>6.247</td>\n",
       "      <td>89.77</td>\n",
       "      <td>0.070</td>\n",
       "      <td>6008</td>\n",
       "      <td>1.039780</td>\n",
       "      <td>0.0</td>\n",
       "      <td>0.0</td>\n",
       "      <td>0.0</td>\n",
       "      <td>0</td>\n",
       "      <td>3</td>\n",
       "      <td>ref</td>\n",
       "    </tr>\n",
       "  </tbody>\n",
       "</table>\n",
       "<p>196 rows × 15 columns</p>\n",
       "</div>"
      ],
      "text/plain": [
       "               navn  infrastructure_length  node_count  dangling_node_count  \\\n",
       "0          Aabenraa          335114.384014        1238                  751   \n",
       "1           Aalborg          670714.668671        3708                 1841   \n",
       "2            Aarhus          937870.720797        5153                 2391   \n",
       "3       Albertslund          110961.318630         509                  196   \n",
       "4           Allerød          157756.329035        1150                  512   \n",
       "..              ...                    ...         ...                  ...   \n",
       "93            Vejle          203558.475958        1002                  219   \n",
       "94  Vesthimmerlands           41079.393930         221                   62   \n",
       "95           Viborg          401855.089934        1199                  256   \n",
       "96      Vordingborg           75289.385711         363                  109   \n",
       "97              Ærø            6246.945147          48                    2   \n",
       "\n",
       "    infra_km  area_sqkm  infra_dens     pop  infra_pop  overshoots  \\\n",
       "0    335.114     940.61       0.356   59002   5.679706         2.0   \n",
       "1    670.715    1138.00       0.589  222571   3.013488         2.0   \n",
       "2    937.871     471.20       1.990  361544   2.594072         7.0   \n",
       "3    110.961      23.44       4.734   27530   4.030548         2.0   \n",
       "4    157.756      67.43       2.340   26061   6.053336         2.0   \n",
       "..       ...        ...         ...     ...        ...         ...   \n",
       "93   203.558    1061.61       0.192  120949   1.683007         1.0   \n",
       "94    41.079     768.04       0.053   36431   1.127584         0.0   \n",
       "95   401.855    1421.26       0.283   97731   4.111848         1.0   \n",
       "96    75.289     625.26       0.120   45441   1.656852         0.0   \n",
       "97     6.247      89.77       0.070    6008   1.039780         0.0   \n",
       "\n",
       "    undershoots  over_under  component_gaps  component_count datasource  \n",
       "0           0.0         0.0               9              230        osm  \n",
       "1           8.0        10.0              41              444        osm  \n",
       "2          14.0        21.0              85              430        osm  \n",
       "3           1.0         3.0               8               30        osm  \n",
       "4           5.0         7.0              23               86        osm  \n",
       "..          ...         ...             ...              ...        ...  \n",
       "93         21.0        22.0              90               86        ref  \n",
       "94          0.0         0.0              24               26        ref  \n",
       "95          4.0         5.0             127              112        ref  \n",
       "96          6.0         0.0              73               54        ref  \n",
       "97          0.0         0.0               0                3        ref  \n",
       "\n",
       "[196 rows x 15 columns]"
      ]
     },
     "execution_count": 32,
     "metadata": {},
     "output_type": "execute_result"
    }
   ],
   "source": [
    "combined = pd.concat([osm_muni.reset_index(), ref_muni.reset_index()])\n",
    "\n",
    "px.violin(combined, x='datasource', y='infrastructure_length')"
   ]
  },
  {
   "cell_type": "code",
   "execution_count": 40,
   "metadata": {},
   "outputs": [
    {
     "data": {
      "application/vnd.plotly.v1+json": {
       "config": {
        "plotlyServerURL": "https://plot.ly"
       },
       "data": [
        {
         "alignmentgroup": "True",
         "hovertemplate": "navn=%{x}<br>infrastructure_length=%{y}<extra></extra>",
         "legendgroup": "",
         "marker": {
          "color": "#636efa",
          "pattern": {
           "shape": ""
          }
         },
         "name": "",
         "offsetgroup": "",
         "orientation": "v",
         "showlegend": false,
         "textposition": "auto",
         "type": "bar",
         "x": [
          "Aabenraa",
          "Aalborg",
          "Aarhus",
          "Albertslund",
          "Allerød",
          "Assens",
          "Ballerup",
          "Billund",
          "Bornholm",
          "Brøndby",
          "Brønderslev",
          "Dragør",
          "Egedal",
          "Esbjerg",
          "Faaborg-Midtfyn",
          "Fanø",
          "Favrskov",
          "Faxe",
          "Fredensborg",
          "Fredericia",
          "Frederiksberg",
          "Frederikshavn",
          "Frederikssund",
          "Furesø",
          "Gentofte",
          "Gladsaxe",
          "Glostrup",
          "Greve",
          "Gribskov",
          "Guldborgsund",
          "Haderslev",
          "Halsnæs",
          "Hedensted",
          "Helsingør",
          "Herlev",
          "Herning",
          "Hillerød",
          "Hjørring",
          "Holbæk",
          "Holstebro",
          "Horsens",
          "Hvidovre",
          "Høje-Taastrup",
          "Hørsholm",
          "Ikast-Brande",
          "Ishøj",
          "Jammerbugt",
          "Kalundborg",
          "Kerteminde",
          "Kolding",
          "København",
          "Køge",
          "Langeland",
          "Lejre",
          "Lemvig",
          "Lolland",
          "Lyngby-Taarbæk",
          "Læsø",
          "Mariagerfjord",
          "Middelfart",
          "Morsø",
          "Norddjurs",
          "Nordfyns",
          "Nyborg",
          "Næstved",
          "Odder",
          "Odense",
          "Odsherred",
          "Randers",
          "Rebild",
          "Ringkøbing-Skjern",
          "Ringsted",
          "Roskilde",
          "Rudersdal",
          "Rødovre",
          "Samsø",
          "Silkeborg",
          "Skanderborg",
          "Skive",
          "Slagelse",
          "Solrød",
          "Sorø",
          "Stevns",
          "Struer",
          "Svendborg",
          "Syddjurs",
          "Sønderborg",
          "Thisted",
          "Tårnby",
          "Tønder",
          "Vallensbæk",
          "Varde",
          "Vejen",
          "Vejle",
          "Vesthimmerlands",
          "Viborg",
          "Vordingborg",
          "Ærø"
         ],
         "xaxis": "x",
         "y": [
          141572.68603047714,
          451950.04003379785,
          697314.3409060145,
          101067.53592418577,
          103364.48219145974,
          -91721.44218641052,
          128710.04467422164,
          142983.95342928314,
          107540.3421448211,
          91937.4736283224,
          167700.01135065727,
          32057.082018977326,
          183882.0649445229,
          306614.18943266355,
          22062.708560630796,
          20978.5384753623,
          184969.48672306826,
          28192.045356373797,
          139056.4295919032,
          50546.58716991049,
          11045.574842289367,
          230350.6536922778,
          176428.2272263488,
          121814.7862958835,
          28566.53363922634,
          44578.31007028482,
          60896.29216124759,
          142359.95636377748,
          104423.88036089727,
          176074.40141522067,
          191375.42155067262,
          14236.400352696495,
          165877.47237978055,
          137541.60654287643,
          32154.67753714766,
          243645.14873474752,
          203008.75452911502,
          255467.68271343329,
          124891.39319049151,
          191201.47226045132,
          178755.98323464542,
          92729.42570618103,
          130628.59988073773,
          65838.70952354811,
          151206.2391933981,
          54499.016192252166,
          197360.31529399232,
          85991.45334708689,
          36162.63344343671,
          207475.44790881668,
          154189.8167632757,
          218623.45520687956,
          -6285.275745828127,
          169564.45796392736,
          48898.883738468285,
          104617.00283438341,
          87728.73406733361,
          27860.103482745624,
          94702.1727914425,
          42471.70522246476,
          11908.679848323589,
          43327.9123863286,
          41196.9935593261,
          75832.54544039823,
          275098.9815801701,
          98338.66094455248,
          298075.9685294388,
          14232.968332042234,
          141667.50752957744,
          134862.64256910118,
          293676.3537360152,
          150686.98598321906,
          199368.81203866407,
          102302.57165025092,
          32722.32335318735,
          33346.56126942269,
          346002.7994633877,
          210847.1793770451,
          2769.7723471294157,
          232611.5299599177,
          50242.481133569476,
          80840.6503480802,
          68544.96191039572,
          58739.58935076764,
          21438.875650023227,
          122040.71672977493,
          339521.1093092819,
          96710.39850942728,
          28052.807788969192,
          114399.37406760608,
          59369.165902431356,
          264158.19732616254,
          81424.96537846886,
          249462.04668137373,
          254238.48637566826,
          51380.06965113664,
          105100.58653599353,
          9734.77896985209
         ],
         "yaxis": "y"
        }
       ],
       "layout": {
        "barmode": "relative",
        "legend": {
         "tracegroupgap": 0
        },
        "margin": {
         "t": 60
        },
        "template": {
         "data": {
          "bar": [
           {
            "error_x": {
             "color": "#2a3f5f"
            },
            "error_y": {
             "color": "#2a3f5f"
            },
            "marker": {
             "line": {
              "color": "#E5ECF6",
              "width": 0.5
             },
             "pattern": {
              "fillmode": "overlay",
              "size": 10,
              "solidity": 0.2
             }
            },
            "type": "bar"
           }
          ],
          "barpolar": [
           {
            "marker": {
             "line": {
              "color": "#E5ECF6",
              "width": 0.5
             },
             "pattern": {
              "fillmode": "overlay",
              "size": 10,
              "solidity": 0.2
             }
            },
            "type": "barpolar"
           }
          ],
          "carpet": [
           {
            "aaxis": {
             "endlinecolor": "#2a3f5f",
             "gridcolor": "white",
             "linecolor": "white",
             "minorgridcolor": "white",
             "startlinecolor": "#2a3f5f"
            },
            "baxis": {
             "endlinecolor": "#2a3f5f",
             "gridcolor": "white",
             "linecolor": "white",
             "minorgridcolor": "white",
             "startlinecolor": "#2a3f5f"
            },
            "type": "carpet"
           }
          ],
          "choropleth": [
           {
            "colorbar": {
             "outlinewidth": 0,
             "ticks": ""
            },
            "type": "choropleth"
           }
          ],
          "contour": [
           {
            "colorbar": {
             "outlinewidth": 0,
             "ticks": ""
            },
            "colorscale": [
             [
              0,
              "#0d0887"
             ],
             [
              0.1111111111111111,
              "#46039f"
             ],
             [
              0.2222222222222222,
              "#7201a8"
             ],
             [
              0.3333333333333333,
              "#9c179e"
             ],
             [
              0.4444444444444444,
              "#bd3786"
             ],
             [
              0.5555555555555556,
              "#d8576b"
             ],
             [
              0.6666666666666666,
              "#ed7953"
             ],
             [
              0.7777777777777778,
              "#fb9f3a"
             ],
             [
              0.8888888888888888,
              "#fdca26"
             ],
             [
              1,
              "#f0f921"
             ]
            ],
            "type": "contour"
           }
          ],
          "contourcarpet": [
           {
            "colorbar": {
             "outlinewidth": 0,
             "ticks": ""
            },
            "type": "contourcarpet"
           }
          ],
          "heatmap": [
           {
            "colorbar": {
             "outlinewidth": 0,
             "ticks": ""
            },
            "colorscale": [
             [
              0,
              "#0d0887"
             ],
             [
              0.1111111111111111,
              "#46039f"
             ],
             [
              0.2222222222222222,
              "#7201a8"
             ],
             [
              0.3333333333333333,
              "#9c179e"
             ],
             [
              0.4444444444444444,
              "#bd3786"
             ],
             [
              0.5555555555555556,
              "#d8576b"
             ],
             [
              0.6666666666666666,
              "#ed7953"
             ],
             [
              0.7777777777777778,
              "#fb9f3a"
             ],
             [
              0.8888888888888888,
              "#fdca26"
             ],
             [
              1,
              "#f0f921"
             ]
            ],
            "type": "heatmap"
           }
          ],
          "heatmapgl": [
           {
            "colorbar": {
             "outlinewidth": 0,
             "ticks": ""
            },
            "colorscale": [
             [
              0,
              "#0d0887"
             ],
             [
              0.1111111111111111,
              "#46039f"
             ],
             [
              0.2222222222222222,
              "#7201a8"
             ],
             [
              0.3333333333333333,
              "#9c179e"
             ],
             [
              0.4444444444444444,
              "#bd3786"
             ],
             [
              0.5555555555555556,
              "#d8576b"
             ],
             [
              0.6666666666666666,
              "#ed7953"
             ],
             [
              0.7777777777777778,
              "#fb9f3a"
             ],
             [
              0.8888888888888888,
              "#fdca26"
             ],
             [
              1,
              "#f0f921"
             ]
            ],
            "type": "heatmapgl"
           }
          ],
          "histogram": [
           {
            "marker": {
             "pattern": {
              "fillmode": "overlay",
              "size": 10,
              "solidity": 0.2
             }
            },
            "type": "histogram"
           }
          ],
          "histogram2d": [
           {
            "colorbar": {
             "outlinewidth": 0,
             "ticks": ""
            },
            "colorscale": [
             [
              0,
              "#0d0887"
             ],
             [
              0.1111111111111111,
              "#46039f"
             ],
             [
              0.2222222222222222,
              "#7201a8"
             ],
             [
              0.3333333333333333,
              "#9c179e"
             ],
             [
              0.4444444444444444,
              "#bd3786"
             ],
             [
              0.5555555555555556,
              "#d8576b"
             ],
             [
              0.6666666666666666,
              "#ed7953"
             ],
             [
              0.7777777777777778,
              "#fb9f3a"
             ],
             [
              0.8888888888888888,
              "#fdca26"
             ],
             [
              1,
              "#f0f921"
             ]
            ],
            "type": "histogram2d"
           }
          ],
          "histogram2dcontour": [
           {
            "colorbar": {
             "outlinewidth": 0,
             "ticks": ""
            },
            "colorscale": [
             [
              0,
              "#0d0887"
             ],
             [
              0.1111111111111111,
              "#46039f"
             ],
             [
              0.2222222222222222,
              "#7201a8"
             ],
             [
              0.3333333333333333,
              "#9c179e"
             ],
             [
              0.4444444444444444,
              "#bd3786"
             ],
             [
              0.5555555555555556,
              "#d8576b"
             ],
             [
              0.6666666666666666,
              "#ed7953"
             ],
             [
              0.7777777777777778,
              "#fb9f3a"
             ],
             [
              0.8888888888888888,
              "#fdca26"
             ],
             [
              1,
              "#f0f921"
             ]
            ],
            "type": "histogram2dcontour"
           }
          ],
          "mesh3d": [
           {
            "colorbar": {
             "outlinewidth": 0,
             "ticks": ""
            },
            "type": "mesh3d"
           }
          ],
          "parcoords": [
           {
            "line": {
             "colorbar": {
              "outlinewidth": 0,
              "ticks": ""
             }
            },
            "type": "parcoords"
           }
          ],
          "pie": [
           {
            "automargin": true,
            "type": "pie"
           }
          ],
          "scatter": [
           {
            "fillpattern": {
             "fillmode": "overlay",
             "size": 10,
             "solidity": 0.2
            },
            "type": "scatter"
           }
          ],
          "scatter3d": [
           {
            "line": {
             "colorbar": {
              "outlinewidth": 0,
              "ticks": ""
             }
            },
            "marker": {
             "colorbar": {
              "outlinewidth": 0,
              "ticks": ""
             }
            },
            "type": "scatter3d"
           }
          ],
          "scattercarpet": [
           {
            "marker": {
             "colorbar": {
              "outlinewidth": 0,
              "ticks": ""
             }
            },
            "type": "scattercarpet"
           }
          ],
          "scattergeo": [
           {
            "marker": {
             "colorbar": {
              "outlinewidth": 0,
              "ticks": ""
             }
            },
            "type": "scattergeo"
           }
          ],
          "scattergl": [
           {
            "marker": {
             "colorbar": {
              "outlinewidth": 0,
              "ticks": ""
             }
            },
            "type": "scattergl"
           }
          ],
          "scattermapbox": [
           {
            "marker": {
             "colorbar": {
              "outlinewidth": 0,
              "ticks": ""
             }
            },
            "type": "scattermapbox"
           }
          ],
          "scatterpolar": [
           {
            "marker": {
             "colorbar": {
              "outlinewidth": 0,
              "ticks": ""
             }
            },
            "type": "scatterpolar"
           }
          ],
          "scatterpolargl": [
           {
            "marker": {
             "colorbar": {
              "outlinewidth": 0,
              "ticks": ""
             }
            },
            "type": "scatterpolargl"
           }
          ],
          "scatterternary": [
           {
            "marker": {
             "colorbar": {
              "outlinewidth": 0,
              "ticks": ""
             }
            },
            "type": "scatterternary"
           }
          ],
          "surface": [
           {
            "colorbar": {
             "outlinewidth": 0,
             "ticks": ""
            },
            "colorscale": [
             [
              0,
              "#0d0887"
             ],
             [
              0.1111111111111111,
              "#46039f"
             ],
             [
              0.2222222222222222,
              "#7201a8"
             ],
             [
              0.3333333333333333,
              "#9c179e"
             ],
             [
              0.4444444444444444,
              "#bd3786"
             ],
             [
              0.5555555555555556,
              "#d8576b"
             ],
             [
              0.6666666666666666,
              "#ed7953"
             ],
             [
              0.7777777777777778,
              "#fb9f3a"
             ],
             [
              0.8888888888888888,
              "#fdca26"
             ],
             [
              1,
              "#f0f921"
             ]
            ],
            "type": "surface"
           }
          ],
          "table": [
           {
            "cells": {
             "fill": {
              "color": "#EBF0F8"
             },
             "line": {
              "color": "white"
             }
            },
            "header": {
             "fill": {
              "color": "#C8D4E3"
             },
             "line": {
              "color": "white"
             }
            },
            "type": "table"
           }
          ]
         },
         "layout": {
          "annotationdefaults": {
           "arrowcolor": "#2a3f5f",
           "arrowhead": 0,
           "arrowwidth": 1
          },
          "autotypenumbers": "strict",
          "coloraxis": {
           "colorbar": {
            "outlinewidth": 0,
            "ticks": ""
           }
          },
          "colorscale": {
           "diverging": [
            [
             0,
             "#8e0152"
            ],
            [
             0.1,
             "#c51b7d"
            ],
            [
             0.2,
             "#de77ae"
            ],
            [
             0.3,
             "#f1b6da"
            ],
            [
             0.4,
             "#fde0ef"
            ],
            [
             0.5,
             "#f7f7f7"
            ],
            [
             0.6,
             "#e6f5d0"
            ],
            [
             0.7,
             "#b8e186"
            ],
            [
             0.8,
             "#7fbc41"
            ],
            [
             0.9,
             "#4d9221"
            ],
            [
             1,
             "#276419"
            ]
           ],
           "sequential": [
            [
             0,
             "#0d0887"
            ],
            [
             0.1111111111111111,
             "#46039f"
            ],
            [
             0.2222222222222222,
             "#7201a8"
            ],
            [
             0.3333333333333333,
             "#9c179e"
            ],
            [
             0.4444444444444444,
             "#bd3786"
            ],
            [
             0.5555555555555556,
             "#d8576b"
            ],
            [
             0.6666666666666666,
             "#ed7953"
            ],
            [
             0.7777777777777778,
             "#fb9f3a"
            ],
            [
             0.8888888888888888,
             "#fdca26"
            ],
            [
             1,
             "#f0f921"
            ]
           ],
           "sequentialminus": [
            [
             0,
             "#0d0887"
            ],
            [
             0.1111111111111111,
             "#46039f"
            ],
            [
             0.2222222222222222,
             "#7201a8"
            ],
            [
             0.3333333333333333,
             "#9c179e"
            ],
            [
             0.4444444444444444,
             "#bd3786"
            ],
            [
             0.5555555555555556,
             "#d8576b"
            ],
            [
             0.6666666666666666,
             "#ed7953"
            ],
            [
             0.7777777777777778,
             "#fb9f3a"
            ],
            [
             0.8888888888888888,
             "#fdca26"
            ],
            [
             1,
             "#f0f921"
            ]
           ]
          },
          "colorway": [
           "#636efa",
           "#EF553B",
           "#00cc96",
           "#ab63fa",
           "#FFA15A",
           "#19d3f3",
           "#FF6692",
           "#B6E880",
           "#FF97FF",
           "#FECB52"
          ],
          "font": {
           "color": "#2a3f5f"
          },
          "geo": {
           "bgcolor": "white",
           "lakecolor": "white",
           "landcolor": "#E5ECF6",
           "showlakes": true,
           "showland": true,
           "subunitcolor": "white"
          },
          "hoverlabel": {
           "align": "left"
          },
          "hovermode": "closest",
          "mapbox": {
           "style": "light"
          },
          "paper_bgcolor": "white",
          "plot_bgcolor": "#E5ECF6",
          "polar": {
           "angularaxis": {
            "gridcolor": "white",
            "linecolor": "white",
            "ticks": ""
           },
           "bgcolor": "#E5ECF6",
           "radialaxis": {
            "gridcolor": "white",
            "linecolor": "white",
            "ticks": ""
           }
          },
          "scene": {
           "xaxis": {
            "backgroundcolor": "#E5ECF6",
            "gridcolor": "white",
            "gridwidth": 2,
            "linecolor": "white",
            "showbackground": true,
            "ticks": "",
            "zerolinecolor": "white"
           },
           "yaxis": {
            "backgroundcolor": "#E5ECF6",
            "gridcolor": "white",
            "gridwidth": 2,
            "linecolor": "white",
            "showbackground": true,
            "ticks": "",
            "zerolinecolor": "white"
           },
           "zaxis": {
            "backgroundcolor": "#E5ECF6",
            "gridcolor": "white",
            "gridwidth": 2,
            "linecolor": "white",
            "showbackground": true,
            "ticks": "",
            "zerolinecolor": "white"
           }
          },
          "shapedefaults": {
           "line": {
            "color": "#2a3f5f"
           }
          },
          "ternary": {
           "aaxis": {
            "gridcolor": "white",
            "linecolor": "white",
            "ticks": ""
           },
           "baxis": {
            "gridcolor": "white",
            "linecolor": "white",
            "ticks": ""
           },
           "bgcolor": "#E5ECF6",
           "caxis": {
            "gridcolor": "white",
            "linecolor": "white",
            "ticks": ""
           }
          },
          "title": {
           "x": 0.05
          },
          "xaxis": {
           "automargin": true,
           "gridcolor": "white",
           "linecolor": "white",
           "ticks": "",
           "title": {
            "standoff": 15
           },
           "zerolinecolor": "white",
           "zerolinewidth": 2
          },
          "yaxis": {
           "automargin": true,
           "gridcolor": "white",
           "linecolor": "white",
           "ticks": "",
           "title": {
            "standoff": 15
           },
           "zerolinecolor": "white",
           "zerolinewidth": 2
          }
         }
        },
        "xaxis": {
         "anchor": "y",
         "domain": [
          0,
          1
         ],
         "title": {
          "text": "navn"
         }
        },
        "yaxis": {
         "anchor": "x",
         "domain": [
          0,
          1
         ],
         "title": {
          "text": "infrastructure_length"
         }
        }
       }
      }
     },
     "metadata": {},
     "output_type": "display_data"
    }
   ],
   "source": [
    "px.bar(diff_df, y='infrastructure_length', x=diff_df.index)"
   ]
  },
  {
   "cell_type": "code",
   "execution_count": null,
   "metadata": {},
   "outputs": [],
   "source": [
    "# TODO; Make a new dataframe - all the differences\n",
    "\n",
    "# TODO: Make a new dataframe - pct differences\n",
    "\n",
    "# TODO: compare ranks?\n",
    "\n",
    "# TODO: Plot correlation between diff"
   ]
  }
 ],
 "metadata": {
  "kernelspec": {
   "display_name": "bikedna_analysis",
   "language": "python",
   "name": "python3"
  },
  "language_info": {
   "codemirror_mode": {
    "name": "ipython",
    "version": 3
   },
   "file_extension": ".py",
   "mimetype": "text/x-python",
   "name": "python",
   "nbconvert_exporter": "python",
   "pygments_lexer": "ipython3",
   "version": "3.11.0"
  },
  "orig_nbformat": 4
 },
 "nbformat": 4,
 "nbformat_minor": 2
}
